{
 "cells": [
  {
   "cell_type": "code",
   "execution_count": 10,
   "metadata": {
    "collapsed": true
   },
   "outputs": [],
   "source": [
    "import pandas as pd"
   ]
  },
  {
   "cell_type": "code",
   "execution_count": 11,
   "metadata": {
    "collapsed": true
   },
   "outputs": [],
   "source": [
    "df = pd.read_csv('data/lab5warmupdata.txt', delimiter='\\t')"
   ]
  },
  {
   "cell_type": "code",
   "execution_count": 12,
   "metadata": {
    "collapsed": false
   },
   "outputs": [
    {
     "name": "stdout",
     "output_type": "stream",
     "text": [
      "<class 'pandas.core.frame.DataFrame'>\n",
      "Int64Index: 41 entries, 0 to 40\n",
      "Data columns (total 2 columns):\n",
      "number1    41 non-null object\n",
      "number2    41 non-null object\n",
      "dtypes: object(2)\n",
      "memory usage: 984.0+ bytes\n"
     ]
    }
   ],
   "source": [
    "df.info()"
   ]
  },
  {
   "cell_type": "code",
   "execution_count": 13,
   "metadata": {
    "collapsed": false
   },
   "outputs": [
    {
     "data": {
      "text/html": [
       "<div>\n",
       "<table border=\"1\" class=\"dataframe\">\n",
       "  <thead>\n",
       "    <tr style=\"text-align: right;\">\n",
       "      <th></th>\n",
       "      <th>number1</th>\n",
       "      <th>number2</th>\n",
       "    </tr>\n",
       "  </thead>\n",
       "  <tbody>\n",
       "    <tr>\n",
       "      <th>0</th>\n",
       "      <td>0,589</td>\n",
       "      <td>'0,589'</td>\n",
       "    </tr>\n",
       "    <tr>\n",
       "      <th>1</th>\n",
       "      <td>0,578</td>\n",
       "      <td>'0,578'</td>\n",
       "    </tr>\n",
       "    <tr>\n",
       "      <th>2</th>\n",
       "      <td>7,779</td>\n",
       "      <td>'7,779'</td>\n",
       "    </tr>\n",
       "    <tr>\n",
       "      <th>3</th>\n",
       "      <td>0,139</td>\n",
       "      <td>'0,139'</td>\n",
       "    </tr>\n",
       "    <tr>\n",
       "      <th>4</th>\n",
       "      <td>1,687</td>\n",
       "      <td>'1,687'</td>\n",
       "    </tr>\n",
       "  </tbody>\n",
       "</table>\n",
       "</div>"
      ],
      "text/plain": [
       "  number1  number2\n",
       "0   0,589  '0,589'\n",
       "1   0,578  '0,578'\n",
       "2   7,779  '7,779'\n",
       "3   0,139  '0,139'\n",
       "4   1,687  '1,687'"
      ]
     },
     "execution_count": 13,
     "metadata": {},
     "output_type": "execute_result"
    }
   ],
   "source": [
    "df.head()"
   ]
  },
  {
   "cell_type": "markdown",
   "metadata": {},
   "source": [
    "####Exercise 1: Strip the extra comma from the number1 column and convert to integer"
   ]
  },
  {
   "cell_type": "code",
   "execution_count": 7,
   "metadata": {
    "collapsed": false
   },
   "outputs": [
    {
     "data": {
      "text/plain": [
       "0      589\n",
       "1      578\n",
       "2     7779\n",
       "3      139\n",
       "4     1687\n",
       "5     3246\n",
       "6      254\n",
       "7     3133\n",
       "8     9446\n",
       "9     6241\n",
       "10    4922\n",
       "11    4657\n",
       "12    5134\n",
       "13    4947\n",
       "14    5988\n",
       "15    1376\n",
       "16     291\n",
       "17    1515\n",
       "18    3126\n",
       "19     853\n",
       "20    2768\n",
       "21    6738\n",
       "22    8168\n",
       "23     181\n",
       "24    6760\n",
       "25    2199\n",
       "26    2207\n",
       "27    5145\n",
       "28    8247\n",
       "29    7646\n",
       "30     941\n",
       "31    1886\n",
       "32    4981\n",
       "33    2140\n",
       "34    6987\n",
       "35     326\n",
       "36    2867\n",
       "37    4890\n",
       "38    8625\n",
       "39    4475\n",
       "40     903\n",
       "Name: number1, dtype: int32"
      ]
     },
     "execution_count": 7,
     "metadata": {},
     "output_type": "execute_result"
    }
   ],
   "source": [
    "#Your code here\n",
    "\n",
    "df.number1 = df.number1.apply(lambda x: x.replace(\",\",\"\")).astype(int)\n",
    "df.number1\n",
    "\n",
    "\n",
    "\n"
   ]
  },
  {
   "cell_type": "code",
   "execution_count": null,
   "metadata": {
    "collapsed": true
   },
   "outputs": [],
   "source": [
    "#Bonus: Do it a different way\n",
    "\n",
    "def replace_comma(x):\n",
    "    return x.replace(\",\",\"\")\n",
    "\n",
    "df.number1.apply(replace_comma)\n",
    "\n",
    "\n"
   ]
  },
  {
   "cell_type": "code",
   "execution_count": 4,
   "metadata": {
    "collapsed": false
   },
   "outputs": [
    {
     "data": {
      "text/plain": [
       "0      589\n",
       "1      578\n",
       "2     7779\n",
       "3      139\n",
       "4     1687\n",
       "5     3246\n",
       "6      254\n",
       "7     3133\n",
       "8     9446\n",
       "9     6241\n",
       "10    4922\n",
       "11    4657\n",
       "12    5134\n",
       "13    4947\n",
       "14    5988\n",
       "15    1376\n",
       "16     291\n",
       "17    1515\n",
       "18    3126\n",
       "19     853\n",
       "20    2768\n",
       "21    6738\n",
       "22    8168\n",
       "23     181\n",
       "24    6760\n",
       "25    2199\n",
       "26    2207\n",
       "27    5145\n",
       "28    8247\n",
       "29    7646\n",
       "30     941\n",
       "31    1886\n",
       "32    4981\n",
       "33    2140\n",
       "34    6987\n",
       "35     326\n",
       "36    2867\n",
       "37    4890\n",
       "38    8625\n",
       "39    4475\n",
       "40     903\n",
       "Name: number1, dtype: int32"
      ]
     },
     "execution_count": 4,
     "metadata": {},
     "output_type": "execute_result"
    }
   ],
   "source": [
    "df.number1.str.replace(\",\",\"\").astype(int)"
   ]
  },
  {
   "cell_type": "markdown",
   "metadata": {},
   "source": [
    "####Exercise 2: Strip the extra quotation marks from the column2 and convert to integer"
   ]
  },
  {
   "cell_type": "code",
   "execution_count": 9,
   "metadata": {
    "collapsed": false
   },
   "outputs": [
    {
     "data": {
      "text/plain": [
       "0     0,589\n",
       "1     0,578\n",
       "2     7,779\n",
       "3     0,139\n",
       "4     1,687\n",
       "5     3,246\n",
       "6     0,254\n",
       "7     3,133\n",
       "8     9,446\n",
       "9     6,241\n",
       "10    4,922\n",
       "11    4,657\n",
       "12    5,134\n",
       "13    4,947\n",
       "14    5,988\n",
       "15    1,376\n",
       "16    0,291\n",
       "17    1,515\n",
       "18    3,126\n",
       "19    0,853\n",
       "20    2,768\n",
       "21    6,738\n",
       "22    8,168\n",
       "23    0,181\n",
       "24    6,760\n",
       "25    2,199\n",
       "26    2,207\n",
       "27    5,145\n",
       "28    8,247\n",
       "29    7,646\n",
       "30    0,941\n",
       "31    1,886\n",
       "32    4,981\n",
       "33    2,140\n",
       "34    6,987\n",
       "35    0,326\n",
       "36    2,867\n",
       "37    4,890\n",
       "38    8,625\n",
       "39    4,475\n",
       "40    0,903\n",
       "Name: number2, dtype: object"
      ]
     },
     "execution_count": 9,
     "metadata": {},
     "output_type": "execute_result"
    }
   ],
   "source": [
    "#Your code here\n",
    "\n",
    "df.number2.str[1:-1]\n",
    "\n",
    "#[start at this character : end at this character]\n",
    "\n"
   ]
  },
  {
   "cell_type": "code",
   "execution_count": null,
   "metadata": {
    "collapsed": true
   },
   "outputs": [],
   "source": []
  }
 ],
 "metadata": {
  "kernelspec": {
   "display_name": "Python 2",
   "language": "python",
   "name": "python2"
  },
  "language_info": {
   "codemirror_mode": {
    "name": "ipython",
    "version": 2
   },
   "file_extension": ".py",
   "mimetype": "text/x-python",
   "name": "python",
   "nbconvert_exporter": "python",
   "pygments_lexer": "ipython2",
   "version": "2.7.10"
  }
 },
 "nbformat": 4,
 "nbformat_minor": 0
}
