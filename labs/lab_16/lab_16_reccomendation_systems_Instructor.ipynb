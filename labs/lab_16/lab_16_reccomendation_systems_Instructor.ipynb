{
 "cells": [
  {
   "cell_type": "markdown",
   "metadata": {},
   "source": [
    "# GA Data Science 18 (DAT18) - Lab 16\n",
    "\n",
    "### Recommendation Systems\n",
    "\n",
    "### Today\n",
    "\n",
    "1. Simple similarity based recommendation system\n",
    "2. Recsys"
   ]
  },
  {
   "cell_type": "markdown",
   "metadata": {},
   "source": [
    "## Similarity based Recommendation System: Beers\n",
    "\n",
    "\n",
    "Let's build a recommendation system to recommend types of beers based on user reviews"
   ]
  },
  {
   "cell_type": "markdown",
   "metadata": {},
   "source": [
    "Usual imports (numpy, pandas)"
   ]
  },
  {
   "cell_type": "code",
   "execution_count": 3,
   "metadata": {
    "collapsed": false
   },
   "outputs": [],
   "source": [
    "import pandas as pd\n",
    "import numpy as np"
   ]
  },
  {
   "cell_type": "markdown",
   "metadata": {},
   "source": [
    "First of all let's get the data"
   ]
  },
  {
   "cell_type": "code",
   "execution_count": 4,
   "metadata": {
    "collapsed": false
   },
   "outputs": [
    {
     "name": "stderr",
     "output_type": "stream",
     "text": [
      "curl: (1) Protocol \"https\" not supported or disabled in libcurl\n"
     ]
    }
   ],
   "source": [
    "! curl -O https://s3.amazonaws.com/demo-datasets/beer_reviews.tar.gz"
   ]
  },
  {
   "cell_type": "markdown",
   "metadata": {},
   "source": [
    "Import data in a pandas dataframe called \"allbeers\". Use the compression keyword"
   ]
  },
  {
   "cell_type": "code",
   "execution_count": 5,
   "metadata": {
    "collapsed": false
   },
   "outputs": [],
   "source": [
    "# allbeers = pd.read_csv(\"beer_reviews.tar.gz\", compression='gzip')\n",
    "#If the compression fails - expand the compressed folder and open with:\n",
    "allbeers = pd.read_csv(\"beer_reviews/beer_reviews.csv\")"
   ]
  },
  {
   "cell_type": "markdown",
   "metadata": {},
   "source": [
    "Let's look at the data"
   ]
  },
  {
   "cell_type": "code",
   "execution_count": 6,
   "metadata": {
    "collapsed": false
   },
   "outputs": [],
   "source": [
    "# allbeers.info()"
   ]
  },
  {
   "cell_type": "markdown",
   "metadata": {},
   "source": [
    "Let's restrict this to the top 250 beers. Use the value_counts() method select the top 250 beers.\n",
    "Assign the selected beers to a dataset called df"
   ]
  },
  {
   "cell_type": "code",
   "execution_count": 7,
   "metadata": {
    "collapsed": false
   },
   "outputs": [
    {
     "data": {
      "text/plain": [
       "Index([u'90 Minute IPA', u'India Pale Ale',\n",
       "       u'Old Rasputin Russian Imperial Stout',\n",
       "       u'Sierra Nevada Celebration Ale', u'Two Hearted Ale',\n",
       "       u'Stone Ruination IPA', u'Arrogant Bastard Ale',\n",
       "       u'Sierra Nevada Pale Ale', u'Stone IPA (India Pale Ale)',\n",
       "       u'Pliny The Elder',\n",
       "       ...\n",
       "       u'American Red Cross Ale', u'Green Flash Imperial Red',\n",
       "       u'Wizard's Wheat', u'Stone Everything But The Kitchen Sink Stout',\n",
       "       u'Calico Copper E.S.B.', u'Von Jakob American Pilsner',\n",
       "       u'Magadanskoye Barkhatnoye', u'North Shore Gold',\n",
       "       u'Ruby River Hefeweizen', u'Two Penny Ale'],\n",
       "      dtype='object', length=56857)"
      ]
     },
     "execution_count": 7,
     "metadata": {},
     "output_type": "execute_result"
    }
   ],
   "source": [
    "allbeers.beer_name.value_counts().index"
   ]
  },
  {
   "cell_type": "code",
   "execution_count": 8,
   "metadata": {
    "collapsed": false
   },
   "outputs": [],
   "source": [
    "n = 250\n",
    "top_n = allbeers.beer_name.value_counts().index[:n]"
   ]
  },
  {
   "cell_type": "code",
   "execution_count": 9,
   "metadata": {
    "collapsed": false
   },
   "outputs": [
    {
     "data": {
      "text/html": [
       "<div>\n",
       "<table border=\"1\" class=\"dataframe\">\n",
       "  <thead>\n",
       "    <tr style=\"text-align: right;\">\n",
       "      <th></th>\n",
       "      <th>brewery_id</th>\n",
       "      <th>brewery_name</th>\n",
       "      <th>review_time</th>\n",
       "      <th>review_overall</th>\n",
       "      <th>review_aroma</th>\n",
       "      <th>review_appearance</th>\n",
       "      <th>review_profilename</th>\n",
       "      <th>beer_style</th>\n",
       "      <th>review_palate</th>\n",
       "      <th>review_taste</th>\n",
       "      <th>beer_name</th>\n",
       "      <th>beer_abv</th>\n",
       "      <th>beer_beerid</th>\n",
       "    </tr>\n",
       "  </thead>\n",
       "  <tbody>\n",
       "    <tr>\n",
       "      <th>798</th>\n",
       "      <td>1075</td>\n",
       "      <td>Caldera Brewing Company</td>\n",
       "      <td>1212201268</td>\n",
       "      <td>4.5</td>\n",
       "      <td>4.5</td>\n",
       "      <td>4</td>\n",
       "      <td>grumpy</td>\n",
       "      <td>American Double / Imperial Stout</td>\n",
       "      <td>4.0</td>\n",
       "      <td>4.5</td>\n",
       "      <td>Imperial Stout</td>\n",
       "      <td>NaN</td>\n",
       "      <td>42964</td>\n",
       "    </tr>\n",
       "    <tr>\n",
       "      <th>1559</th>\n",
       "      <td>11715</td>\n",
       "      <td>Destiny Brewing Company</td>\n",
       "      <td>1137124057</td>\n",
       "      <td>4.0</td>\n",
       "      <td>3.5</td>\n",
       "      <td>4</td>\n",
       "      <td>blitheringidiot</td>\n",
       "      <td>American Pale Ale (APA)</td>\n",
       "      <td>3.5</td>\n",
       "      <td>3.5</td>\n",
       "      <td>Pale Ale</td>\n",
       "      <td>4.5</td>\n",
       "      <td>26420</td>\n",
       "    </tr>\n",
       "    <tr>\n",
       "      <th>1560</th>\n",
       "      <td>11715</td>\n",
       "      <td>Destiny Brewing Company</td>\n",
       "      <td>1129504403</td>\n",
       "      <td>4.0</td>\n",
       "      <td>2.5</td>\n",
       "      <td>4</td>\n",
       "      <td>NeroFiddled</td>\n",
       "      <td>American Pale Ale (APA)</td>\n",
       "      <td>4.0</td>\n",
       "      <td>3.5</td>\n",
       "      <td>Pale Ale</td>\n",
       "      <td>4.5</td>\n",
       "      <td>26420</td>\n",
       "    </tr>\n",
       "    <tr>\n",
       "      <th>1563</th>\n",
       "      <td>11715</td>\n",
       "      <td>Destiny Brewing Company</td>\n",
       "      <td>1137125989</td>\n",
       "      <td>3.5</td>\n",
       "      <td>3.0</td>\n",
       "      <td>4</td>\n",
       "      <td>blitheringidiot</td>\n",
       "      <td>American IPA</td>\n",
       "      <td>4.0</td>\n",
       "      <td>4.0</td>\n",
       "      <td>IPA</td>\n",
       "      <td>NaN</td>\n",
       "      <td>26132</td>\n",
       "    </tr>\n",
       "    <tr>\n",
       "      <th>1564</th>\n",
       "      <td>11715</td>\n",
       "      <td>Destiny Brewing Company</td>\n",
       "      <td>1130936611</td>\n",
       "      <td>3.0</td>\n",
       "      <td>3.0</td>\n",
       "      <td>3</td>\n",
       "      <td>Gavage</td>\n",
       "      <td>American IPA</td>\n",
       "      <td>4.0</td>\n",
       "      <td>3.5</td>\n",
       "      <td>IPA</td>\n",
       "      <td>NaN</td>\n",
       "      <td>26132</td>\n",
       "    </tr>\n",
       "  </tbody>\n",
       "</table>\n",
       "</div>"
      ],
      "text/plain": [
       "      brewery_id             brewery_name  review_time  review_overall  \\\n",
       "798         1075  Caldera Brewing Company   1212201268             4.5   \n",
       "1559       11715  Destiny Brewing Company   1137124057             4.0   \n",
       "1560       11715  Destiny Brewing Company   1129504403             4.0   \n",
       "1563       11715  Destiny Brewing Company   1137125989             3.5   \n",
       "1564       11715  Destiny Brewing Company   1130936611             3.0   \n",
       "\n",
       "      review_aroma  review_appearance review_profilename  \\\n",
       "798            4.5                  4             grumpy   \n",
       "1559           3.5                  4    blitheringidiot   \n",
       "1560           2.5                  4        NeroFiddled   \n",
       "1563           3.0                  4    blitheringidiot   \n",
       "1564           3.0                  3             Gavage   \n",
       "\n",
       "                            beer_style  review_palate  review_taste  \\\n",
       "798   American Double / Imperial Stout            4.0           4.5   \n",
       "1559           American Pale Ale (APA)            3.5           3.5   \n",
       "1560           American Pale Ale (APA)            4.0           3.5   \n",
       "1563                      American IPA            4.0           4.0   \n",
       "1564                      American IPA            4.0           3.5   \n",
       "\n",
       "           beer_name  beer_abv  beer_beerid  \n",
       "798   Imperial Stout       NaN        42964  \n",
       "1559        Pale Ale       4.5        26420  \n",
       "1560        Pale Ale       4.5        26420  \n",
       "1563             IPA       NaN        26132  \n",
       "1564             IPA       NaN        26132  "
      ]
     },
     "execution_count": 9,
     "metadata": {},
     "output_type": "execute_result"
    }
   ],
   "source": [
    "df = allbeers[allbeers.beer_name.isin(top_n)]\n",
    "df.head()"
   ]
  },
  {
   "cell_type": "markdown",
   "metadata": {},
   "source": [
    "How big is this dataset?"
   ]
  },
  {
   "cell_type": "code",
   "execution_count": 10,
   "metadata": {
    "collapsed": false
   },
   "outputs": [
    {
     "name": "stdout",
     "output_type": "stream",
     "text": [
      "<class 'pandas.core.frame.DataFrame'>\n",
      "Int64Index: 355275 entries, 798 to 1586564\n",
      "Data columns (total 13 columns):\n",
      "brewery_id            355275 non-null int64\n",
      "brewery_name          355275 non-null object\n",
      "review_time           355275 non-null int64\n",
      "review_overall        355275 non-null float64\n",
      "review_aroma          355275 non-null float64\n",
      "review_appearance     355275 non-null float64\n",
      "review_profilename    355175 non-null object\n",
      "beer_style            355275 non-null object\n",
      "review_palate         355275 non-null float64\n",
      "review_taste          355275 non-null float64\n",
      "beer_name             355275 non-null object\n",
      "beer_abv              353477 non-null float64\n",
      "beer_beerid           355275 non-null int64\n",
      "dtypes: float64(6), int64(3), object(4)\n",
      "memory usage: 37.9+ MB\n"
     ]
    }
   ],
   "source": [
    "df.info()"
   ]
  },
  {
   "cell_type": "markdown",
   "metadata": {},
   "source": [
    "### Pivot Table"
   ]
  },
  {
   "cell_type": "markdown",
   "metadata": {},
   "source": [
    "Aggregate the data in a pivot table using the pivot_table method. Display the mean review_overall for each beer_name aggregating the review_overall values by review_profilename. Use the mean as aggregator."
   ]
  },
  {
   "cell_type": "code",
   "execution_count": 11,
   "metadata": {
    "collapsed": false
   },
   "outputs": [],
   "source": [
    "df_pivot = pd.pivot_table(df, values=[\"review_overall\"],\n",
    "        columns=[\"beer_name\", \"review_profilename\"],\n",
    "        aggfunc=np.mean)"
   ]
  },
  {
   "cell_type": "code",
   "execution_count": 12,
   "metadata": {
    "collapsed": false
   },
   "outputs": [
    {
     "data": {
      "text/html": [
       "<div>\n",
       "<table border=\"1\" class=\"dataframe\">\n",
       "  <thead>\n",
       "    <tr style=\"text-align: right;\">\n",
       "      <th></th>\n",
       "      <th>review_profilename</th>\n",
       "      <th>0110x011</th>\n",
       "      <th>02maxima</th>\n",
       "      <th>03SVTCobra</th>\n",
       "      <th>05Harley</th>\n",
       "      <th>0Naught0</th>\n",
       "      <th>0beerguy0</th>\n",
       "      <th>0runkp0s</th>\n",
       "      <th>0tt0</th>\n",
       "      <th>1000Bottles</th>\n",
       "      <th>1001111.0</th>\n",
       "      <th>...</th>\n",
       "      <th>zuker</th>\n",
       "      <th>zulufactor</th>\n",
       "      <th>zumicroom</th>\n",
       "      <th>zwalk8</th>\n",
       "      <th>zwoehr</th>\n",
       "      <th>zymrgy</th>\n",
       "      <th>zymurgy4all</th>\n",
       "      <th>zymurgywhiz</th>\n",
       "      <th>zythus</th>\n",
       "      <th>zyzygy</th>\n",
       "    </tr>\n",
       "    <tr>\n",
       "      <th></th>\n",
       "      <th>beer_name</th>\n",
       "      <th></th>\n",
       "      <th></th>\n",
       "      <th></th>\n",
       "      <th></th>\n",
       "      <th></th>\n",
       "      <th></th>\n",
       "      <th></th>\n",
       "      <th></th>\n",
       "      <th></th>\n",
       "      <th></th>\n",
       "      <th></th>\n",
       "      <th></th>\n",
       "      <th></th>\n",
       "      <th></th>\n",
       "      <th></th>\n",
       "      <th></th>\n",
       "      <th></th>\n",
       "      <th></th>\n",
       "      <th></th>\n",
       "      <th></th>\n",
       "      <th></th>\n",
       "    </tr>\n",
       "  </thead>\n",
       "  <tbody>\n",
       "    <tr>\n",
       "      <th rowspan=\"5\" valign=\"top\">review_overall</th>\n",
       "      <th>#9</th>\n",
       "      <td>NaN</td>\n",
       "      <td>NaN</td>\n",
       "      <td>NaN</td>\n",
       "      <td>NaN</td>\n",
       "      <td>NaN</td>\n",
       "      <td>NaN</td>\n",
       "      <td>NaN</td>\n",
       "      <td>NaN</td>\n",
       "      <td>NaN</td>\n",
       "      <td>NaN</td>\n",
       "      <td>...</td>\n",
       "      <td>NaN</td>\n",
       "      <td>NaN</td>\n",
       "      <td>NaN</td>\n",
       "      <td>NaN</td>\n",
       "      <td>NaN</td>\n",
       "      <td>NaN</td>\n",
       "      <td>NaN</td>\n",
       "      <td>NaN</td>\n",
       "      <td>NaN</td>\n",
       "      <td>NaN</td>\n",
       "    </tr>\n",
       "    <tr>\n",
       "      <th>120 Minute IPA</th>\n",
       "      <td>NaN</td>\n",
       "      <td>NaN</td>\n",
       "      <td>NaN</td>\n",
       "      <td>4</td>\n",
       "      <td>NaN</td>\n",
       "      <td>NaN</td>\n",
       "      <td>NaN</td>\n",
       "      <td>1.5</td>\n",
       "      <td>NaN</td>\n",
       "      <td>NaN</td>\n",
       "      <td>...</td>\n",
       "      <td>NaN</td>\n",
       "      <td>NaN</td>\n",
       "      <td>NaN</td>\n",
       "      <td>NaN</td>\n",
       "      <td>NaN</td>\n",
       "      <td>NaN</td>\n",
       "      <td>NaN</td>\n",
       "      <td>NaN</td>\n",
       "      <td>NaN</td>\n",
       "      <td>NaN</td>\n",
       "    </tr>\n",
       "    <tr>\n",
       "      <th>1554 Enlightened Black Ale</th>\n",
       "      <td>NaN</td>\n",
       "      <td>NaN</td>\n",
       "      <td>NaN</td>\n",
       "      <td>NaN</td>\n",
       "      <td>NaN</td>\n",
       "      <td>NaN</td>\n",
       "      <td>NaN</td>\n",
       "      <td>NaN</td>\n",
       "      <td>NaN</td>\n",
       "      <td>NaN</td>\n",
       "      <td>...</td>\n",
       "      <td>NaN</td>\n",
       "      <td>NaN</td>\n",
       "      <td>NaN</td>\n",
       "      <td>NaN</td>\n",
       "      <td>NaN</td>\n",
       "      <td>NaN</td>\n",
       "      <td>NaN</td>\n",
       "      <td>NaN</td>\n",
       "      <td>NaN</td>\n",
       "      <td>NaN</td>\n",
       "    </tr>\n",
       "    <tr>\n",
       "      <th>60 Minute IPA</th>\n",
       "      <td>NaN</td>\n",
       "      <td>NaN</td>\n",
       "      <td>NaN</td>\n",
       "      <td>NaN</td>\n",
       "      <td>NaN</td>\n",
       "      <td>NaN</td>\n",
       "      <td>NaN</td>\n",
       "      <td>NaN</td>\n",
       "      <td>NaN</td>\n",
       "      <td>NaN</td>\n",
       "      <td>...</td>\n",
       "      <td>NaN</td>\n",
       "      <td>NaN</td>\n",
       "      <td>NaN</td>\n",
       "      <td>NaN</td>\n",
       "      <td>NaN</td>\n",
       "      <td>NaN</td>\n",
       "      <td>NaN</td>\n",
       "      <td>NaN</td>\n",
       "      <td>NaN</td>\n",
       "      <td>NaN</td>\n",
       "    </tr>\n",
       "    <tr>\n",
       "      <th>90 Minute IPA</th>\n",
       "      <td>5</td>\n",
       "      <td>NaN</td>\n",
       "      <td>NaN</td>\n",
       "      <td>4</td>\n",
       "      <td>NaN</td>\n",
       "      <td>NaN</td>\n",
       "      <td>NaN</td>\n",
       "      <td>NaN</td>\n",
       "      <td>NaN</td>\n",
       "      <td>NaN</td>\n",
       "      <td>...</td>\n",
       "      <td>NaN</td>\n",
       "      <td>NaN</td>\n",
       "      <td>NaN</td>\n",
       "      <td>NaN</td>\n",
       "      <td>NaN</td>\n",
       "      <td>NaN</td>\n",
       "      <td>NaN</td>\n",
       "      <td>NaN</td>\n",
       "      <td>NaN</td>\n",
       "      <td>NaN</td>\n",
       "    </tr>\n",
       "  </tbody>\n",
       "</table>\n",
       "<p>5 rows × 22140 columns</p>\n",
       "</div>"
      ],
      "text/plain": [
       "review_profilename                         0110x011  02maxima  03SVTCobra  \\\n",
       "               beer_name                                                    \n",
       "review_overall #9                               NaN       NaN         NaN   \n",
       "               120 Minute IPA                   NaN       NaN         NaN   \n",
       "               1554 Enlightened Black Ale       NaN       NaN         NaN   \n",
       "               60 Minute IPA                    NaN       NaN         NaN   \n",
       "               90 Minute IPA                      5       NaN         NaN   \n",
       "\n",
       "review_profilename                         05Harley  0Naught0  0beerguy0  \\\n",
       "               beer_name                                                   \n",
       "review_overall #9                               NaN       NaN        NaN   \n",
       "               120 Minute IPA                     4       NaN        NaN   \n",
       "               1554 Enlightened Black Ale       NaN       NaN        NaN   \n",
       "               60 Minute IPA                    NaN       NaN        NaN   \n",
       "               90 Minute IPA                      4       NaN        NaN   \n",
       "\n",
       "review_profilename                         0runkp0s  0tt0  1000Bottles  \\\n",
       "               beer_name                                                 \n",
       "review_overall #9                               NaN   NaN          NaN   \n",
       "               120 Minute IPA                   NaN   1.5          NaN   \n",
       "               1554 Enlightened Black Ale       NaN   NaN          NaN   \n",
       "               60 Minute IPA                    NaN   NaN          NaN   \n",
       "               90 Minute IPA                    NaN   NaN          NaN   \n",
       "\n",
       "review_profilename                         1001111.0   ...    zuker  \\\n",
       "               beer_name                               ...            \n",
       "review_overall #9                                NaN   ...      NaN   \n",
       "               120 Minute IPA                    NaN   ...      NaN   \n",
       "               1554 Enlightened Black Ale        NaN   ...      NaN   \n",
       "               60 Minute IPA                     NaN   ...      NaN   \n",
       "               90 Minute IPA                     NaN   ...      NaN   \n",
       "\n",
       "review_profilename                         zulufactor  zumicroom  zwalk8  \\\n",
       "               beer_name                                                   \n",
       "review_overall #9                                 NaN        NaN     NaN   \n",
       "               120 Minute IPA                     NaN        NaN     NaN   \n",
       "               1554 Enlightened Black Ale         NaN        NaN     NaN   \n",
       "               60 Minute IPA                      NaN        NaN     NaN   \n",
       "               90 Minute IPA                      NaN        NaN     NaN   \n",
       "\n",
       "review_profilename                         zwoehr  zymrgy  zymurgy4all  \\\n",
       "               beer_name                                                 \n",
       "review_overall #9                             NaN     NaN          NaN   \n",
       "               120 Minute IPA                 NaN     NaN          NaN   \n",
       "               1554 Enlightened Black Ale     NaN     NaN          NaN   \n",
       "               60 Minute IPA                  NaN     NaN          NaN   \n",
       "               90 Minute IPA                  NaN     NaN          NaN   \n",
       "\n",
       "review_profilename                         zymurgywhiz  zythus  zyzygy  \n",
       "               beer_name                                                \n",
       "review_overall #9                                  NaN     NaN     NaN  \n",
       "               120 Minute IPA                      NaN     NaN     NaN  \n",
       "               1554 Enlightened Black Ale          NaN     NaN     NaN  \n",
       "               60 Minute IPA                       NaN     NaN     NaN  \n",
       "               90 Minute IPA                       NaN     NaN     NaN  \n",
       "\n",
       "[5 rows x 22140 columns]"
      ]
     },
     "execution_count": 12,
     "metadata": {},
     "output_type": "execute_result"
    }
   ],
   "source": [
    "#pivot_table converts to a multi-index series. Unstack converts to a dataframe where the last index becomes our column head\n",
    "df_wide = df_pivot.unstack(-1)\n",
    "df_wide.head()"
   ]
  },
  {
   "cell_type": "markdown",
   "metadata": {},
   "source": [
    "Display the head of the pivot table, but only for 5 users (columns are users)"
   ]
  },
  {
   "cell_type": "code",
   "execution_count": 13,
   "metadata": {
    "collapsed": false
   },
   "outputs": [
    {
     "data": {
      "text/html": [
       "<div>\n",
       "<table border=\"1\" class=\"dataframe\">\n",
       "  <thead>\n",
       "    <tr style=\"text-align: right;\">\n",
       "      <th></th>\n",
       "      <th>review_profilename</th>\n",
       "      <th>0110x011</th>\n",
       "      <th>02maxima</th>\n",
       "      <th>03SVTCobra</th>\n",
       "      <th>05Harley</th>\n",
       "      <th>0Naught0</th>\n",
       "    </tr>\n",
       "    <tr>\n",
       "      <th></th>\n",
       "      <th>beer_name</th>\n",
       "      <th></th>\n",
       "      <th></th>\n",
       "      <th></th>\n",
       "      <th></th>\n",
       "      <th></th>\n",
       "    </tr>\n",
       "  </thead>\n",
       "  <tbody>\n",
       "    <tr>\n",
       "      <th rowspan=\"5\" valign=\"top\">review_overall</th>\n",
       "      <th>#9</th>\n",
       "      <td>NaN</td>\n",
       "      <td>NaN</td>\n",
       "      <td>NaN</td>\n",
       "      <td>NaN</td>\n",
       "      <td>NaN</td>\n",
       "    </tr>\n",
       "    <tr>\n",
       "      <th>120 Minute IPA</th>\n",
       "      <td>NaN</td>\n",
       "      <td>NaN</td>\n",
       "      <td>NaN</td>\n",
       "      <td>4</td>\n",
       "      <td>NaN</td>\n",
       "    </tr>\n",
       "    <tr>\n",
       "      <th>1554 Enlightened Black Ale</th>\n",
       "      <td>NaN</td>\n",
       "      <td>NaN</td>\n",
       "      <td>NaN</td>\n",
       "      <td>NaN</td>\n",
       "      <td>NaN</td>\n",
       "    </tr>\n",
       "    <tr>\n",
       "      <th>60 Minute IPA</th>\n",
       "      <td>NaN</td>\n",
       "      <td>NaN</td>\n",
       "      <td>NaN</td>\n",
       "      <td>NaN</td>\n",
       "      <td>NaN</td>\n",
       "    </tr>\n",
       "    <tr>\n",
       "      <th>90 Minute IPA</th>\n",
       "      <td>5</td>\n",
       "      <td>NaN</td>\n",
       "      <td>NaN</td>\n",
       "      <td>4</td>\n",
       "      <td>NaN</td>\n",
       "    </tr>\n",
       "  </tbody>\n",
       "</table>\n",
       "</div>"
      ],
      "text/plain": [
       "review_profilename                         0110x011  02maxima  03SVTCobra  \\\n",
       "               beer_name                                                    \n",
       "review_overall #9                               NaN       NaN         NaN   \n",
       "               120 Minute IPA                   NaN       NaN         NaN   \n",
       "               1554 Enlightened Black Ale       NaN       NaN         NaN   \n",
       "               60 Minute IPA                    NaN       NaN         NaN   \n",
       "               90 Minute IPA                      5       NaN         NaN   \n",
       "\n",
       "review_profilename                         05Harley  0Naught0  \n",
       "               beer_name                                       \n",
       "review_overall #9                               NaN       NaN  \n",
       "               120 Minute IPA                     4       NaN  \n",
       "               1554 Enlightened Black Ale       NaN       NaN  \n",
       "               60 Minute IPA                    NaN       NaN  \n",
       "               90 Minute IPA                      4       NaN  "
      ]
     },
     "execution_count": 13,
     "metadata": {},
     "output_type": "execute_result"
    }
   ],
   "source": [
    "df_wide.ix[0:5, 0:5]"
   ]
  },
  {
   "cell_type": "markdown",
   "metadata": {},
   "source": [
    "### Discussion: what do you notice in this table?"
   ]
  },
  {
   "cell_type": "markdown",
   "metadata": {},
   "source": [
    "#### Data munging\n",
    "Set Nans to zero"
   ]
  },
  {
   "cell_type": "code",
   "execution_count": 14,
   "metadata": {
    "collapsed": false
   },
   "outputs": [],
   "source": [
    "df_wide = df_wide.fillna(0)"
   ]
  },
  {
   "cell_type": "markdown",
   "metadata": {},
   "source": [
    "Check that columns are users"
   ]
  },
  {
   "cell_type": "code",
   "execution_count": 15,
   "metadata": {
    "collapsed": false
   },
   "outputs": [
    {
     "data": {
      "text/plain": [
       "Index([u'0110x011', u'02maxima', u'03SVTCobra', u'05Harley', u'0Naught0',\n",
       "       u'0beerguy0', u'0runkp0s', u'0tt0', u'1000Bottles', u'1001111.0'],\n",
       "      dtype='object', name=u'review_profilename')"
      ]
     },
     "execution_count": 15,
     "metadata": {},
     "output_type": "execute_result"
    }
   ],
   "source": [
    "df_wide.columns[:10]"
   ]
  },
  {
   "cell_type": "markdown",
   "metadata": {},
   "source": [
    "Check that rows are beers"
   ]
  },
  {
   "cell_type": "code",
   "execution_count": 16,
   "metadata": {
    "collapsed": false
   },
   "outputs": [
    {
     "data": {
      "text/plain": [
       "Index([u'#9', u'120 Minute IPA', u'1554 Enlightened Black Ale',\n",
       "       u'60 Minute IPA', u'90 Minute IPA',\n",
       "       u'Aecht Schlenkerla Rauchbier Märzen', u'AleSmith IPA',\n",
       "       u'AleSmith Speedway Stout', u'Allagash White', u'Alpha King Pale Ale',\n",
       "       ...\n",
       "       u'Vanilla Porter', u'Weihenstephaner Hefeweissbier',\n",
       "       u'Weihenstephaner Korbinian', u'Westmalle Trappist Dubbel',\n",
       "       u'Westmalle Trappist Tripel', u'World Wide Stout',\n",
       "       u'Yeti Imperial Stout', u'Young's Double Chocolate Stout',\n",
       "       u'Yuengling Traditional Lager', u'Éphémère (Apple)'],\n",
       "      dtype='object', name=u'beer_name', length=250)"
      ]
     },
     "execution_count": 16,
     "metadata": {},
     "output_type": "execute_result"
    }
   ],
   "source": [
    "df_wide.index.levels[0]\n",
    "beer_names = df_wide.index.levels[1]\n",
    "beer_names"
   ]
  },
  {
   "cell_type": "code",
   "execution_count": 17,
   "metadata": {
    "collapsed": false
   },
   "outputs": [
    {
     "data": {
      "text/html": [
       "<div>\n",
       "<table border=\"1\" class=\"dataframe\">\n",
       "  <thead>\n",
       "    <tr style=\"text-align: right;\">\n",
       "      <th></th>\n",
       "      <th>review_profilename</th>\n",
       "      <th>0110x011</th>\n",
       "      <th>02maxima</th>\n",
       "      <th>03SVTCobra</th>\n",
       "      <th>05Harley</th>\n",
       "      <th>0Naught0</th>\n",
       "      <th>0beerguy0</th>\n",
       "      <th>0runkp0s</th>\n",
       "      <th>0tt0</th>\n",
       "      <th>1000Bottles</th>\n",
       "      <th>1001111.0</th>\n",
       "      <th>...</th>\n",
       "      <th>zuker</th>\n",
       "      <th>zulufactor</th>\n",
       "      <th>zumicroom</th>\n",
       "      <th>zwalk8</th>\n",
       "      <th>zwoehr</th>\n",
       "      <th>zymrgy</th>\n",
       "      <th>zymurgy4all</th>\n",
       "      <th>zymurgywhiz</th>\n",
       "      <th>zythus</th>\n",
       "      <th>zyzygy</th>\n",
       "    </tr>\n",
       "    <tr>\n",
       "      <th></th>\n",
       "      <th>beer_name</th>\n",
       "      <th></th>\n",
       "      <th></th>\n",
       "      <th></th>\n",
       "      <th></th>\n",
       "      <th></th>\n",
       "      <th></th>\n",
       "      <th></th>\n",
       "      <th></th>\n",
       "      <th></th>\n",
       "      <th></th>\n",
       "      <th></th>\n",
       "      <th></th>\n",
       "      <th></th>\n",
       "      <th></th>\n",
       "      <th></th>\n",
       "      <th></th>\n",
       "      <th></th>\n",
       "      <th></th>\n",
       "      <th></th>\n",
       "      <th></th>\n",
       "      <th></th>\n",
       "    </tr>\n",
       "  </thead>\n",
       "  <tbody>\n",
       "    <tr>\n",
       "      <th>review_overall</th>\n",
       "      <th>#9</th>\n",
       "      <td>0</td>\n",
       "      <td>0</td>\n",
       "      <td>0</td>\n",
       "      <td>0</td>\n",
       "      <td>0</td>\n",
       "      <td>0</td>\n",
       "      <td>0</td>\n",
       "      <td>0</td>\n",
       "      <td>0</td>\n",
       "      <td>0</td>\n",
       "      <td>...</td>\n",
       "      <td>0</td>\n",
       "      <td>0</td>\n",
       "      <td>0</td>\n",
       "      <td>0</td>\n",
       "      <td>0</td>\n",
       "      <td>0</td>\n",
       "      <td>0</td>\n",
       "      <td>0</td>\n",
       "      <td>0</td>\n",
       "      <td>0</td>\n",
       "    </tr>\n",
       "  </tbody>\n",
       "</table>\n",
       "<p>1 rows × 22140 columns</p>\n",
       "</div>"
      ],
      "text/plain": [
       "review_profilename        0110x011  02maxima  03SVTCobra  05Harley  0Naught0  \\\n",
       "               beer_name                                                       \n",
       "review_overall #9                0         0           0         0         0   \n",
       "\n",
       "review_profilename        0beerguy0  0runkp0s  0tt0  1000Bottles  1001111.0  \\\n",
       "               beer_name                                                      \n",
       "review_overall #9                 0         0     0            0          0   \n",
       "\n",
       "review_profilename         ...    zuker  zulufactor  zumicroom  zwalk8  \\\n",
       "               beer_name   ...                                           \n",
       "review_overall #9          ...        0           0          0       0   \n",
       "\n",
       "review_profilename        zwoehr  zymrgy  zymurgy4all  zymurgywhiz  zythus  \\\n",
       "               beer_name                                                     \n",
       "review_overall #9              0       0            0            0       0   \n",
       "\n",
       "review_profilename        zyzygy  \n",
       "               beer_name          \n",
       "review_overall #9              0  \n",
       "\n",
       "[1 rows x 22140 columns]"
      ]
     },
     "execution_count": 17,
     "metadata": {},
     "output_type": "execute_result"
    }
   ],
   "source": [
    "df_wide.head(1)"
   ]
  },
  {
   "cell_type": "markdown",
   "metadata": {},
   "source": [
    "### Calculate distance between beers\n",
    "\n",
    "We're going to use cosine_similarity from scikit-learn to compute the distance between all beers"
   ]
  },
  {
   "cell_type": "markdown",
   "metadata": {},
   "source": [
    "Imports"
   ]
  },
  {
   "cell_type": "code",
   "execution_count": 18,
   "metadata": {
    "collapsed": false
   },
   "outputs": [],
   "source": [
    "from sklearn.metrics.pairwise import cosine_similarity\n",
    "from sklearn.metrics.pairwise import manhattan_distances\n",
    "from sklearn.metrics.pairwise import euclidean_distances"
   ]
  },
  {
   "cell_type": "markdown",
   "metadata": {},
   "source": [
    "Apply cosine similarity to df_wide to calculate pairwise distances"
   ]
  },
  {
   "cell_type": "code",
   "execution_count": 19,
   "metadata": {
    "collapsed": false
   },
   "outputs": [
    {
     "data": {
      "text/plain": [
       "array([[ 1.        ,  0.27540494,  0.27410345, ...,  0.32928048,\n",
       "         0.34805798,  0.31249922],\n",
       "       [ 0.27540494,  1.        ,  0.25151873, ...,  0.2854835 ,\n",
       "         0.23301356,  0.2802485 ],\n",
       "       [ 0.27410345,  0.25151873,  1.        , ...,  0.31629515,\n",
       "         0.22521858,  0.2737628 ],\n",
       "       ..., \n",
       "       [ 0.32928048,  0.2854835 ,  0.31629515, ...,  1.        ,\n",
       "         0.28025764,  0.34504013],\n",
       "       [ 0.34805798,  0.23301356,  0.22521858, ...,  0.28025764,\n",
       "         1.        ,  0.25526913],\n",
       "       [ 0.31249922,  0.2802485 ,  0.2737628 , ...,  0.34504013,\n",
       "         0.25526913,  1.        ]])"
      ]
     },
     "execution_count": 19,
     "metadata": {},
     "output_type": "execute_result"
    }
   ],
   "source": [
    "dists = cosine_similarity(df_wide)\n",
    "dists"
   ]
  },
  {
   "cell_type": "markdown",
   "metadata": {},
   "source": [
    "### Discussion: what type of object is dists?"
   ]
  },
  {
   "cell_type": "markdown",
   "metadata": {},
   "source": [
    "Convert dists to a Pandas DataFrame, use the index as column index as well (distances are a square matrix)."
   ]
  },
  {
   "cell_type": "code",
   "execution_count": 20,
   "metadata": {
    "collapsed": false
   },
   "outputs": [
    {
     "data": {
      "text/html": [
       "<div>\n",
       "<table border=\"1\" class=\"dataframe\">\n",
       "  <thead>\n",
       "    <tr style=\"text-align: right;\">\n",
       "      <th>beer_name</th>\n",
       "      <th>#9</th>\n",
       "      <th>120 Minute IPA</th>\n",
       "      <th>1554 Enlightened Black Ale</th>\n",
       "      <th>60 Minute IPA</th>\n",
       "      <th>90 Minute IPA</th>\n",
       "      <th>Aecht Schlenkerla Rauchbier Märzen</th>\n",
       "      <th>AleSmith IPA</th>\n",
       "      <th>AleSmith Speedway Stout</th>\n",
       "      <th>Allagash White</th>\n",
       "      <th>Alpha King Pale Ale</th>\n",
       "    </tr>\n",
       "    <tr>\n",
       "      <th>beer_name</th>\n",
       "      <th></th>\n",
       "      <th></th>\n",
       "      <th></th>\n",
       "      <th></th>\n",
       "      <th></th>\n",
       "      <th></th>\n",
       "      <th></th>\n",
       "      <th></th>\n",
       "      <th></th>\n",
       "      <th></th>\n",
       "    </tr>\n",
       "  </thead>\n",
       "  <tbody>\n",
       "    <tr>\n",
       "      <th>#9</th>\n",
       "      <td>1.000000</td>\n",
       "      <td>0.275405</td>\n",
       "      <td>0.274103</td>\n",
       "      <td>0.388364</td>\n",
       "      <td>0.365175</td>\n",
       "      <td>0.253841</td>\n",
       "      <td>0.228479</td>\n",
       "      <td>0.227612</td>\n",
       "      <td>0.340681</td>\n",
       "      <td>0.293315</td>\n",
       "    </tr>\n",
       "    <tr>\n",
       "      <th>120 Minute IPA</th>\n",
       "      <td>0.275405</td>\n",
       "      <td>1.000000</td>\n",
       "      <td>0.251519</td>\n",
       "      <td>0.378258</td>\n",
       "      <td>0.410366</td>\n",
       "      <td>0.262425</td>\n",
       "      <td>0.315971</td>\n",
       "      <td>0.337541</td>\n",
       "      <td>0.282273</td>\n",
       "      <td>0.336796</td>\n",
       "    </tr>\n",
       "    <tr>\n",
       "      <th>1554 Enlightened Black Ale</th>\n",
       "      <td>0.274103</td>\n",
       "      <td>0.251519</td>\n",
       "      <td>1.000000</td>\n",
       "      <td>0.319887</td>\n",
       "      <td>0.314028</td>\n",
       "      <td>0.252486</td>\n",
       "      <td>0.266866</td>\n",
       "      <td>0.261761</td>\n",
       "      <td>0.260275</td>\n",
       "      <td>0.307296</td>\n",
       "    </tr>\n",
       "    <tr>\n",
       "      <th>60 Minute IPA</th>\n",
       "      <td>0.388364</td>\n",
       "      <td>0.378258</td>\n",
       "      <td>0.319887</td>\n",
       "      <td>1.000000</td>\n",
       "      <td>0.533042</td>\n",
       "      <td>0.316928</td>\n",
       "      <td>0.312343</td>\n",
       "      <td>0.307627</td>\n",
       "      <td>0.360975</td>\n",
       "      <td>0.385249</td>\n",
       "    </tr>\n",
       "    <tr>\n",
       "      <th>90 Minute IPA</th>\n",
       "      <td>0.365175</td>\n",
       "      <td>0.410366</td>\n",
       "      <td>0.314028</td>\n",
       "      <td>0.533042</td>\n",
       "      <td>1.000000</td>\n",
       "      <td>0.312861</td>\n",
       "      <td>0.344218</td>\n",
       "      <td>0.358754</td>\n",
       "      <td>0.356804</td>\n",
       "      <td>0.418582</td>\n",
       "    </tr>\n",
       "    <tr>\n",
       "      <th>Aecht Schlenkerla Rauchbier Märzen</th>\n",
       "      <td>0.253841</td>\n",
       "      <td>0.262425</td>\n",
       "      <td>0.252486</td>\n",
       "      <td>0.316928</td>\n",
       "      <td>0.312861</td>\n",
       "      <td>1.000000</td>\n",
       "      <td>0.244490</td>\n",
       "      <td>0.246063</td>\n",
       "      <td>0.297672</td>\n",
       "      <td>0.263248</td>\n",
       "    </tr>\n",
       "    <tr>\n",
       "      <th>AleSmith IPA</th>\n",
       "      <td>0.228479</td>\n",
       "      <td>0.315971</td>\n",
       "      <td>0.266866</td>\n",
       "      <td>0.312343</td>\n",
       "      <td>0.344218</td>\n",
       "      <td>0.244490</td>\n",
       "      <td>1.000000</td>\n",
       "      <td>0.521889</td>\n",
       "      <td>0.277409</td>\n",
       "      <td>0.400741</td>\n",
       "    </tr>\n",
       "    <tr>\n",
       "      <th>AleSmith Speedway Stout</th>\n",
       "      <td>0.227612</td>\n",
       "      <td>0.337541</td>\n",
       "      <td>0.261761</td>\n",
       "      <td>0.307627</td>\n",
       "      <td>0.358754</td>\n",
       "      <td>0.246063</td>\n",
       "      <td>0.521889</td>\n",
       "      <td>1.000000</td>\n",
       "      <td>0.273930</td>\n",
       "      <td>0.420247</td>\n",
       "    </tr>\n",
       "    <tr>\n",
       "      <th>Allagash White</th>\n",
       "      <td>0.340681</td>\n",
       "      <td>0.282273</td>\n",
       "      <td>0.260275</td>\n",
       "      <td>0.360975</td>\n",
       "      <td>0.356804</td>\n",
       "      <td>0.297672</td>\n",
       "      <td>0.277409</td>\n",
       "      <td>0.273930</td>\n",
       "      <td>1.000000</td>\n",
       "      <td>0.295666</td>\n",
       "    </tr>\n",
       "    <tr>\n",
       "      <th>Alpha King Pale Ale</th>\n",
       "      <td>0.293315</td>\n",
       "      <td>0.336796</td>\n",
       "      <td>0.307296</td>\n",
       "      <td>0.385249</td>\n",
       "      <td>0.418582</td>\n",
       "      <td>0.263248</td>\n",
       "      <td>0.400741</td>\n",
       "      <td>0.420247</td>\n",
       "      <td>0.295666</td>\n",
       "      <td>1.000000</td>\n",
       "    </tr>\n",
       "  </tbody>\n",
       "</table>\n",
       "</div>"
      ],
      "text/plain": [
       "beer_name                                 #9  120 Minute IPA  \\\n",
       "beer_name                                                      \n",
       "#9                                  1.000000        0.275405   \n",
       "120 Minute IPA                      0.275405        1.000000   \n",
       "1554 Enlightened Black Ale          0.274103        0.251519   \n",
       "60 Minute IPA                       0.388364        0.378258   \n",
       "90 Minute IPA                       0.365175        0.410366   \n",
       "Aecht Schlenkerla Rauchbier Märzen  0.253841        0.262425   \n",
       "AleSmith IPA                        0.228479        0.315971   \n",
       "AleSmith Speedway Stout             0.227612        0.337541   \n",
       "Allagash White                      0.340681        0.282273   \n",
       "Alpha King Pale Ale                 0.293315        0.336796   \n",
       "\n",
       "beer_name                           1554 Enlightened Black Ale  60 Minute IPA  \\\n",
       "beer_name                                                                       \n",
       "#9                                                    0.274103       0.388364   \n",
       "120 Minute IPA                                        0.251519       0.378258   \n",
       "1554 Enlightened Black Ale                            1.000000       0.319887   \n",
       "60 Minute IPA                                         0.319887       1.000000   \n",
       "90 Minute IPA                                         0.314028       0.533042   \n",
       "Aecht Schlenkerla Rauchbier Märzen                    0.252486       0.316928   \n",
       "AleSmith IPA                                          0.266866       0.312343   \n",
       "AleSmith Speedway Stout                               0.261761       0.307627   \n",
       "Allagash White                                        0.260275       0.360975   \n",
       "Alpha King Pale Ale                                   0.307296       0.385249   \n",
       "\n",
       "beer_name                           90 Minute IPA  \\\n",
       "beer_name                                           \n",
       "#9                                       0.365175   \n",
       "120 Minute IPA                           0.410366   \n",
       "1554 Enlightened Black Ale               0.314028   \n",
       "60 Minute IPA                            0.533042   \n",
       "90 Minute IPA                            1.000000   \n",
       "Aecht Schlenkerla Rauchbier Märzen       0.312861   \n",
       "AleSmith IPA                             0.344218   \n",
       "AleSmith Speedway Stout                  0.358754   \n",
       "Allagash White                           0.356804   \n",
       "Alpha King Pale Ale                      0.418582   \n",
       "\n",
       "beer_name                           Aecht Schlenkerla Rauchbier Märzen  \\\n",
       "beer_name                                                                \n",
       "#9                                                            0.253841   \n",
       "120 Minute IPA                                                0.262425   \n",
       "1554 Enlightened Black Ale                                    0.252486   \n",
       "60 Minute IPA                                                 0.316928   \n",
       "90 Minute IPA                                                 0.312861   \n",
       "Aecht Schlenkerla Rauchbier Märzen                            1.000000   \n",
       "AleSmith IPA                                                  0.244490   \n",
       "AleSmith Speedway Stout                                       0.246063   \n",
       "Allagash White                                                0.297672   \n",
       "Alpha King Pale Ale                                           0.263248   \n",
       "\n",
       "beer_name                           AleSmith IPA  AleSmith Speedway Stout  \\\n",
       "beer_name                                                                   \n",
       "#9                                      0.228479                 0.227612   \n",
       "120 Minute IPA                          0.315971                 0.337541   \n",
       "1554 Enlightened Black Ale              0.266866                 0.261761   \n",
       "60 Minute IPA                           0.312343                 0.307627   \n",
       "90 Minute IPA                           0.344218                 0.358754   \n",
       "Aecht Schlenkerla Rauchbier Märzen      0.244490                 0.246063   \n",
       "AleSmith IPA                            1.000000                 0.521889   \n",
       "AleSmith Speedway Stout                 0.521889                 1.000000   \n",
       "Allagash White                          0.277409                 0.273930   \n",
       "Alpha King Pale Ale                     0.400741                 0.420247   \n",
       "\n",
       "beer_name                           Allagash White  Alpha King Pale Ale  \n",
       "beer_name                                                                \n",
       "#9                                        0.340681             0.293315  \n",
       "120 Minute IPA                            0.282273             0.336796  \n",
       "1554 Enlightened Black Ale                0.260275             0.307296  \n",
       "60 Minute IPA                             0.360975             0.385249  \n",
       "90 Minute IPA                             0.356804             0.418582  \n",
       "Aecht Schlenkerla Rauchbier Märzen        0.297672             0.263248  \n",
       "AleSmith IPA                              0.277409             0.400741  \n",
       "AleSmith Speedway Stout                   0.273930             0.420247  \n",
       "Allagash White                            1.000000             0.295666  \n",
       "Alpha King Pale Ale                       0.295666             1.000000  "
      ]
     },
     "execution_count": 20,
     "metadata": {},
     "output_type": "execute_result"
    }
   ],
   "source": [
    "dists = pd.DataFrame(dists)\n",
    "dists.columns = beer_names\n",
    "dists.index = beer_names\n",
    "dists.ix[0:10, 0:10]"
   ]
  },
  {
   "cell_type": "markdown",
   "metadata": {},
   "source": [
    "Select some beers and look their distances to other beers"
   ]
  },
  {
   "cell_type": "code",
   "execution_count": 21,
   "metadata": {
    "collapsed": false
   },
   "outputs": [
    {
     "data": {
      "text/html": [
       "<div>\n",
       "<table border=\"1\" class=\"dataframe\">\n",
       "  <thead>\n",
       "    <tr style=\"text-align: right;\">\n",
       "      <th>beer_name</th>\n",
       "      <th>Sierra Nevada Pale Ale</th>\n",
       "      <th>120 Minute IPA</th>\n",
       "      <th>Allagash White</th>\n",
       "    </tr>\n",
       "    <tr>\n",
       "      <th>beer_name</th>\n",
       "      <th></th>\n",
       "      <th></th>\n",
       "      <th></th>\n",
       "    </tr>\n",
       "  </thead>\n",
       "  <tbody>\n",
       "    <tr>\n",
       "      <th>#9</th>\n",
       "      <td>0.373968</td>\n",
       "      <td>0.275405</td>\n",
       "      <td>0.340681</td>\n",
       "    </tr>\n",
       "    <tr>\n",
       "      <th>120 Minute IPA</th>\n",
       "      <td>0.301693</td>\n",
       "      <td>1.000000</td>\n",
       "      <td>0.282273</td>\n",
       "    </tr>\n",
       "    <tr>\n",
       "      <th>1554 Enlightened Black Ale</th>\n",
       "      <td>0.330033</td>\n",
       "      <td>0.251519</td>\n",
       "      <td>0.260275</td>\n",
       "    </tr>\n",
       "    <tr>\n",
       "      <th>60 Minute IPA</th>\n",
       "      <td>0.459641</td>\n",
       "      <td>0.378258</td>\n",
       "      <td>0.360975</td>\n",
       "    </tr>\n",
       "    <tr>\n",
       "      <th>90 Minute IPA</th>\n",
       "      <td>0.441189</td>\n",
       "      <td>0.410366</td>\n",
       "      <td>0.356804</td>\n",
       "    </tr>\n",
       "  </tbody>\n",
       "</table>\n",
       "</div>"
      ],
      "text/plain": [
       "beer_name                   Sierra Nevada Pale Ale  120 Minute IPA  \\\n",
       "beer_name                                                            \n",
       "#9                                        0.373968        0.275405   \n",
       "120 Minute IPA                            0.301693        1.000000   \n",
       "1554 Enlightened Black Ale                0.330033        0.251519   \n",
       "60 Minute IPA                             0.459641        0.378258   \n",
       "90 Minute IPA                             0.441189        0.410366   \n",
       "\n",
       "beer_name                   Allagash White  \n",
       "beer_name                                   \n",
       "#9                                0.340681  \n",
       "120 Minute IPA                    0.282273  \n",
       "1554 Enlightened Black Ale        0.260275  \n",
       "60 Minute IPA                     0.360975  \n",
       "90 Minute IPA                     0.356804  "
      ]
     },
     "execution_count": 21,
     "metadata": {},
     "output_type": "execute_result"
    }
   ],
   "source": [
    "beers_i_like = ['Sierra Nevada Pale Ale', '120 Minute IPA', 'Allagash White']\n",
    "dists[beers_i_like].head()"
   ]
  },
  {
   "cell_type": "markdown",
   "metadata": {},
   "source": [
    "Sum the distances of my favourite beers by row, to have one distance from each beer in the sample"
   ]
  },
  {
   "cell_type": "code",
   "execution_count": 22,
   "metadata": {
    "collapsed": false
   },
   "outputs": [],
   "source": [
    "beers_summed = dists[beers_i_like].apply(lambda row: np.sum(row), axis=1)\n",
    "# beers_summed = np.sum(dists[beers_i_like], axis=1)"
   ]
  },
  {
   "cell_type": "markdown",
   "metadata": {},
   "source": [
    "#### Performance"
   ]
  },
  {
   "cell_type": "markdown",
   "metadata": {},
   "source": [
    "Optional: which one is faster? use ```%timeit``` to check"
   ]
  },
  {
   "cell_type": "code",
   "execution_count": 23,
   "metadata": {
    "collapsed": false
   },
   "outputs": [
    {
     "name": "stdout",
     "output_type": "stream",
     "text": [
      "100 loops, best of 3: 6.07 ms per loop\n"
     ]
    }
   ],
   "source": [
    "%timeit dists[beers_i_like].apply(lambda row: np.sum(row), axis=1)"
   ]
  },
  {
   "cell_type": "code",
   "execution_count": 24,
   "metadata": {
    "collapsed": false
   },
   "outputs": [
    {
     "name": "stdout",
     "output_type": "stream",
     "text": [
      "1000 loops, best of 3: 474 µs per loop\n"
     ]
    }
   ],
   "source": [
    "%timeit np.sum(dists[beers_i_like], axis=1)"
   ]
  },
  {
   "cell_type": "markdown",
   "metadata": {},
   "source": [
    "#### Ranking"
   ]
  },
  {
   "cell_type": "markdown",
   "metadata": {},
   "source": [
    "Sort summed beers from best to worse"
   ]
  },
  {
   "cell_type": "code",
   "execution_count": 25,
   "metadata": {
    "collapsed": false
   },
   "outputs": [
    {
     "name": "stderr",
     "output_type": "stream",
     "text": [
      "C:\\Users\\cVen\\Anaconda2\\lib\\site-packages\\ipykernel\\__main__.py:1: FutureWarning: order is deprecated, use sort_values(...)\n",
      "  if __name__ == '__main__':\n"
     ]
    },
    {
     "data": {
      "text/plain": [
       "beer_name\n",
       "Sierra Nevada Pale Ale                        1.654205\n",
       "Allagash White                                1.634784\n",
       "120 Minute IPA                                1.583966\n",
       "HopDevil Ale                                  1.224217\n",
       "Sierra Nevada Celebration Ale                 1.215156\n",
       "90 Minute IPA                                 1.208359\n",
       "60 Minute IPA                                 1.198874\n",
       "Stone Ruination IPA                           1.194210\n",
       "Stone IPA (India Pale Ale)                    1.193193\n",
       "Storm King Stout                              1.192405\n",
       "Arrogant Bastard Ale                          1.189981\n",
       "Sierra Nevada Bigfoot Barleywine Style Ale    1.178245\n",
       "Prima Pils                                    1.178093\n",
       "Brooklyn Black Chocolate Stout                1.156365\n",
       "Ayinger Celebrator Doppelbock                 1.148356\n",
       "Hennepin (Farmhouse Saison)                   1.147501\n",
       "Samuel Adams Boston Lager                     1.146304\n",
       "Hop Rod Rye                                   1.140271\n",
       "Old Rasputin Russian Imperial Stout           1.136691\n",
       "La Fin Du Monde                               1.128933\n",
       "Hop Wallop                                    1.127292\n",
       "Double Bastard Ale                            1.123117\n",
       "Two Hearted Ale                               1.120865\n",
       "Stone Smoked Porter                           1.115290\n",
       "St. Bernardus Abt 12                          1.109141\n",
       "Schneider Aventinus                           1.106357\n",
       "India Pale Ale                                1.104981\n",
       "Stone Imperial Russian Stout                  1.102951\n",
       "Anchor Steam Beer                             1.101660\n",
       "Duvel                                         1.099554\n",
       "                                                ...   \n",
       "Samuel Adams Cherry Wheat                     0.813352\n",
       "Sculpin India Pale Ale                        0.803009\n",
       "Blind Pig IPA                                 0.796287\n",
       "Red Stripe Jamaican Lager                     0.793733\n",
       "Left Hand Milk Stout                          0.791853\n",
       "Creme Brulee (Imperial Milk Stout)            0.791077\n",
       "Black Butte Porter                            0.789189\n",
       "Boddingtons Pub Ale                           0.788361\n",
       "Imperial IPA                                  0.785819\n",
       "Dark Lord Imperial Stout                      0.782857\n",
       "Murphy's Irish Stout                          0.782647\n",
       "Founders Backwoods Bastard                    0.779792\n",
       "Founders Porter                               0.764203\n",
       "Pabst Blue Ribbon (PBR)                       0.760712\n",
       "Supplication                                  0.760145\n",
       "Budweiser                                     0.758390\n",
       "Furious                                       0.757417\n",
       "New Holland Dragon's Milk Oak Barrel Ale      0.756746\n",
       "Raging Bitch Belgian-Style IPA                0.752031\n",
       "Terrapin Coffee Oatmeal Imperial Stout        0.750240\n",
       "Hobgoblin                                     0.748117\n",
       "Shiner Bock                                   0.739454\n",
       "The Abyss                                     0.723008\n",
       "Miller Lite                                   0.716208\n",
       "Leinenkugel's Sunset Wheat                    0.710691\n",
       "Bud Light                                     0.710377\n",
       "Corona Extra                                  0.682882\n",
       "Miller High Life                              0.682360\n",
       "Coors Light                                   0.670167\n",
       "Vanilla Porter                                0.664363\n",
       "dtype: float64"
      ]
     },
     "execution_count": 25,
     "metadata": {},
     "output_type": "execute_result"
    }
   ],
   "source": [
    "beers_summed = beers_summed.order(ascending=False)\n",
    "beers_summed"
   ]
  },
  {
   "cell_type": "markdown",
   "metadata": {},
   "source": [
    "Filter out the beers used as input and transform to list"
   ]
  },
  {
   "cell_type": "code",
   "execution_count": 26,
   "metadata": {
    "collapsed": false
   },
   "outputs": [
    {
     "data": {
      "text/plain": [
       "['HopDevil Ale',\n",
       " 'Sierra Nevada Celebration Ale',\n",
       " '90 Minute IPA',\n",
       " '60 Minute IPA',\n",
       " 'Stone Ruination IPA',\n",
       " 'Stone IPA (India Pale Ale)',\n",
       " 'Storm King Stout',\n",
       " 'Arrogant Bastard Ale',\n",
       " 'Sierra Nevada Bigfoot Barleywine Style Ale',\n",
       " 'Prima Pils']"
      ]
     },
     "execution_count": 26,
     "metadata": {},
     "output_type": "execute_result"
    }
   ],
   "source": [
    "ranked_beers = beers_summed.index[~beers_summed.index.isin(beers_i_like)]\n",
    "ranked_beers = ranked_beers.tolist()\n",
    "ranked_beers[:10]"
   ]
  },
  {
   "cell_type": "markdown",
   "metadata": {},
   "source": [
    "### Pair Programming!\n",
    "\n",
    "Define a function that does what we just did for an arbitrary input list of beers. it should also receive the maximum number of beers requested n as optional parameter."
   ]
  },
  {
   "cell_type": "code",
   "execution_count": 27,
   "metadata": {
    "collapsed": false
   },
   "outputs": [],
   "source": [
    "def get_similar(beers, n=None):\n",
    "    \"\"\"\n",
    "    calculates which beers are most similar to the beers provided. Does not return\n",
    "    the beers that were provided\n",
    "    \n",
    "    Parameters\n",
    "    ----------\n",
    "    beers: list\n",
    "        some beers!\n",
    "    \n",
    "    Returns\n",
    "    -------\n",
    "    ranked_beers: list\n",
    "        rank ordered beers\n",
    "    \"\"\"\n",
    "    \n",
    "#     beers2 = []\n",
    "#     for beer in beers:\n",
    "#         if beer in dists.columns\n",
    "#             beers2.append(beer)\n",
    "    \n",
    "    beers = [beer for beer in beers if beer in dists.columns]\n",
    "    beers_summed = dists[beers].apply(lambda row: np.sum(row), axis=1)\n",
    "    beers_summed = beers_summed.order(ascending=False)\n",
    "    ranked_beers = beers_summed.index[beers_summed.index.isin(beers)==False]\n",
    "    ranked_beers = ranked_beers.tolist()\n",
    "    if n is None:\n",
    "        return ranked_beers\n",
    "    else:\n",
    "        return ranked_beers[:n]"
   ]
  },
  {
   "cell_type": "markdown",
   "metadata": {},
   "source": [
    "Test your function. Find the 10 beers most similar to \"120 Minute IPA\""
   ]
  },
  {
   "cell_type": "code",
   "execution_count": 28,
   "metadata": {
    "collapsed": false
   },
   "outputs": [
    {
     "name": "stderr",
     "output_type": "stream",
     "text": [
      "C:\\Users\\cVen\\Anaconda2\\lib\\site-packages\\ipykernel\\__main__.py:24: FutureWarning: order is deprecated, use sort_values(...)\n"
     ]
    },
    {
     "data": {
      "text/plain": [
       "['World Wide Stout',\n",
       " '90 Minute IPA',\n",
       " 'Double Bastard Ale',\n",
       " 'Stone Ruination IPA',\n",
       " 'Stone Imperial Russian Stout',\n",
       " 'Storm King Stout',\n",
       " '60 Minute IPA',\n",
       " 'Oaked Arrogant Bastard Ale',\n",
       " 'Sierra Nevada Bigfoot Barleywine Style Ale',\n",
       " 'Brooklyn Black Chocolate Stout']"
      ]
     },
     "execution_count": 28,
     "metadata": {},
     "output_type": "execute_result"
    }
   ],
   "source": [
    "get_similar([\"120 Minute IPA\"], 10)"
   ]
  },
  {
   "cell_type": "code",
   "execution_count": 29,
   "metadata": {
    "collapsed": false
   },
   "outputs": [
    {
     "name": "stdout",
     "output_type": "stream",
     "text": [
      "World Wide Stout\n",
      "90 Minute IPA\n",
      "Double Bastard Ale\n",
      "Stone Ruination IPA\n",
      "Stone Imperial Russian Stout\n",
      "Storm King Stout\n",
      "60 Minute IPA\n",
      "Oaked Arrogant Bastard Ale\n",
      "Sierra Nevada Bigfoot Barleywine Style Ale\n",
      "Brooklyn Black Chocolate Stout\n"
     ]
    },
    {
     "name": "stderr",
     "output_type": "stream",
     "text": [
      "C:\\Users\\cVen\\Anaconda2\\lib\\site-packages\\ipykernel\\__main__.py:24: FutureWarning: order is deprecated, use sort_values(...)\n"
     ]
    }
   ],
   "source": [
    "for beer in get_similar([\"120 Minute IPA\"], 10):\n",
    "    print beer"
   ]
  },
  {
   "cell_type": "markdown",
   "metadata": {},
   "source": [
    "Try again with the 10 beers most similar to [\"Coors Light\", \"Bud Light\", \"Amstel Light\"]"
   ]
  },
  {
   "cell_type": "code",
   "execution_count": 30,
   "metadata": {
    "collapsed": false
   },
   "outputs": [
    {
     "name": "stdout",
     "output_type": "stream",
     "text": [
      "1) Miller Lite\n",
      "2) Budweiser\n",
      "3) Corona Extra\n",
      "4) Samuel Adams Boston Lager\n",
      "5) Heineken Lager Beer\n",
      "6) Blue Moon Belgian White\n",
      "7) Guinness Draught\n",
      "8) Miller High Life\n",
      "9) Samuel Adams Summer Ale\n",
      "10) Sierra Nevada Pale Ale\n"
     ]
    },
    {
     "name": "stderr",
     "output_type": "stream",
     "text": [
      "C:\\Users\\cVen\\Anaconda2\\lib\\site-packages\\ipykernel\\__main__.py:24: FutureWarning: order is deprecated, use sort_values(...)\n"
     ]
    }
   ],
   "source": [
    "for i, beer in enumerate(get_similar([\"Coors Light\", \"Bud Light\", \"Amstel Light\"], 10)):\n",
    "    print \"%d) %s\" % (i+1, beer)"
   ]
  },
  {
   "cell_type": "markdown",
   "metadata": {},
   "source": [
    "Optional: register an account on yhat and deploy your model following the instructions [here](https://docs.yhathq.com/python/examples/beer-recommender) and [here](http://nbviewer.ipython.org/gist/glamp/20a18d52c539b87de2af)"
   ]
  },
  {
   "cell_type": "markdown",
   "metadata": {},
   "source": [
    "## Recsys\n",
    "\n",
    "A python library for implementing a recommender system. If you'd like to, I recommend you explore this project. It's an efficient way to get a recommendation engine off the ground. The example below uses SVD."
   ]
  },
  {
   "cell_type": "code",
   "execution_count": 31,
   "metadata": {
    "collapsed": false
   },
   "outputs": [
    {
     "data": {
      "text/plain": [
       "'\\n##install python-recsys\\n\\n### first install dependencies\\n\\npip install csc-pysparse networkx divisi2\\n\\n### then install recsys\\ngit clone https://github.com/python-recsys/python-recsys.git\\ncd python-recsys/\\n\\npython setup.py install\\n'"
      ]
     },
     "execution_count": 31,
     "metadata": {},
     "output_type": "execute_result"
    }
   ],
   "source": [
    "\"\"\"\n",
    "##install python-recsys\n",
    "\n",
    "### first install dependencies\n",
    "\n",
    "pip install csc-pysparse networkx divisi2\n",
    "\n",
    "### then install recsys\n",
    "git clone https://github.com/python-recsys/python-recsys.git\n",
    "cd python-recsys/\n",
    "\n",
    "python setup.py install\n",
    "\"\"\""
   ]
  },
  {
   "cell_type": "code",
   "execution_count": 32,
   "metadata": {
    "collapsed": false
   },
   "outputs": [
    {
     "name": "stdout",
     "output_type": "stream",
     "text": [
      "Collecting csc-pysparse\n",
      "  Using cached csc-pysparse-1.1.1.4.tar.gz\n",
      "Requirement already satisfied (use --upgrade to upgrade): networkx in c:\\users\\cven\\anaconda2\\lib\\site-packages\n",
      "Collecting divisi2\n",
      "  Using cached Divisi2-2.2.5.tar.gz\n",
      "Requirement already satisfied (use --upgrade to upgrade): decorator>=3.4.0 in c:\\users\\cven\\anaconda2\\lib\\site-packages (from networkx)\n",
      "Collecting csc-utils>=0.6.1 (from divisi2)\n",
      "Building wheels for collected packages: csc-pysparse, divisi2\n",
      "  Running setup.py bdist_wheel for csc-pysparse\n",
      "  Complete output from command C:\\Users\\cVen\\Anaconda2\\python.exe -c \"import setuptools;__file__='c:\\\\users\\\\cven\\\\appdata\\\\local\\\\temp\\\\pip-build-a4mk_q\\\\csc-pysparse\\\\setup.py';exec(compile(open(__file__).read().replace('\\r\\n', '\\n'), __file__, 'exec'))\" bdist_wheel -d c:\\users\\cven\\appdata\\local\\temp\\tmpacvpkopip-wheel-:\n",
      "  blas_opt_info:\n",
      "  blas_mkl_info:\n",
      "    libraries mkl_lapack95_lp64,mkl_blas95_lp64,mkl_intel_lp64,mkl_intel_thread,mkl_core,libiomp5md,libifportmd not found in []\n",
      "    NOT AVAILABLE\n",
      "  \n",
      "  openblas_info:\n",
      "    libraries openblas not found in ['C:\\\\Users\\\\cVen\\\\Anaconda2\\\\lib', 'C:\\\\', 'C:\\\\Users\\\\cVen\\\\Anaconda2\\\\libs']\n",
      "    NOT AVAILABLE\n",
      "  \n",
      "  atlas_3_10_blas_threads_info:\n",
      "  Setting PTATLAS=ATLAS\n",
      "    libraries tatlas not found in ['C:\\\\Users\\\\cVen\\\\Anaconda2\\\\lib', 'C:\\\\', 'C:\\\\Users\\\\cVen\\\\Anaconda2\\\\libs']\n",
      "    NOT AVAILABLE\n",
      "  \n",
      "  atlas_3_10_blas_info:\n",
      "    libraries satlas not found in ['C:\\\\Users\\\\cVen\\\\Anaconda2\\\\lib', 'C:\\\\', 'C:\\\\Users\\\\cVen\\\\Anaconda2\\\\libs']\n",
      "    NOT AVAILABLE\n",
      "  \n",
      "  atlas_blas_threads_info:\n",
      "  Setting PTATLAS=ATLAS\n",
      "    libraries ptf77blas,ptcblas,atlas not found in ['C:\\\\Users\\\\cVen\\\\Anaconda2\\\\lib', 'C:\\\\', 'C:\\\\Users\\\\cVen\\\\Anaconda2\\\\libs']\n",
      "    NOT AVAILABLE\n",
      "  \n",
      "  atlas_blas_info:\n",
      "    libraries f77blas,cblas,atlas not found in ['C:\\\\Users\\\\cVen\\\\Anaconda2\\\\lib', 'C:\\\\', 'C:\\\\Users\\\\cVen\\\\Anaconda2\\\\libs']\n",
      "    NOT AVAILABLE\n",
      "  \n",
      "  blas_info:\n",
      "    libraries blas not found in ['C:\\\\Users\\\\cVen\\\\Anaconda2\\\\lib', 'C:\\\\', 'C:\\\\Users\\\\cVen\\\\Anaconda2\\\\libs']\n",
      "    NOT AVAILABLE\n",
      "  \n",
      "  blas_src_info:\n",
      "    NOT AVAILABLE\n",
      "  \n",
      "    NOT AVAILABLE\n",
      "  \n",
      "  No blas info found\n",
      "  Using BLAS info:\n",
      "  {}\n",
      "  running bdist_wheel\n",
      "  running build\n",
      "  running config_cc\n",
      "  unifing config_cc, config, build_clib, build_ext, build commands --compiler options\n",
      "  running config_fc\n",
      "  unifing config_fc, config, build_clib, build_ext, build commands --fcompiler options\n",
      "  running build_src\n",
      "  build_src\n",
      "  building py_modules sources\n",
      "  building extension \"pysparse.sparse.spmatrix\" sources\n",
      "  building data_files sources\n",
      "  build_src: building npy-pkg config files\n",
      "  running build_py\n",
      "  creating build\\lib.win-amd64-2.7\n",
      "  creating build\\lib.win-amd64-2.7\\pysparse\n",
      "  copying pysparse\\setup.py -> build\\lib.win-amd64-2.7\\pysparse\n",
      "  copying pysparse\\version.py -> build\\lib.win-amd64-2.7\\pysparse\n",
      "  copying pysparse\\__init__.py -> build\\lib.win-amd64-2.7\\pysparse\n",
      "  copying build\\src.win-amd64-2.7\\pysparse\\__config__.py -> build\\lib.win-amd64-2.7\\pysparse\n",
      "  creating build\\lib.win-amd64-2.7\\pysparse\\sparse\n",
      "  copying pysparse\\sparse\\pysparseMatrix.py -> build\\lib.win-amd64-2.7\\pysparse\\sparse\n",
      "  copying pysparse\\sparse\\setup.py -> build\\lib.win-amd64-2.7\\pysparse\\sparse\n",
      "  copying pysparse\\sparse\\sparseMatrix.py -> build\\lib.win-amd64-2.7\\pysparse\\sparse\n",
      "  copying pysparse\\sparse\\__init__.py -> build\\lib.win-amd64-2.7\\pysparse\\sparse\n",
      "  copying build\\src.win-amd64-2.7\\pysparse\\sparse\\__config__.py -> build\\lib.win-amd64-2.7\\pysparse\\sparse\n",
      "  creating build\\lib.win-amd64-2.7\\pysparse\\misc\n",
      "  copying pysparse\\misc\\system.py -> build\\lib.win-amd64-2.7\\pysparse\\misc\n",
      "  copying pysparse\\misc\\__init__.py -> build\\lib.win-amd64-2.7\\pysparse\\misc\n",
      "  running build_ext\n",
      "  customize MSVCCompiler\n",
      "  customize MSVCCompiler using build_ext\n",
      "  building 'pysparse.sparse.spmatrix' extension\n",
      "  compiling C sources\n",
      "  C:\\Users\\cVen\\Anaconda2\\lib\\site-packages\\numpy\\distutils\\system_info.py:635: UserWarning: Specified path C:/Program Files (x86)/Intel/Composer XE/mkl/lib/intel64 is invalid.\n",
      "    warnings.warn('Specified path %s is invalid.' % d)\n",
      "  C:\\Users\\cVen\\Anaconda2\\lib\\site-packages\\numpy\\distutils\\system_info.py:635: UserWarning: Specified path C:/Program Files (x86)/Intel/Composer XE/compiler/lib/intel64 is invalid.\n",
      "    warnings.warn('Specified path %s is invalid.' % d)\n",
      "  C:\\Users\\cVen\\Anaconda2\\lib\\site-packages\\numpy\\distutils\\system_info.py:635: UserWarning: Specified path C:/Program Files (x86)/Intel/Composer XE/mkl/include is invalid.\n",
      "    warnings.warn('Specified path %s is invalid.' % d)\n",
      "  C:\\Users\\cVen\\Anaconda2\\lib\\site-packages\\numpy\\distutils\\system_info.py:1651: UserWarning:\n",
      "      Atlas (http://math-atlas.sourceforge.net/) libraries not found.\n",
      "      Directories to search for the libraries can be specified in the\n",
      "      numpy/distutils/site.cfg file (section [atlas]) or by setting\n",
      "      the ATLAS environment variable.\n",
      "    warnings.warn(AtlasNotFoundError.__doc__)\n",
      "  C:\\Users\\cVen\\Anaconda2\\lib\\site-packages\\numpy\\distutils\\system_info.py:1660: UserWarning:\n",
      "      Blas (http://www.netlib.org/blas/) libraries not found.\n",
      "      Directories to search for the libraries can be specified in the\n",
      "      numpy/distutils/site.cfg file (section [blas]) or by setting\n",
      "      the BLAS environment variable.\n",
      "    warnings.warn(BlasNotFoundError.__doc__)\n",
      "  C:\\Users\\cVen\\Anaconda2\\lib\\site-packages\\numpy\\distutils\\system_info.py:1663: UserWarning:\n",
      "      Blas (http://www.netlib.org/blas/) sources not found.\n",
      "      Directories to search for the sources can be specified in the\n",
      "      numpy/distutils/site.cfg file (section [blas_src]) or by setting\n",
      "      the BLAS_SRC environment variable.\n",
      "    warnings.warn(BlasSrcNotFoundError.__doc__)\n",
      "  error: Microsoft Visual C++ 9.0 is required (Unable to find vcvarsall.bat). Get it from http://aka.ms/vcpython27\n",
      "  \n",
      "  ----------------------------------------\n",
      "  Running setup.py bdist_wheel for divisi2\n",
      "  Complete output from command C:\\Users\\cVen\\Anaconda2\\python.exe -c \"import setuptools;__file__='c:\\\\users\\\\cven\\\\appdata\\\\local\\\\temp\\\\pip-build-a4mk_q\\\\divisi2\\\\setup.py';exec(compile(open(__file__).read().replace('\\r\\n', '\\n'), __file__, 'exec'))\" bdist_wheel -d c:\\users\\cven\\appdata\\local\\temp\\tmpzttesepip-wheel-:\n",
      "  running bdist_wheel\n",
      "  running build\n",
      "  running build_py\n",
      "  creating build\n",
      "  creating build\\lib.win-amd64-2.7\n",
      "  creating build\\lib.win-amd64-2.7\\divisi2\n",
      "  copying divisi2\\blending.py -> build\\lib.win-amd64-2.7\\divisi2\n",
      "  copying divisi2\\ccipca.py -> build\\lib.win-amd64-2.7\\divisi2\n",
      "  copying divisi2\\dataset.py -> build\\lib.win-amd64-2.7\\divisi2\n",
      "  copying divisi2\\dense.py -> build\\lib.win-amd64-2.7\\divisi2\n",
      "  copying divisi2\\examples.py -> build\\lib.win-amd64-2.7\\divisi2\n",
      "  copying divisi2\\exceptions.py -> build\\lib.win-amd64-2.7\\divisi2\n",
      "  copying divisi2\\export_svdview.py -> build\\lib.win-amd64-2.7\\divisi2\n",
      "  copying divisi2\\fileIO.py -> build\\lib.win-amd64-2.7\\divisi2\n",
      "  copying divisi2\\labels.py -> build\\lib.win-amd64-2.7\\divisi2\n",
      "  copying divisi2\\network.py -> build\\lib.win-amd64-2.7\\divisi2\n",
      "  copying divisi2\\operators.py -> build\\lib.win-amd64-2.7\\divisi2\n",
      "  copying divisi2\\ordered_set.py -> build\\lib.win-amd64-2.7\\divisi2\n",
      "  copying divisi2\\priodict.py -> build\\lib.win-amd64-2.7\\divisi2\n",
      "  copying divisi2\\reconstructed.py -> build\\lib.win-amd64-2.7\\divisi2\n",
      "  copying divisi2\\sparse.py -> build\\lib.win-amd64-2.7\\divisi2\n",
      "  copying divisi2\\__init__.py -> build\\lib.win-amd64-2.7\\divisi2\n",
      "  creating build\\lib.win-amd64-2.7\\divisi2\\algorithms\n",
      "  copying divisi2\\algorithms\\mds.py -> build\\lib.win-amd64-2.7\\divisi2\\algorithms\n",
      "  copying divisi2\\algorithms\\nmf.py -> build\\lib.win-amd64-2.7\\divisi2\\algorithms\n",
      "  copying divisi2\\algorithms\\randomized_svd.py -> build\\lib.win-amd64-2.7\\divisi2\\algorithms\n",
      "  copying divisi2\\algorithms\\svd.py -> build\\lib.win-amd64-2.7\\divisi2\\algorithms\n",
      "  copying divisi2\\algorithms\\__init__.py -> build\\lib.win-amd64-2.7\\divisi2\\algorithms\n",
      "  creating build\\lib.win-amd64-2.7\\divisi2\\test\n",
      "  copying divisi2\\test\\ordercompare.py -> build\\lib.win-amd64-2.7\\divisi2\\test\n",
      "  copying divisi2\\test\\test_dense.py -> build\\lib.win-amd64-2.7\\divisi2\\test\n",
      "  copying divisi2\\test\\test_pickle.py -> build\\lib.win-amd64-2.7\\divisi2\\test\n",
      "  copying divisi2\\test\\test_priodict.py -> build\\lib.win-amd64-2.7\\divisi2\\test\n",
      "  copying divisi2\\test\\test_sparse.py -> build\\lib.win-amd64-2.7\\divisi2\\test\n",
      "  copying divisi2\\test\\test_svd.py -> build\\lib.win-amd64-2.7\\divisi2\\test\n",
      "  copying divisi2\\test\\test_tfidf.py -> build\\lib.win-amd64-2.7\\divisi2\\test\n",
      "  copying divisi2\\test\\__init__.py -> build\\lib.win-amd64-2.7\\divisi2\\test\n",
      "  creating build\\lib.win-amd64-2.7\\divisi2\\test\\eval\n",
      "  copying divisi2\\test\\eval\\test_predictions.py -> build\\lib.win-amd64-2.7\\divisi2\\test\\eval\n",
      "  copying divisi2\\test\\eval\\__init__.py -> build\\lib.win-amd64-2.7\\divisi2\\test\\eval\n",
      "  creating build\\lib.win-amd64-2.7\\divisi2\\data\n",
      "  creating build\\lib.win-amd64-2.7\\divisi2\\data\\graphs\n",
      "  copying divisi2\\data\\graphs\\conceptnet_en.graph.gz -> build\\lib.win-amd64-2.7\\divisi2\\data\\graphs\n",
      "  copying divisi2\\data\\graphs\\conceptnet_ja.graph.gz -> build\\lib.win-amd64-2.7\\divisi2\\data\\graphs\n",
      "  creating build\\lib.win-amd64-2.7\\divisi2\\data\\eval\n",
      "  copying divisi2\\data\\eval\\usertest_data.pickle -> build\\lib.win-amd64-2.7\\divisi2\\data\\eval\n",
      "  creating build\\lib.win-amd64-2.7\\divisi2\\data\\matrices\n",
      "  copying divisi2\\data\\matrices\\conceptnet_assoc_en.gz -> build\\lib.win-amd64-2.7\\divisi2\\data\\matrices\n",
      "  copying divisi2\\data\\matrices\\conceptnet_assoc_ja.gz -> build\\lib.win-amd64-2.7\\divisi2\\data\\matrices\n",
      "  copying divisi2\\data\\matrices\\conceptnet_en.gz -> build\\lib.win-amd64-2.7\\divisi2\\data\\matrices\n",
      "  copying divisi2\\data\\matrices\\conceptnet_ja.gz -> build\\lib.win-amd64-2.7\\divisi2\\data\\matrices\n",
      "  running build_ext\n",
      "  building 'divisi2._svdlib' extension\n",
      "  error: Microsoft Visual C++ 9.0 is required (Unable to find vcvarsall.bat). Get it from http://aka.ms/vcpython27\n",
      "  \n",
      "  ----------------------------------------\n",
      "Failed to build csc-pysparse divisi2\n",
      "Installing collected packages: csc-pysparse, csc-utils, divisi2\n",
      "  Running setup.py install for csc-pysparse\n",
      "    Complete output from command C:\\Users\\cVen\\Anaconda2\\python.exe -c \"import setuptools, tokenize;__file__='c:\\\\users\\\\cven\\\\appdata\\\\local\\\\temp\\\\pip-build-a4mk_q\\\\csc-pysparse\\\\setup.py';exec(compile(getattr(tokenize, 'open', open)(__file__).read().replace('\\r\\n', '\\n'), __file__, 'exec'))\" install --record c:\\users\\cven\\appdata\\local\\temp\\pip-xdkstu-record\\install-record.txt --single-version-externally-managed --compile:\n",
      "    blas_opt_info:\n",
      "    blas_mkl_info:\n",
      "      libraries mkl_lapack95_lp64,mkl_blas95_lp64,mkl_intel_lp64,mkl_intel_thread,mkl_core,libiomp5md,libifportmd not found in []\n",
      "      NOT AVAILABLE\n",
      "    \n",
      "    openblas_info:\n",
      "      libraries openblas not found in ['C:\\\\Users\\\\cVen\\\\Anaconda2\\\\lib', 'C:\\\\', 'C:\\\\Users\\\\cVen\\\\Anaconda2\\\\libs']\n",
      "      NOT AVAILABLE\n",
      "    \n",
      "    atlas_3_10_blas_threads_info:\n",
      "    Setting PTATLAS=ATLAS\n",
      "      libraries tatlas not found in ['C:\\\\Users\\\\cVen\\\\Anaconda2\\\\lib', 'C:\\\\', 'C:\\\\Users\\\\cVen\\\\Anaconda2\\\\libs']\n",
      "      NOT AVAILABLE\n",
      "    \n",
      "    atlas_3_10_blas_info:\n",
      "      libraries satlas not found in ['C:\\\\Users\\\\cVen\\\\Anaconda2\\\\lib', 'C:\\\\', 'C:\\\\Users\\\\cVen\\\\Anaconda2\\\\libs']\n",
      "      NOT AVAILABLE\n",
      "    \n",
      "    atlas_blas_threads_info:\n",
      "    Setting PTATLAS=ATLAS\n",
      "      libraries ptf77blas,ptcblas,atlas not found in ['C:\\\\Users\\\\cVen\\\\Anaconda2\\\\lib', 'C:\\\\', 'C:\\\\Users\\\\cVen\\\\Anaconda2\\\\libs']\n",
      "      NOT AVAILABLE\n",
      "    \n",
      "    atlas_blas_info:\n",
      "      libraries f77blas,cblas,atlas not found in ['C:\\\\Users\\\\cVen\\\\Anaconda2\\\\lib', 'C:\\\\', 'C:\\\\Users\\\\cVen\\\\Anaconda2\\\\libs']\n",
      "      NOT AVAILABLE\n",
      "    \n",
      "    blas_info:\n",
      "      libraries blas not found in ['C:\\\\Users\\\\cVen\\\\Anaconda2\\\\lib', 'C:\\\\', 'C:\\\\Users\\\\cVen\\\\Anaconda2\\\\libs']\n",
      "      NOT AVAILABLE\n",
      "    \n",
      "    blas_src_info:\n",
      "      NOT AVAILABLE\n",
      "    \n",
      "      NOT AVAILABLE\n",
      "    \n",
      "    No blas info found\n",
      "    Using BLAS info:\n",
      "    {}\n",
      "    running install\n",
      "    running build\n",
      "    running config_cc\n",
      "    unifing config_cc, config, build_clib, build_ext, build commands --compiler options\n",
      "    running config_fc\n",
      "    unifing config_fc, config, build_clib, build_ext, build commands --fcompiler options\n",
      "    running build_src\n",
      "    build_src\n",
      "    building py_modules sources\n",
      "    building extension \"pysparse.sparse.spmatrix\" sources\n",
      "    building data_files sources\n",
      "    build_src: building npy-pkg config files\n",
      "    running build_py\n",
      "    copying build\\src.win-amd64-2.7\\pysparse\\__config__.py -> build\\lib.win-amd64-2.7\\pysparse\n",
      "    copying build\\src.win-amd64-2.7\\pysparse\\sparse\\__config__.py -> build\\lib.win-amd64-2.7\\pysparse\\sparse\n",
      "    running build_ext\n",
      "    customize MSVCCompiler\n",
      "    customize MSVCCompiler using build_ext\n",
      "    building 'pysparse.sparse.spmatrix' extension\n",
      "    compiling C sources\n",
      "    C:\\Users\\cVen\\Anaconda2\\lib\\site-packages\\numpy\\distutils\\system_info.py:635: UserWarning: Specified path C:/Program Files (x86)/Intel/Composer XE/mkl/lib/intel64 is invalid.\n",
      "      warnings.warn('Specified path %s is invalid.' % d)\n",
      "    C:\\Users\\cVen\\Anaconda2\\lib\\site-packages\\numpy\\distutils\\system_info.py:635: UserWarning: Specified path C:/Program Files (x86)/Intel/Composer XE/compiler/lib/intel64 is invalid.\n",
      "      warnings.warn('Specified path %s is invalid.' % d)\n",
      "    C:\\Users\\cVen\\Anaconda2\\lib\\site-packages\\numpy\\distutils\\system_info.py:635: UserWarning: Specified path C:/Program Files (x86)/Intel/Composer XE/mkl/include is invalid.\n",
      "      warnings.warn('Specified path %s is invalid.' % d)\n",
      "    C:\\Users\\cVen\\Anaconda2\\lib\\site-packages\\numpy\\distutils\\system_info.py:1651: UserWarning:\n",
      "        Atlas (http://math-atlas.sourceforge.net/) libraries not found.\n",
      "        Directories to search for the libraries can be specified in the\n",
      "        numpy/distutils/site.cfg file (section [atlas]) or by setting\n",
      "        the ATLAS environment variable.\n",
      "      warnings.warn(AtlasNotFoundError.__doc__)\n",
      "    C:\\Users\\cVen\\Anaconda2\\lib\\site-packages\\numpy\\distutils\\system_info.py:1660: UserWarning:\n",
      "        Blas (http://www.netlib.org/blas/) libraries not found.\n",
      "        Directories to search for the libraries can be specified in the\n",
      "        numpy/distutils/site.cfg file (section [blas]) or by setting\n",
      "        the BLAS environment variable.\n",
      "      warnings.warn(BlasNotFoundError.__doc__)\n",
      "    C:\\Users\\cVen\\Anaconda2\\lib\\site-packages\\numpy\\distutils\\system_info.py:1663: UserWarning:\n",
      "        Blas (http://www.netlib.org/blas/) sources not found.\n",
      "        Directories to search for the sources can be specified in the\n",
      "        numpy/distutils/site.cfg file (section [blas_src]) or by setting\n",
      "        the BLAS_SRC environment variable.\n",
      "      warnings.warn(BlasSrcNotFoundError.__doc__)\n",
      "    error: Microsoft Visual C++ 9.0 is required (Unable to find vcvarsall.bat). Get it from http://aka.ms/vcpython27\n",
      "    \n",
      "    ----------------------------------------\n"
     ]
    },
    {
     "name": "stderr",
     "output_type": "stream",
     "text": [
      "  Failed building wheel for csc-pysparse\n",
      "  Failed building wheel for divisi2\n",
      "Command \"C:\\Users\\cVen\\Anaconda2\\python.exe -c \"import setuptools, tokenize;__file__='c:\\\\users\\\\cven\\\\appdata\\\\local\\\\temp\\\\pip-build-a4mk_q\\\\csc-pysparse\\\\setup.py';exec(compile(getattr(tokenize, 'open', open)(__file__).read().replace('\\r\\n', '\\n'), __file__, 'exec'))\" install --record c:\\users\\cven\\appdata\\local\\temp\\pip-xdkstu-record\\install-record.txt --single-version-externally-managed --compile\" failed with error code 1 in c:\\users\\cven\\appdata\\local\\temp\\pip-build-a4mk_q\\csc-pysparse\n"
     ]
    }
   ],
   "source": [
    "! pip install csc-pysparse networkx divisi2"
   ]
  },
  {
   "cell_type": "markdown",
   "metadata": {},
   "source": [
    "Load recsys.algotihm, set VERBOSE = True import SVD class"
   ]
  },
  {
   "cell_type": "code",
   "execution_count": 33,
   "metadata": {
    "collapsed": false
   },
   "outputs": [
    {
     "ename": "ImportError",
     "evalue": "No module named csc",
     "output_type": "error",
     "traceback": [
      "\u001b[1;31m---------------------------------------------------------------------------\u001b[0m",
      "\u001b[1;31mImportError\u001b[0m                               Traceback (most recent call last)",
      "\u001b[1;32m<ipython-input-33-c6ce7e40edc0>\u001b[0m in \u001b[0;36m<module>\u001b[1;34m()\u001b[0m\n\u001b[0;32m      1\u001b[0m \u001b[1;32mimport\u001b[0m \u001b[0mrecsys\u001b[0m\u001b[1;33m.\u001b[0m\u001b[0malgorithm\u001b[0m\u001b[1;33m\u001b[0m\u001b[0m\n\u001b[0;32m      2\u001b[0m \u001b[0mrecsys\u001b[0m\u001b[1;33m.\u001b[0m\u001b[0malgorithm\u001b[0m\u001b[1;33m.\u001b[0m\u001b[0mVERBOSE\u001b[0m \u001b[1;33m=\u001b[0m \u001b[0mTrue\u001b[0m\u001b[1;33m\u001b[0m\u001b[0m\n\u001b[1;32m----> 3\u001b[1;33m \u001b[1;32mfrom\u001b[0m \u001b[0mrecsys\u001b[0m\u001b[1;33m.\u001b[0m\u001b[0malgorithm\u001b[0m\u001b[1;33m.\u001b[0m\u001b[0mfactorize\u001b[0m \u001b[1;32mimport\u001b[0m \u001b[0mSVD\u001b[0m\u001b[1;33m\u001b[0m\u001b[0m\n\u001b[0m",
      "\u001b[1;32mbuild\\bdist.win-amd64\\egg\\recsys\\algorithm\\factorize.py\u001b[0m in \u001b[0;36m<module>\u001b[1;34m()\u001b[0m\n",
      "\u001b[1;31mImportError\u001b[0m: No module named csc"
     ]
    }
   ],
   "source": [
    "import recsys.algorithm\n",
    "recsys.algorithm.VERBOSE = True\n",
    "from recsys.algorithm.factorize import SVD"
   ]
  },
  {
   "cell_type": "markdown",
   "metadata": {},
   "source": [
    "Let's look at the files"
   ]
  },
  {
   "cell_type": "code",
   "execution_count": null,
   "metadata": {
    "collapsed": false
   },
   "outputs": [],
   "source": [
    "! ls ../data/movielens/"
   ]
  },
  {
   "cell_type": "markdown",
   "metadata": {},
   "source": [
    "Import 'movies.dat' to a 'movies' pandas dataframe. Make sure you name the columns, use the correct separator and define the index."
   ]
  },
  {
   "cell_type": "code",
   "execution_count": null,
   "metadata": {
    "collapsed": false
   },
   "outputs": [],
   "source": [
    "movies = pd.read_table('../data/movielens/movies.dat', sep='::', engine='python',\n",
    "                       names= ['ITEMID', 'Title', 'Genres'], index_col= 'ITEMID')"
   ]
  },
  {
   "cell_type": "code",
   "execution_count": null,
   "metadata": {
    "collapsed": false
   },
   "outputs": [],
   "source": [
    "movies.head()"
   ]
  },
  {
   "cell_type": "markdown",
   "metadata": {},
   "source": [
    "Import 'ratings.dat' to a 'ratings' pandas dataframe. Make sure you name the columns, use the correct separator."
   ]
  },
  {
   "cell_type": "code",
   "execution_count": null,
   "metadata": {
    "collapsed": false
   },
   "outputs": [],
   "source": [
    "ratings = pd.read_table('../data/movielens/ratings.dat', sep='::', engine='python',\n",
    "                        names= ['UserID','MovieID','Rating','Timestamp'])"
   ]
  },
  {
   "cell_type": "code",
   "execution_count": null,
   "metadata": {
    "collapsed": false
   },
   "outputs": [],
   "source": [
    "ratings.head()"
   ]
  },
  {
   "cell_type": "markdown",
   "metadata": {},
   "source": [
    "Initialize an SVD instance"
   ]
  },
  {
   "cell_type": "code",
   "execution_count": null,
   "metadata": {
    "collapsed": false
   },
   "outputs": [],
   "source": [
    "svd = SVD()"
   ]
  },
  {
   "cell_type": "markdown",
   "metadata": {},
   "source": [
    "Populate it with the data from the ratings dataset, using the built in load_data method"
   ]
  },
  {
   "cell_type": "code",
   "execution_count": null,
   "metadata": {
    "collapsed": false
   },
   "outputs": [],
   "source": [
    "svd.load_data(filename='../data/movielens/ratings.dat', sep='::', format={'col':0, 'row':1, 'value':2, 'ids': int})"
   ]
  },
  {
   "cell_type": "markdown",
   "metadata": {},
   "source": [
    "Compute SVD\n",
    "\n",
    "$M=U \\Sigma V^T$:"
   ]
  },
  {
   "cell_type": "code",
   "execution_count": null,
   "metadata": {
    "collapsed": false
   },
   "outputs": [],
   "source": [
    "k = 100\n",
    "svd.compute(k=k, min_values=10, pre_normalize=None, mean_center=True, post_normalize=True)"
   ]
  },
  {
   "cell_type": "markdown",
   "metadata": {},
   "source": [
    "you can also save the output SVD model (in a zip file)"
   ]
  },
  {
   "cell_type": "code",
   "execution_count": null,
   "metadata": {
    "collapsed": false
   },
   "outputs": [],
   "source": [
    "# svd.compute(k=k, min_values=10, pre_normalize=None, mean_center=True, post_normalize=True, savefile='/tmp/movielens')"
   ]
  },
  {
   "cell_type": "markdown",
   "metadata": {},
   "source": [
    "Reload a saved model:"
   ]
  },
  {
   "cell_type": "code",
   "execution_count": null,
   "metadata": {
    "collapsed": false
   },
   "outputs": [],
   "source": [
    "# svd2 = SVD(filename='/tmp/movielens')"
   ]
  },
  {
   "cell_type": "markdown",
   "metadata": {},
   "source": [
    "Find the ITEMID number for \"Toy Story (1995)\""
   ]
  },
  {
   "cell_type": "code",
   "execution_count": null,
   "metadata": {
    "collapsed": false
   },
   "outputs": [],
   "source": [
    "movies[movies.Title == \"Toy Story (1995)\"]"
   ]
  },
  {
   "cell_type": "markdown",
   "metadata": {},
   "source": [
    "Find the ITEMID number for \"Bug's Life, A (1998)\""
   ]
  },
  {
   "cell_type": "code",
   "execution_count": null,
   "metadata": {
    "collapsed": false
   },
   "outputs": [],
   "source": [
    "movies[movies.Title == \"Bug's Life, A (1998)\"]"
   ]
  },
  {
   "cell_type": "markdown",
   "metadata": {},
   "source": [
    "Compute similarity between the two movies"
   ]
  },
  {
   "cell_type": "code",
   "execution_count": null,
   "metadata": {
    "collapsed": false
   },
   "outputs": [],
   "source": [
    "ITEMID1 = 1    # Toy Story (1995)\n",
    "ITEMID2 = 2355 # A bug's life (1998)\n",
    "print svd.similarity(ITEMID1, ITEMID2)\n",
    "print svd2.similarity(ITEMID1, ITEMID2)"
   ]
  },
  {
   "cell_type": "markdown",
   "metadata": {},
   "source": [
    "Get movies similar to Toy Story"
   ]
  },
  {
   "cell_type": "code",
   "execution_count": null,
   "metadata": {
    "collapsed": false
   },
   "outputs": [],
   "source": [
    "svd.similar(ITEMID1)"
   ]
  },
  {
   "cell_type": "code",
   "execution_count": null,
   "metadata": {
    "collapsed": false
   },
   "outputs": [],
   "source": [
    "movies[movies.index == 3114]"
   ]
  },
  {
   "cell_type": "markdown",
   "metadata": {},
   "source": [
    "Predict rating for a given user and movie, $\\hat{r}_{ui}$"
   ]
  },
  {
   "cell_type": "code",
   "execution_count": null,
   "metadata": {
    "collapsed": false
   },
   "outputs": [],
   "source": [
    "# ratings[(ratings.UserID == 1) & (ratings.Rating == 5)]\n",
    "# ratings.columns"
   ]
  },
  {
   "cell_type": "code",
   "execution_count": null,
   "metadata": {
    "collapsed": false
   },
   "outputs": [],
   "source": [
    "MIN_RATING = 0.0\n",
    "MAX_RATING = 5.0\n",
    "ITEMID = 1\n",
    "USERID = 1\n",
    "svd.predict(ITEMID, USERID, MIN_RATING, MAX_RATING)"
   ]
  },
  {
   "cell_type": "code",
   "execution_count": null,
   "metadata": {
    "collapsed": false
   },
   "outputs": [],
   "source": [
    "svd.get_matrix().value(ITEMID, USERID)"
   ]
  },
  {
   "cell_type": "markdown",
   "metadata": {},
   "source": [
    "Recommend non rated movies to a user"
   ]
  },
  {
   "cell_type": "code",
   "execution_count": null,
   "metadata": {
    "collapsed": false
   },
   "outputs": [],
   "source": [
    "svd.recommend(USERID, is_row=False)"
   ]
  },
  {
   "cell_type": "markdown",
   "metadata": {},
   "source": [
    "Which users should see Toy Story? (e.g. which users -that have not rated Toy Story- would give it a high rating?)"
   ]
  },
  {
   "cell_type": "code",
   "execution_count": null,
   "metadata": {
    "collapsed": false
   },
   "outputs": [],
   "source": [
    "svd.recommend(ITEMID)"
   ]
  },
  {
   "cell_type": "markdown",
   "metadata": {},
   "source": [
    "Find out more here: [https://github.com/ocelma/python-recsys](https://github.com/ocelma/python-recsys)"
   ]
  }
 ],
 "metadata": {
  "kernelspec": {
   "display_name": "Python 2",
   "language": "python",
   "name": "python2"
  },
  "language_info": {
   "codemirror_mode": {
    "name": "ipython",
    "version": 2
   },
   "file_extension": ".py",
   "mimetype": "text/x-python",
   "name": "python",
   "nbconvert_exporter": "python",
   "pygments_lexer": "ipython2",
   "version": "2.7.11"
  }
 },
 "nbformat": 4,
 "nbformat_minor": 0
}
