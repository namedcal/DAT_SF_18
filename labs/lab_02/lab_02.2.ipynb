{
 "cells": [
  {
   "cell_type": "markdown",
   "metadata": {},
   "source": [
    "# Linear Algebra"
   ]
  },
  {
   "cell_type": "markdown",
   "metadata": {},
   "source": [
    "#### Importing Packages\n",
    "Python has an extensive collection of third-party libraries, or ***packages***, with additional functions, data-structures, etc.  Many (most?) packages of interest are hosted on the Python Package Index ***pypi***, and can be installed into your environment using ***pip***.  The Anaconda distribution in the pre-work includes a number of these that are useful in data science, so you should have most of them installed already.  \n",
    "\n",
    "ref:  https://pypi.python.org/pypi"
   ]
  },
  {
   "cell_type": "markdown",
   "metadata": {},
   "source": [
    "A note on namespaces when importing - there are a few different ways to import:\n",
    "\n",
    "    1. import numpy\n",
    "\n",
    "    - all submodules of numpy are accessible in the numpy namespace\n",
    "    - e.g. numpy.array([1,2,3])\n",
    "\n",
    "\n",
    "    2. import numpy as np\n",
    "\n",
    "    - same as 1 except an alias 'np' is created for the namespace instead\n",
    "    - e.g. np.array([1,2,3])\n",
    "\n",
    "\n",
    "    3. from numpy import *\n",
    "\n",
    "    - adds all submodules to global namespace\n",
    "    - e.g. array([1,2,3])\n",
    "    - Note: This can be dangerous because if different modules have submodules with the same name than whatever is imported last will overrite what came before it - i.e. naming collision -> overwriting!.\n",
    "    \n",
    "    4. from numpy import array\n",
    "    \n",
    "    - will import only the indicated submodules into the global namespace\n",
    "    - e.g. array([1,2,3])\n",
    "    - Note: can be ok since you are being explicit\n",
    "    \n",
    "    We will generally use 2 and 4 (sparingly)"
   ]
  },
  {
   "cell_type": "markdown",
   "metadata": {
    "collapsed": true
   },
   "source": [
    "### NumPy\n",
    "\n",
    "As we've seen in lecture, linear algebra is the branch of mathematics describing navigation between different vector spaces. This core concept is very important as various data science techniques rely upon it (e.g. Linear Regression, Support Vector Machines, Recommender Systems, Neural Networks).\n",
    "\n",
    "NumPy is a package designed to be used in scientific computing, and specifically around building and manipulating N-dimensional array objects."
   ]
  },
  {
   "cell_type": "code",
   "execution_count": 1,
   "metadata": {
    "collapsed": false
   },
   "outputs": [],
   "source": [
    "import numpy\n",
    "\n",
    "import numpy as np\n",
    "\n",
    "from numpy import absolute\n",
    "\n",
    "# The next one is dangerous to do, and not recommended \n",
    "# except in cases where you know why you're using it\n",
    "# from numpy import *"
   ]
  },
  {
   "cell_type": "markdown",
   "metadata": {},
   "source": [
    "Now we can do the same thing three ways"
   ]
  },
  {
   "cell_type": "code",
   "execution_count": 2,
   "metadata": {
    "collapsed": false
   },
   "outputs": [
    {
     "name": "stdout",
     "output_type": "stream",
     "text": [
      "10\n",
      "10\n",
      "10\n"
     ]
    }
   ],
   "source": [
    "print numpy.absolute(-10)\n",
    "print np.absolute(-10)\n",
    "print absolute(-10)"
   ]
  },
  {
   "cell_type": "markdown",
   "metadata": {},
   "source": [
    "We can create the Linear Algebra Objects we saw in lecture"
   ]
  },
  {
   "cell_type": "code",
   "execution_count": 15,
   "metadata": {
    "collapsed": false
   },
   "outputs": [
    {
     "data": {
      "text/plain": [
       "array([1, 2, 1])"
      ]
     },
     "execution_count": 15,
     "metadata": {},
     "output_type": "execute_result"
    }
   ],
   "source": [
    "vector = np.array([1, 2, 1])\n",
    "vector"
   ]
  },
  {
   "cell_type": "code",
   "execution_count": 13,
   "metadata": {
    "collapsed": false
   },
   "outputs": [
    {
     "data": {
      "text/plain": [
       "array([[1, 2, 3],\n",
       "       [2, 4, 9]])"
      ]
     },
     "execution_count": 13,
     "metadata": {},
     "output_type": "execute_result"
    }
   ],
   "source": [
    "data = np.array([[1, 2, 3],[2, 4, 9]])\n",
    "data"
   ]
  },
  {
   "cell_type": "code",
   "execution_count": 5,
   "metadata": {
    "collapsed": false
   },
   "outputs": [
    {
     "data": {
      "text/plain": [
       "array([1, 2, 3])"
      ]
     },
     "execution_count": 5,
     "metadata": {},
     "output_type": "execute_result"
    }
   ],
   "source": [
    "data[0]  # first row"
   ]
  },
  {
   "cell_type": "code",
   "execution_count": 9,
   "metadata": {
    "collapsed": false
   },
   "outputs": [
    {
     "data": {
      "text/plain": [
       "array([2])"
      ]
     },
     "execution_count": 9,
     "metadata": {},
     "output_type": "execute_result"
    }
   ],
   "source": [
    "data[ :1 , 1]  # all rows, second column"
   ]
  },
  {
   "cell_type": "markdown",
   "metadata": {},
   "source": [
    "Numpy lets us perform matrix operations"
   ]
  },
  {
   "cell_type": "code",
   "execution_count": 10,
   "metadata": {
    "collapsed": false
   },
   "outputs": [
    {
     "data": {
      "text/plain": [
       "array([ 8, 19])"
      ]
     },
     "execution_count": 10,
     "metadata": {},
     "output_type": "execute_result"
    }
   ],
   "source": [
    "np.dot(data, vector)"
   ]
  },
  {
   "cell_type": "markdown",
   "metadata": {},
   "source": [
    "We can transpose an array"
   ]
  },
  {
   "cell_type": "code",
   "execution_count": 16,
   "metadata": {
    "collapsed": false
   },
   "outputs": [
    {
     "name": "stdout",
     "output_type": "stream",
     "text": [
      "[[1 2 3]\n",
      " [2 4 9]]\n",
      "[[1 2]\n",
      " [2 4]\n",
      " [3 9]]\n"
     ]
    }
   ],
   "source": [
    "print data\n",
    "print data.T"
   ]
  },
  {
   "cell_type": "markdown",
   "metadata": {},
   "source": [
    "#### Creating a square matrix array"
   ]
  },
  {
   "cell_type": "code",
   "execution_count": 18,
   "metadata": {
    "collapsed": false
   },
   "outputs": [
    {
     "data": {
      "text/plain": [
       "array([[ 0,  1,  2,  3,  4],\n",
       "       [ 5,  6,  7,  8,  9],\n",
       "       [10, 11, 12, 13, 14],\n",
       "       [15, 16, 17, 18, 19],\n",
       "       [20, 21, 22, 23, 24]])"
      ]
     },
     "execution_count": 18,
     "metadata": {},
     "output_type": "execute_result"
    }
   ],
   "source": [
    "a = np.arange(25).reshape(5,5)\n",
    "# arange(n) is a function that creates a 1 row array of integers of length n \n",
    "# reshape(M,N) is a method converts a list to a matrix of size MxN\n",
    "a"
   ]
  },
  {
   "cell_type": "code",
   "execution_count": 20,
   "metadata": {
    "collapsed": false
   },
   "outputs": [
    {
     "data": {
      "text/plain": [
       "array([[  0,  10,  20,  30,  40],\n",
       "       [ 50,  60,  70,  80,  90],\n",
       "       [100, 110, 120, 130, 140],\n",
       "       [150, 160, 170, 180, 190],\n",
       "       [200, 210, 220, 230, 240]])"
      ]
     },
     "execution_count": 20,
     "metadata": {},
     "output_type": "execute_result"
    }
   ],
   "source": [
    "biga = a*10\n",
    "biga"
   ]
  },
  {
   "cell_type": "code",
   "execution_count": 21,
   "metadata": {
    "collapsed": false
   },
   "outputs": [
    {
     "name": "stdout",
     "output_type": "stream",
     "text": [
      "120.0\n",
      "[ 100.  110.  120.  130.  140.]\n"
     ]
    },
    {
     "data": {
      "text/plain": [
       "array([  20.,   70.,  120.,  170.,  220.])"
      ]
     },
     "execution_count": 21,
     "metadata": {},
     "output_type": "execute_result"
    }
   ],
   "source": [
    "print biga.mean()\n",
    "print biga.mean(0) #Average per column\n",
    "biga.mean(1) #average per row\n",
    "# type(biga.mean(1))"
   ]
  },
  {
   "cell_type": "markdown",
   "metadata": {},
   "source": [
    "Creating a matrix with numpy"
   ]
  },
  {
   "cell_type": "code",
   "execution_count": 22,
   "metadata": {
    "collapsed": false
   },
   "outputs": [
    {
     "data": {
      "text/plain": [
       "matrix([[-20, -10,   0,  10,  20],\n",
       "        [ 30,  40,  50,  60,  70],\n",
       "        [ 80,  90, 100, 110, 120],\n",
       "        [130, 140, 150, 160, 170],\n",
       "        [180, 190, 200, 210, 220]])"
      ]
     },
     "execution_count": 22,
     "metadata": {},
     "output_type": "execute_result"
    }
   ],
   "source": [
    "bigm = np.matrix(biga-20)\n",
    "bigm"
   ]
  },
  {
   "cell_type": "markdown",
   "metadata": {},
   "source": [
    "Creating the Inverse of a Matrix"
   ]
  },
  {
   "cell_type": "code",
   "execution_count": 23,
   "metadata": {
    "collapsed": false
   },
   "outputs": [
    {
     "data": {
      "text/plain": [
       "array([[ -1.20181075e+14,   8.72384672e+13,   9.19201624e+13,\n",
       "          3.51685731e+13,  -9.41461278e+13],\n",
       "       [  1.29915327e+14,  -4.82534697e+14,   2.33187505e+14,\n",
       "          4.61567773e+14,  -3.42135908e+14],\n",
       "       [  1.65462487e+14,   6.77256761e+14,  -7.62120739e+14,\n",
       "         -1.16937875e+15,   1.08878024e+15],\n",
       "       [ -2.39946656e+14,  -2.55863299e+14,   4.56998312e+14,\n",
       "          8.13379896e+14,  -7.74568253e+14],\n",
       "       [  6.47499164e+13,  -2.60972319e+13,  -1.99852408e+13,\n",
       "         -1.40737488e+14,   1.22070045e+14]])"
      ]
     },
     "execution_count": 23,
     "metadata": {},
     "output_type": "execute_result"
    }
   ],
   "source": [
    "np.linalg.inv(biga-20)"
   ]
  },
  {
   "cell_type": "markdown",
   "metadata": {},
   "source": [
    "#### Slices"
   ]
  },
  {
   "cell_type": "code",
   "execution_count": 24,
   "metadata": {
    "collapsed": false
   },
   "outputs": [
    {
     "name": "stdout",
     "output_type": "stream",
     "text": [
      "[[-20 -10   0  10  20]\n",
      " [ 30  40  50  60  70]\n",
      " [ 80  90 100 110 120]\n",
      " [130 140 150 160 170]\n",
      " [180 190 200 210 220]]\n"
     ]
    },
    {
     "data": {
      "text/plain": [
       "array([-20, -10,   0,  10,  20])"
      ]
     },
     "execution_count": 24,
     "metadata": {},
     "output_type": "execute_result"
    }
   ],
   "source": [
    "bigm = np.array(bigm)\n",
    "print bigm\n",
    "bigm[0]"
   ]
  },
  {
   "cell_type": "code",
   "execution_count": 25,
   "metadata": {
    "collapsed": false
   },
   "outputs": [
    {
     "name": "stdout",
     "output_type": "stream",
     "text": [
      "[[  0  10  20  30  40]\n",
      " [ 50  60  70  80  90]\n",
      " [100 110 120 130 140]\n",
      " [150 160 170 180 190]\n",
      " [200 210 220 230 240]]\n"
     ]
    },
    {
     "data": {
      "text/plain": [
       "array([ 0, 10, 20, 30, 40])"
      ]
     },
     "execution_count": 25,
     "metadata": {},
     "output_type": "execute_result"
    }
   ],
   "source": [
    "#Same thing, but demonstrating the full slice with a colon\n",
    "print biga\n",
    "biga[0,:]"
   ]
  },
  {
   "cell_type": "code",
   "execution_count": 28,
   "metadata": {
    "collapsed": false
   },
   "outputs": [
    {
     "name": "stdout",
     "output_type": "stream",
     "text": [
      "[[  0  10  20  30  40]\n",
      " [ 50  60  70  80  90]\n",
      " [100 110 120 130 140]\n",
      " [150 160 170 180 190]\n",
      " [200 210 220 230 240]]\n"
     ]
    },
    {
     "data": {
      "text/plain": [
       "array([ 20,  70, 120, 170, 220])"
      ]
     },
     "execution_count": 28,
     "metadata": {},
     "output_type": "execute_result"
    }
   ],
   "source": [
    "# Pull out middle column\n",
    "\n",
    "print biga\n",
    "biga[:,2]"
   ]
  },
  {
   "cell_type": "markdown",
   "metadata": {},
   "source": [
    "#### Describing your Arrays"
   ]
  },
  {
   "cell_type": "code",
   "execution_count": 31,
   "metadata": {
    "collapsed": false
   },
   "outputs": [
    {
     "data": {
      "text/plain": [
       "array([[[ 0,  1],\n",
       "        [ 2,  3],\n",
       "        [ 4,  5]],\n",
       "\n",
       "       [[ 6,  7],\n",
       "        [ 8,  9],\n",
       "        [10, 11]],\n",
       "\n",
       "       [[12, 13],\n",
       "        [14, 15],\n",
       "        [16, 17]],\n",
       "\n",
       "       [[18, 19],\n",
       "        [20, 21],\n",
       "        [22, 23]],\n",
       "\n",
       "       [[24, 25],\n",
       "        [26, 27],\n",
       "        [28, 29]]])"
      ]
     },
     "execution_count": 31,
     "metadata": {},
     "output_type": "execute_result"
    }
   ],
   "source": [
    "compa = np.arange(30).reshape(5,3,2)\n",
    "compa"
   ]
  },
  {
   "cell_type": "code",
   "execution_count": 32,
   "metadata": {
    "collapsed": false
   },
   "outputs": [
    {
     "name": "stdout",
     "output_type": "stream",
     "text": [
      "(5L, 3L, 2L)\n",
      "3\n",
      "int32\n"
     ]
    }
   ],
   "source": [
    "# lets describe it\n",
    "print compa.shape\n",
    "print compa.ndim\n",
    "print compa.dtype"
   ]
  },
  {
   "cell_type": "code",
   "execution_count": 33,
   "metadata": {
    "collapsed": false
   },
   "outputs": [
    {
     "data": {
      "text/plain": [
       "array([19, 21, 23])"
      ]
     },
     "execution_count": 33,
     "metadata": {},
     "output_type": "execute_result"
    }
   ],
   "source": [
    "compa[3,:,1]"
   ]
  },
  {
   "cell_type": "code",
   "execution_count": 35,
   "metadata": {
    "collapsed": false
   },
   "outputs": [
    {
     "data": {
      "text/plain": [
       "5"
      ]
     },
     "execution_count": 35,
     "metadata": {},
     "output_type": "execute_result"
    }
   ],
   "source": [
    "# We can assign values using list-like index\n",
    "# But be careful on types\n",
    "compa[0,0,0] = 5.9\n",
    "compa[0,0,0]"
   ]
  },
  {
   "cell_type": "markdown",
   "metadata": {},
   "source": [
    "We can change the datatype when needed"
   ]
  },
  {
   "cell_type": "code",
   "execution_count": 36,
   "metadata": {
    "collapsed": false
   },
   "outputs": [
    {
     "data": {
      "text/plain": [
       "5.75"
      ]
     },
     "execution_count": 36,
     "metadata": {},
     "output_type": "execute_result"
    }
   ],
   "source": [
    "compa = compa.astype(float)\n",
    "compa[0,0,0] = 5.75\n",
    "compa[0,0,0]"
   ]
  },
  {
   "cell_type": "markdown",
   "metadata": {},
   "source": [
    "#### Stacking arrays\n",
    "\n",
    "You must stack using dimensions of the saem size"
   ]
  },
  {
   "cell_type": "code",
   "execution_count": 37,
   "metadata": {
    "collapsed": false
   },
   "outputs": [
    {
     "name": "stdout",
     "output_type": "stream",
     "text": [
      "H Stack\n",
      "[1 2 3 2 3 4]\n",
      "V Stack\n",
      "[[1 2 3]\n",
      " [2 3 4]]\n"
     ]
    }
   ],
   "source": [
    "a = np.array((1,2,3))\n",
    "b = np.array((2,3,4))\n",
    "print 'H Stack'\n",
    "print np.hstack((a,b))\n",
    "print 'V Stack'\n",
    "print np.vstack((a,b))"
   ]
  },
  {
   "cell_type": "code",
   "execution_count": 38,
   "metadata": {
    "collapsed": false
   },
   "outputs": [
    {
     "name": "stdout",
     "output_type": "stream",
     "text": [
      "H Stack\n",
      "[[1 2]\n",
      " [2 3]\n",
      " [3 4]]\n",
      "V Stack\n",
      "[[1]\n",
      " [2]\n",
      " [3]\n",
      " [2]\n",
      " [3]\n",
      " [4]]\n"
     ]
    }
   ],
   "source": [
    "a = np.array([[1],[2],[3]])\n",
    "b = np.array([[2],[3],[4]])\n",
    "print 'H Stack'\n",
    "print np.hstack((a,b))\n",
    "print 'V Stack'\n",
    "print np.vstack((a,b))"
   ]
  },
  {
   "cell_type": "markdown",
   "metadata": {},
   "source": [
    "### Using Random Numbers\n",
    "\n",
    "Random numbers are very helpful and are necessary at times for testing data pipelines and running statistical analyses. Functions for creating random values are under numpy.random."
   ]
  },
  {
   "cell_type": "code",
   "execution_count": 39,
   "metadata": {
    "collapsed": false
   },
   "outputs": [
    {
     "data": {
      "text/plain": [
       "array([[ 0.71577245,  0.58869976,  0.1962967 ,  0.23641062,  0.71902999],\n",
       "       [ 0.47522673,  0.19945755,  0.36256648,  0.40298737,  0.5685538 ],\n",
       "       [ 0.07788242,  0.18488331,  0.59957323,  0.37469127,  0.2533122 ],\n",
       "       [ 0.08118653,  0.17884419,  0.87887431,  0.44612609,  0.93554549],\n",
       "       [ 0.83506483,  0.80742301,  0.34875096,  0.05381888,  0.96215813]])"
      ]
     },
     "execution_count": 39,
     "metadata": {},
     "output_type": "execute_result"
    }
   ],
   "source": [
    "#Create a randomized array\n",
    "rm = np.random.rand(5,5)\n",
    "rm"
   ]
  },
  {
   "cell_type": "code",
   "execution_count": 40,
   "metadata": {
    "collapsed": false
   },
   "outputs": [
    {
     "data": {
      "text/plain": [
       "(5L, 5L)"
      ]
     },
     "execution_count": 40,
     "metadata": {},
     "output_type": "execute_result"
    }
   ],
   "source": [
    "rm.shape"
   ]
  },
  {
   "cell_type": "markdown",
   "metadata": {},
   "source": [
    "You can shuffle values randomly as well"
   ]
  },
  {
   "cell_type": "code",
   "execution_count": 41,
   "metadata": {
    "collapsed": false
   },
   "outputs": [
    {
     "data": {
      "text/plain": [
       "array([[ 0.83506483,  0.80742301,  0.34875096,  0.05381888,  0.96215813],\n",
       "       [ 0.71577245,  0.58869976,  0.1962967 ,  0.23641062,  0.71902999],\n",
       "       [ 0.07788242,  0.18488331,  0.59957323,  0.37469127,  0.2533122 ],\n",
       "       [ 0.47522673,  0.19945755,  0.36256648,  0.40298737,  0.5685538 ],\n",
       "       [ 0.08118653,  0.17884419,  0.87887431,  0.44612609,  0.93554549]])"
      ]
     },
     "execution_count": 41,
     "metadata": {},
     "output_type": "execute_result"
    }
   ],
   "source": [
    "# This will shuffle along the first index of a multi-dimensional array\n",
    "np.random.shuffle(rm)\n",
    "rm"
   ]
  },
  {
   "cell_type": "code",
   "execution_count": 42,
   "metadata": {
    "collapsed": false
   },
   "outputs": [
    {
     "name": "stdout",
     "output_type": "stream",
     "text": [
      "0.459325452926\n",
      "[ 0.43702659  0.39186157  0.47721234  0.30280685  0.68771992]\n",
      "[ 0.60144316  0.4912419   0.29806849  0.40175839  0.50411532]\n"
     ]
    }
   ],
   "source": [
    "print rm.mean()\n",
    "print rm.mean(0) #Average per column\n",
    "print rm.mean(1) #average per row"
   ]
  },
  {
   "cell_type": "code",
   "execution_count": 43,
   "metadata": {
    "collapsed": false
   },
   "outputs": [
    {
     "data": {
      "text/plain": [
       "array([[  3.38455863e+00,   7.28585587e+00,   1.44524827e+01,\n",
       "          2.42332836e+01,   8.37820658e+00,  -9.71326861e+00,\n",
       "          7.52422651e+00,   1.86359264e+01,   7.14274770e+00,\n",
       "         -2.88730061e+00,   8.84426377e+00,   1.21013940e+01,\n",
       "          7.90956328e-01,   4.92714811e+00,   5.64162267e+00,\n",
       "          4.31763939e+00,   8.56575457e+00,   7.54594122e+00,\n",
       "          1.66516889e+01,  -8.37362305e+00,   1.03285656e+01,\n",
       "         -9.05629337e+00,  -1.14464651e+01,  -7.57234930e+00,\n",
       "          1.06266893e+01,  -6.65255796e+00,   4.83384103e+00,\n",
       "         -2.73930883e+00,  -5.27842980e-01,  -4.90239196e+00],\n",
       "       [ -2.79819138e+00,   1.02750526e+01,   1.12992532e+01,\n",
       "         -9.90532578e+00,   1.99515780e+01,   1.42560646e+01,\n",
       "         -1.21986533e+01,   1.00980729e+01,   1.43758158e+01,\n",
       "          1.46984594e+01,  -7.25145405e-01,  -2.97059702e+00,\n",
       "          4.19979788e+00,   4.24176583e+00,   1.49900721e+00,\n",
       "         -6.20719706e+00,   4.94798192e+00,   6.77674782e+00,\n",
       "          6.06825257e+00,   9.60085485e+00,   5.69218513e+00,\n",
       "          7.44335551e+00,   9.61422664e+00,  -6.98344314e+00,\n",
       "          4.17293007e+00,   4.45337349e+00,   4.26984545e+00,\n",
       "          1.53258752e+01,   1.60388228e+01,   5.60671326e+00],\n",
       "       [  3.69812400e+00,  -9.27095991e-01,   1.22590140e+01,\n",
       "          2.70964649e+00,   1.56506200e+01,  -2.76499117e-01,\n",
       "          5.92545041e+00,   1.60804327e+01,   4.46324169e+00,\n",
       "          2.45221955e+01,   1.52086868e+01,  -5.85572335e+00,\n",
       "          1.99648639e+01,  -2.77222944e+00,  -3.42403102e+00,\n",
       "         -5.54566248e+00,   1.51502824e+01,  -1.07859209e+00,\n",
       "         -5.90727417e+00,   1.07404080e+01,   5.64764258e+00,\n",
       "         -1.01302431e+00,   5.17357198e+00,   4.28111274e+00,\n",
       "          1.55431704e+00,   2.94525572e+00,   1.15895930e+01,\n",
       "          1.88693954e+01,   5.67820211e+00,  -1.10774590e+01],\n",
       "       [  1.98855914e+01,   2.56273454e+01,   1.90752632e+00,\n",
       "          3.68047745e-01,   6.00531966e+00,   3.39684729e+00,\n",
       "         -5.54606707e+00,  -5.11057427e+00,  -2.25567041e+00,\n",
       "          1.92145567e+01,   3.14729904e+00,   3.80024799e+00,\n",
       "          7.73348654e+00,   4.33627324e+00,   6.79069689e+00,\n",
       "         -2.92608834e+00,  -9.49065607e+00,   1.45710675e+01,\n",
       "         -7.32494022e+00,  -4.96769755e+00,   7.27048922e+00,\n",
       "          1.61308875e+01,  -5.94445549e+00,   1.04840352e+01,\n",
       "          1.10049333e+00,   1.01061812e+01,   1.75893475e+01,\n",
       "         -2.50330307e+00,   1.27363433e+00,  -5.27503858e-01],\n",
       "       [ -4.33442840e+00,  -1.79784157e+00,  -1.12120281e+01,\n",
       "          4.95975339e+00,   1.76250804e+00,   6.78240059e+00,\n",
       "          1.20132017e+01,   1.98576712e+00,  -4.63399801e+00,\n",
       "         -5.07911359e+00,   2.14006381e+00,  -7.01211675e+00,\n",
       "          8.38851674e+00,   4.44987478e+00,  -5.86685097e+00,\n",
       "          8.44790365e-01,   3.01754059e+00,  -1.60835801e+00,\n",
       "          1.50254786e+01,   2.17844653e+01,   6.98737811e+00,\n",
       "          2.49167928e+01,   3.00171340e+00,   4.17462655e+00,\n",
       "         -2.61271560e+00,   9.03878544e+00,   1.21703222e+01,\n",
       "          9.41123640e+00,  -8.50471234e-01,   1.10639024e+01],\n",
       "       [  1.86189994e+01,  -1.50544399e+00,  -5.11671326e+00,\n",
       "          6.13903811e+00,   6.62105719e+00,  -3.04610671e+00,\n",
       "          1.55792906e+01,   5.68842183e+00,   6.41759420e+00,\n",
       "          1.69147037e+01,   9.42093791e+00,   7.93108801e+00,\n",
       "          1.41987198e+01,  -7.82754941e+00,   3.52669510e+01,\n",
       "          1.16054262e+00,  -1.34762453e+01,   1.10763214e+01,\n",
       "          3.44961021e+00,   7.10070682e+00,   2.53653219e+01,\n",
       "          1.27075958e+01,   6.20020353e+00,  -5.74109169e+00,\n",
       "          1.86615979e+00,  -4.73612161e-01,   1.02514545e+01,\n",
       "         -1.37126235e+01,   6.14222184e+00,   4.86113423e+00],\n",
       "       [  1.56603516e+01,   2.26680540e+00,   1.12799447e+01,\n",
       "          1.51352594e+01,   1.53002985e+01,   1.15574256e+01,\n",
       "         -5.89341129e+00,  -1.28411321e+01,   1.17845138e+01,\n",
       "         -9.07843574e+00,   5.82025586e+00,   2.21969209e+01,\n",
       "         -7.22870435e+00,   5.82105515e+00,   1.01249350e+01,\n",
       "          1.58215906e+01,   6.26148309e+00,  -1.57343117e+01,\n",
       "          9.62236395e+00,   9.36668752e+00,   8.08259045e+00,\n",
       "          5.77670080e+00,   1.68974541e+00,   2.02741360e+01,\n",
       "          2.68060342e+01,  -2.23274746e+00,   1.13475515e+01,\n",
       "          9.95863577e+00,   1.65716200e+01,   1.01541911e+01],\n",
       "       [ -6.90345173e+00,   1.31877205e+01,   7.70070923e+00,\n",
       "          2.51457173e+01,   1.86565456e+00,  -7.86552968e+00,\n",
       "         -6.59153954e+00,  -1.99095924e-01,  -3.74939397e+00,\n",
       "          5.68478324e+00,  -1.94704450e+00,   1.70894318e-01,\n",
       "          2.20192932e+00,   1.54171948e+01,   1.82053258e+01,\n",
       "          7.73060450e+00,   1.21523332e+01,  -9.49097774e-01,\n",
       "          9.11361824e+00,  -1.20656244e+01,  -1.16610994e+01,\n",
       "          1.12186625e+01,   7.82994103e+00,   7.98179343e+00,\n",
       "         -1.20391087e+00,  -2.12600925e+00,   1.18637085e+01,\n",
       "          1.51930920e+01,   9.21458839e+00,   1.62526915e+01],\n",
       "       [  1.74105622e+01,   2.27671470e+01,  -6.18392114e+00,\n",
       "          1.51746742e+01,  -1.37273187e+00,   9.87110380e+00,\n",
       "          1.21295827e+01,  -2.43642468e+00,   1.44827516e+01,\n",
       "         -3.05715918e-01,  -1.23900689e+01,  -9.59534529e+00,\n",
       "         -9.58964577e+00,   8.75270967e-01,   4.38718885e+00,\n",
       "         -2.56985302e+00,   1.00576525e+01,   8.97778916e+00,\n",
       "          2.19718617e+00,  -1.14856008e+00,   7.63506054e+00,\n",
       "         -1.00391605e+01,   1.05579348e+01,  -4.38364842e+00,\n",
       "          9.44728658e+00,  -1.97475065e+00,   1.53781144e+01,\n",
       "          2.86930586e+00,   5.41031833e+00,   4.78368743e+00],\n",
       "       [  7.63641935e+00,   5.21403640e+00,   2.06517704e+01,\n",
       "         -1.02288889e+00,  -1.48335239e+01,  -3.96549087e-01,\n",
       "          1.76587972e+01,   1.44396944e+01,   4.17854340e+00,\n",
       "          6.73084595e+00,  -2.16433852e+00,   6.36505274e+00,\n",
       "         -2.25476045e+00,  -6.00393618e+00,   1.22676088e+01,\n",
       "         -1.11515889e+00,   9.15487347e-01,   2.53010907e+01,\n",
       "          2.26072780e+01,   6.25405944e+00,   6.12297003e+00,\n",
       "          2.57740054e+01,   4.18138464e+00,   7.82127898e-01,\n",
       "          1.48690182e+00,   1.84516043e+00,  -5.40460667e+00,\n",
       "         -2.23067672e+00,   6.59270917e+00,  -3.61976183e+00],\n",
       "       [  8.12822646e+00,   6.07725288e-01,   5.55333619e+00,\n",
       "          1.07207644e+01,   1.36534440e+01,  -3.75474271e+00,\n",
       "          1.46553360e+00,   1.84255235e+01,  -2.61256265e+00,\n",
       "          7.01219307e+00,  -6.20212338e+00,   3.47965103e+00,\n",
       "          1.53984832e+01,  -1.33047292e+01,   4.95395163e+00,\n",
       "         -6.02445122e+00,  -7.84128102e+00,   1.89074112e+01,\n",
       "          8.50838327e+00,   1.78395519e+00,  -3.95551778e+00,\n",
       "          2.73680500e+00,   1.03669497e+01,   3.56143288e+00,\n",
       "          3.38378829e+00,   8.83893858e+00,  -6.97606690e+00,\n",
       "          8.18047889e+00,   3.63559545e-01,   1.64368415e+01],\n",
       "       [  1.20467171e+01,   9.87840575e+00,   1.58855469e+01,\n",
       "         -2.97019970e+00,   5.37571070e+00,   1.06475099e+01,\n",
       "         -1.03932065e+01,  -1.37843516e+00,   4.08005245e+00,\n",
       "          1.18075241e+01,   4.41973097e+00,  -6.63840077e+00,\n",
       "          3.57577360e+00,   5.23331343e-01,  -3.27549707e+00,\n",
       "         -1.77345488e+00,  -6.52486385e-01,  -5.42090321e+00,\n",
       "         -5.56709805e-01,   1.00957580e+01,   1.59538040e+01,\n",
       "          1.22630288e+01,  -8.32493284e+00,   2.54705392e+01,\n",
       "         -4.13763789e+00,   1.52499388e+01,   1.68388299e+01,\n",
       "         -9.92799536e+00,   3.99255458e-02,   1.82614800e+01],\n",
       "       [  2.22588838e+01,  -2.07789633e+01,   2.03713443e+01,\n",
       "         -3.82111170e+00,   4.91908431e+00,  -1.62456866e+00,\n",
       "          9.45277477e+00,   3.71227578e+00,   1.97957876e+01,\n",
       "          1.91519527e+00,   3.69529201e+00,   2.61218937e+00,\n",
       "          1.80962255e+01,   1.40902422e+00,   7.61875273e+00,\n",
       "         -4.00153853e+00,   7.48031766e+00,  -7.43603060e+00,\n",
       "         -8.38766239e+00,   3.52644180e+00,  -1.52058750e+01,\n",
       "          6.47716449e+00,   3.41272581e+00,   6.89084106e+00,\n",
       "          8.34864561e+00,  -1.07002552e+01,   1.76218009e+01,\n",
       "          9.32517048e+00,   7.97088231e+00,  -7.73424897e+00],\n",
       "       [  5.26367893e+00,   4.37735823e+00,   9.15220037e+00,\n",
       "          9.29170860e+00,   1.16611846e+01,   5.73962655e+00,\n",
       "         -3.38573823e+00,   1.91883288e+01,   8.03433793e+00,\n",
       "          2.63372968e-01,   4.31389085e+00,   2.02819762e+00,\n",
       "          5.41716479e+00,   3.73228271e+00,   1.69679124e+01,\n",
       "          2.02212621e+00,   3.14098038e+00,   3.53131765e+00,\n",
       "          4.49787405e+00,  -3.63902128e+00,  -5.96690431e+00,\n",
       "          1.35030479e+01,  -1.75936677e+01,   5.53187476e+00,\n",
       "          1.68887539e+01,   3.99381808e+00,   9.83863744e+00,\n",
       "          6.66857785e+00,   7.89789922e+00,   6.83056128e+00],\n",
       "       [  9.98291527e+00,   4.30199647e+00,   1.74547072e+01,\n",
       "         -9.62992071e+00,  -2.97083778e+00,  -1.39589662e+00,\n",
       "          2.86813288e+00,  -6.85035264e+00,   6.04119189e+00,\n",
       "          3.65640136e+00,  -1.31626182e+00,  -9.45219453e+00,\n",
       "          1.43724434e+01,   1.85341233e+01,   6.19346632e+00,\n",
       "          9.68643353e+00,  -5.20708248e+00,   6.05947637e+00,\n",
       "          2.21787037e+01,  -9.91185556e+00,   2.00247811e+01,\n",
       "          2.98500398e+01,   7.07420881e+00,   8.35229981e+00,\n",
       "          1.17329663e+00,   1.92639234e+01,  -9.28436863e+00,\n",
       "          3.12530869e+00,   1.56583052e+01,   1.20927907e+01],\n",
       "       [  1.49396875e+01,  -1.77323742e+00,  -3.94656269e+00,\n",
       "          8.77169220e+00,   1.68398592e+01,  -4.12953655e+00,\n",
       "          4.21353732e+00,   1.08195184e+01,  -3.41333833e+00,\n",
       "          1.36337938e+01,   3.94404035e-01,   1.50769401e+01,\n",
       "          1.63166595e+00,   1.53323799e+00,   8.47606210e+00,\n",
       "          1.34458666e+01,   1.49565736e+01,   1.73061129e+00,\n",
       "          1.17786392e+01,   1.28650386e+01,   1.05920295e+01,\n",
       "          2.15340848e+01,   2.25415656e+01,   9.49397479e+00,\n",
       "          9.65092283e+00,  -1.83277820e-01,  -1.01101133e+01,\n",
       "          4.67343771e+00,   1.06856876e+01,  -7.73783128e+00],\n",
       "       [ -3.64607477e+00,   2.81482250e+01,   1.45000777e+01,\n",
       "          1.43353777e+01,   9.15748746e+00,   1.01017512e+01,\n",
       "          5.35451544e+00,  -2.66546166e+00,  -9.05552355e+00,\n",
       "          2.22635767e+01,   1.22991379e+01,   1.60047357e+01,\n",
       "          1.04148097e+01,  -5.28428951e+00,   1.22023148e+01,\n",
       "          4.16191542e+00,  -4.17832642e+00,   4.41878947e+00,\n",
       "          1.10364792e+01,   1.11656174e+01,   3.48113932e+00,\n",
       "         -5.74487545e+00,  -4.28261108e+00,   1.38424777e+01,\n",
       "         -1.21019991e+00,  -1.45316373e+01,   3.80613196e+00,\n",
       "          1.70896756e+01,   7.74917365e+00,  -8.64614820e+00],\n",
       "       [ -5.30793932e+00,  -6.98040247e-01,   1.26867812e+01,\n",
       "          1.53551216e+01,   1.55358020e+01,  -2.56138652e+00,\n",
       "         -4.72880081e+00,   6.21306915e+00,   3.48254649e+00,\n",
       "         -3.23043971e+00,   4.83685870e+00,  -3.57105056e+00,\n",
       "          1.38744164e+01,  -1.45967984e-01,  -8.12783092e+00,\n",
       "          1.23802762e+01,   1.49415936e+01,   3.64978268e+00,\n",
       "         -5.27170570e+00,  -7.72632926e+00,   5.68459613e+00,\n",
       "          1.69567490e+00,   6.01593431e+00,   2.73117198e+00,\n",
       "          2.70190889e+00,   1.01145455e+01,   1.98626903e+01,\n",
       "          9.45232198e+00,   7.19079153e+00,   4.55686609e+00],\n",
       "       [  7.73285741e+00,   2.90973856e-01,   2.47400349e+01,\n",
       "          5.82655790e+00,  -1.85798368e+00,   1.39974490e+01,\n",
       "         -4.12380296e+00,   1.67248670e+01,   2.07722379e+01,\n",
       "          9.81747800e+00,  -3.76697614e+00,   4.35486470e+00,\n",
       "          3.18368642e+00,  -1.93440619e+00,   2.15163732e+01,\n",
       "          1.51031883e+01,   6.24873830e+00,   6.91813204e+00,\n",
       "          6.93269924e+00,   1.04236459e+01,   2.63803638e+01,\n",
       "          2.70696944e+00,   3.26630412e+00,   8.85444822e+00,\n",
       "          4.98294852e+00,  -6.62588456e-01,   1.77849258e+00,\n",
       "         -6.00163754e+00,   1.67529598e+00,   1.00712769e+01],\n",
       "       [ -1.53955594e+01,   1.76196822e+01,  -7.30596632e-02,\n",
       "          6.24881067e+00,   1.03598522e+01,   8.46271602e+00,\n",
       "         -4.77178903e+00,   1.39991559e+01,   1.07616057e+01,\n",
       "          7.37862947e-01,   6.35683385e+00,   7.55889582e+00,\n",
       "         -5.16072281e+00,   1.06990933e+01,  -3.89507356e+00,\n",
       "         -4.76455099e+00,   8.77616073e+00,  -9.91405024e+00,\n",
       "          1.55242932e+01,  -6.70720248e-01,  -1.43464217e+01,\n",
       "          2.16999123e+01,   2.35006163e+01,  -3.73344275e+00,\n",
       "          5.63333364e+00,   1.40327116e+01,   1.18645144e+01,\n",
       "          8.03489763e+00,  -4.50015063e+00,   2.16732098e+01],\n",
       "       [  6.52883165e+00,   9.46482386e+00,   1.69457501e+01,\n",
       "          6.31637886e+00,   1.06299843e+01,   2.19947771e+00,\n",
       "         -1.01199835e+01,   4.76548411e+00,   3.62007769e+00,\n",
       "          7.10024768e+00,   1.20282874e+01,  -2.01128541e+00,\n",
       "          1.20609772e+01,   5.72737963e+00,   8.91206011e+00,\n",
       "          1.28349475e+01,   1.45470339e+01,   1.65367558e-01,\n",
       "         -1.01802894e+01,   1.61534698e+01,   3.46102647e-01,\n",
       "         -3.88824250e+00,  -3.74673645e+00,   7.43047972e+00,\n",
       "          4.56539514e+00,   2.13278470e+01,   1.14469157e+01,\n",
       "          2.51136323e+01,   9.36458366e+00,   7.60979955e+00],\n",
       "       [  7.70706650e+00,   8.92243171e-01,   7.80387002e+00,\n",
       "         -6.84500607e-01,   7.49916555e+00,   1.55405111e+01,\n",
       "          3.81316094e+00,   1.26380406e+01,   2.93609836e+01,\n",
       "          4.15411922e-01,   4.40374716e+00,  -5.91960449e-01,\n",
       "         -2.46935803e+00,   5.77339881e+00,   1.58640147e+00,\n",
       "          4.93560294e+00,   1.19390275e+01,   5.60378860e+00,\n",
       "         -3.74121207e+00,   1.40195944e+00,  -1.00333935e+00,\n",
       "          1.48436591e+01,   8.29042745e+00,   2.31859151e+00,\n",
       "          1.33036693e+00,   7.93487357e+00,   2.12626804e+01,\n",
       "          4.87649852e+00,  -1.29036168e+00,  -1.04633699e+01],\n",
       "       [  7.57781215e+00,   1.25420008e+01,  -5.35890300e+00,\n",
       "         -4.64894485e+00,   6.34499592e+00,  -4.61294242e+00,\n",
       "          2.43097528e+01,   1.79356386e+00,   2.51753887e+00,\n",
       "         -6.20512313e+00,   4.20781132e+00,  -2.03648806e+01,\n",
       "         -3.69971791e+00,   6.44559492e+00,   1.15698981e+01,\n",
       "         -2.11579803e+00,   6.62455002e+00,  -2.40773433e+00,\n",
       "         -1.55835050e+01,   8.55552407e+00,   5.78098974e+00,\n",
       "         -6.99227847e+00,   9.96280674e+00,   2.44657186e+01,\n",
       "          7.64164957e+00,  -1.02331957e+00,  -2.71472842e+00,\n",
       "          9.37656681e+00,  -2.81912173e+00,   7.34086441e+00],\n",
       "       [  8.67534610e+00,   2.84532388e+00,   2.47544819e+01,\n",
       "          2.61735933e+00,  -8.69428980e+00,   5.88524394e+00,\n",
       "          5.98895993e+00,   3.89457243e+00,  -1.00515543e+01,\n",
       "          5.42351073e+00,  -5.87360356e+00,   1.93457490e+01,\n",
       "          6.54531928e+00,   8.49745958e+00,  -2.56947389e+00,\n",
       "         -6.59076585e-01,  -1.08902663e+01,   1.49099176e+01,\n",
       "          1.03361007e+01,   1.51561584e+01,   1.80635214e+01,\n",
       "          5.17088431e+00,  -6.88772160e-02,   7.66927743e+00,\n",
       "          6.00847193e+00,   9.09409392e+00,   6.65444051e+00,\n",
       "         -4.20519683e+00,   1.14008724e+01,   6.88727669e+00],\n",
       "       [  7.59116841e+00,  -2.23496609e-02,   1.97332514e+00,\n",
       "          9.43472026e+00,   3.58770991e+00,   3.08814271e+01,\n",
       "         -4.72498306e+00,   7.74220243e+00,   1.29203335e+01,\n",
       "          1.07068289e+01,   7.45607432e+00,  -3.30001385e+00,\n",
       "         -1.98092577e+00,   1.03146103e+01,   2.17860000e+01,\n",
       "          7.62440817e+00,   4.30772577e+00,   2.56069259e+01,\n",
       "          7.16766283e+00,   1.74620306e+01,   1.37295753e+00,\n",
       "          6.80024314e+00,  -1.54969653e+00,  -8.43136210e-01,\n",
       "          1.37466230e+01,   9.42280662e+00,   1.06048677e+01,\n",
       "          2.05410207e+01,  -1.15866186e+01,  -1.01896482e+01],\n",
       "       [  2.62608801e+01,  -3.14067492e+00,   7.01792249e+00,\n",
       "          1.23311096e+01,  -1.66916782e+01,   1.13394605e+01,\n",
       "         -4.25498288e+00,  -3.41573942e+00,   9.73990993e+00,\n",
       "          1.38344803e+01,   1.35915063e+01,   6.78978705e+00,\n",
       "          9.21388401e+00,  -6.55103527e+00,   7.35994652e-01,\n",
       "         -5.09133156e+00,   4.34725662e+00,   2.75884538e+00,\n",
       "         -1.42712610e+00,  -2.93924781e+00,   1.11662046e+01,\n",
       "          9.28221997e+00,   9.74007510e-01,   5.79069613e+00,\n",
       "          1.48234997e+01,   4.95940433e+00,   6.60220774e-01,\n",
       "          4.11743282e+00,  -3.63268148e+00,   2.00933377e-01],\n",
       "       [ -9.36001677e+00,   2.40879391e+00,   6.47942490e+00,\n",
       "          2.32019563e+00,  -1.24236771e+01,   2.48796813e+00,\n",
       "          1.43562898e+01,   3.58329128e+00,   1.29531296e+01,\n",
       "          1.53881602e+01,  -1.04519847e+01,   1.22371772e+01,\n",
       "          1.80246353e+01,   1.98992959e+01,  -5.66086269e-01,\n",
       "          1.67984376e+01,   8.89854451e+00,  -1.38914488e+00,\n",
       "          1.03495404e+00,   1.37531214e+01,   1.64995587e+00,\n",
       "          6.78068400e+00,   8.51043308e+00,   5.62074088e+00,\n",
       "          1.45524243e-01,   1.12656335e+00,   1.03179498e+01,\n",
       "          1.82890220e+01,   1.18033209e+01,  -2.59445602e+00],\n",
       "       [  1.39524372e+01,   3.37427174e+00,   5.35859473e+00,\n",
       "          1.56484520e+01,   1.09262299e+01,  -1.70935036e-01,\n",
       "         -7.66161588e+00,   1.44307388e+00,   9.76817418e+00,\n",
       "         -1.30958279e+00,   9.21772029e+00,  -9.14421817e-01,\n",
       "          3.25226591e+01,   6.46358967e+00,   1.17808712e+01,\n",
       "          8.53259365e+00,  -1.55167426e+00,  -4.03953249e+00,\n",
       "          6.14417257e+00,   2.22485536e+01,   3.12161459e+00,\n",
       "         -3.32367502e+00,   6.16769907e+00,   1.21698489e+01,\n",
       "         -4.24084235e-01,   1.02472089e-01,   5.56936152e+00,\n",
       "         -6.18777676e+00,   9.96113698e+00,  -8.15970186e+00],\n",
       "       [  2.45993701e+00,  -9.02155520e+00,   6.38521382e+00,\n",
       "          8.54422310e+00,  -6.51687399e+00,   1.87831166e+01,\n",
       "          2.20401631e+00,   5.21911646e-01,   8.77252105e-02,\n",
       "          5.93287836e+00,   5.67974583e+00,  -2.14950013e-01,\n",
       "          3.87771782e+00,   1.92082936e-01,   2.26544583e-01,\n",
       "          1.13278420e+01,  -1.04733425e+01,  -3.18648314e+00,\n",
       "          1.75055271e+01,   9.35541375e+00,  -7.79244228e+00,\n",
       "          8.78043067e+00,   1.15872001e+01,  -4.46842090e+00,\n",
       "          1.50331939e+01,   9.50839466e+00,   6.78347347e+00,\n",
       "         -9.77432803e-01,   2.01074575e+01,  -1.66587967e+00],\n",
       "       [ -3.28212045e+00,   5.66360410e-01,   1.53940053e+00,\n",
       "          3.15548531e+01,   3.21416960e-01,   5.84045692e+00,\n",
       "          1.23498071e+01,  -4.15594634e+00,  -8.34067133e+00,\n",
       "         -6.12677576e+00,   1.10433589e+01,  -1.23742963e+00,\n",
       "          5.22464039e+00,   2.34047527e+01,   1.67365796e+01,\n",
       "          6.79041121e+00,   1.54384441e+01,   8.03662914e+00,\n",
       "         -4.32270993e+00,   2.79249263e+01,  -1.10586721e+01,\n",
       "          6.30197604e+00,   1.59906515e+01,  -1.24368309e+01,\n",
       "         -5.71435805e-01,   1.52683029e+01,   1.44547924e+00,\n",
       "          4.76440536e+00,   9.09963793e+00,   9.63073912e+00]])"
      ]
     },
     "execution_count": 43,
     "metadata": {},
     "output_type": "execute_result"
    }
   ],
   "source": [
    "# for a different Normal Distribution, use np.random.normal\n",
    "rm = np.random.normal(5,9,(30,30))\n",
    "rm"
   ]
  },
  {
   "cell_type": "code",
   "execution_count": 44,
   "metadata": {
    "collapsed": false
   },
   "outputs": [
    {
     "name": "stdout",
     "output_type": "stream",
     "text": [
      "5.22362152715 which is hopefully close to the input mean\n",
      "81.594600457 which variance = stdev squared\n",
      "5.42033775742\n"
     ]
    }
   ],
   "source": [
    "print rm.mean(), \"which is hopefully close to the input mean\"\n",
    "print rm.var(), \"which variance = stdev squared\"\n",
    "print np.median(rm)"
   ]
  },
  {
   "cell_type": "code",
   "execution_count": null,
   "metadata": {
    "collapsed": true
   },
   "outputs": [],
   "source": []
  },
  {
   "cell_type": "markdown",
   "metadata": {},
   "source": [
    "Find more distributions and random functions here: http://docs.scipy.org/doc/numpy/reference/routines.random.html"
   ]
  },
  {
   "cell_type": "markdown",
   "metadata": {},
   "source": [
    "### Exercise 1"
   ]
  },
  {
   "cell_type": "markdown",
   "metadata": {},
   "source": [
    "1) Create a 4x5 array of integers between 0 and 19"
   ]
  },
  {
   "cell_type": "code",
   "execution_count": 51,
   "metadata": {
    "collapsed": false
   },
   "outputs": [
    {
     "name": "stdout",
     "output_type": "stream",
     "text": [
      "[[ 0  1  2  3  4]\n",
      " [ 5  6  7  8  9]\n",
      " [10 11 12 13 14]\n",
      " [15 16 17 18 19]]\n"
     ]
    }
   ],
   "source": [
    "arr = np.arange(20).reshape(4,5)\n",
    "print arr"
   ]
  },
  {
   "cell_type": "markdown",
   "metadata": {},
   "source": [
    "2) Create a 50x500 array with a mean of 20 and variance of 100. Save it to a variable called  biggie"
   ]
  },
  {
   "cell_type": "code",
   "execution_count": 60,
   "metadata": {
    "collapsed": false
   },
   "outputs": [
    {
     "name": "stdout",
     "output_type": "stream",
     "text": [
      "20.0944866448\n",
      "99.6025005558\n"
     ]
    }
   ],
   "source": [
    "biggie = np.random.normal(20,10,(50,500))\n",
    "print biggie.mean()\n",
    "print biggie.var()"
   ]
  },
  {
   "cell_type": "markdown",
   "metadata": {},
   "source": [
    "3) Change the mean of the array to a value within 1 of 0 and the variance within 1 of 25. Think about what the mean and the variance represent and try using various mathematical operations."
   ]
  },
  {
   "cell_type": "code",
   "execution_count": 61,
   "metadata": {
    "collapsed": false
   },
   "outputs": [
    {
     "name": "stdout",
     "output_type": "stream",
     "text": [
      "10.0472433224\n",
      "24.9006251389\n"
     ]
    }
   ],
   "source": [
    "biggie2 = biggie - 20\n",
    "biggie2 = biggie / 2\n",
    "\n",
    "print biggie2.mean()\n",
    "print biggie2.var()"
   ]
  },
  {
   "cell_type": "markdown",
   "metadata": {},
   "source": [
    "## Pandas (python package)\n",
    "\n",
    "Pandas is a Python package providing fast, flexible, and expressive data structures designed to make working with “relational” or “labeled” data both easy and intuitive.\n",
    "\n",
    "Pandas is great for tabular/indexed data"
   ]
  },
  {
   "cell_type": "code",
   "execution_count": 62,
   "metadata": {
    "collapsed": true
   },
   "outputs": [],
   "source": [
    "# NOTE: you should normally put all your imports at the top of the file\n",
    "import pandas as pd"
   ]
  },
  {
   "cell_type": "code",
   "execution_count": 63,
   "metadata": {
    "collapsed": false
   },
   "outputs": [],
   "source": [
    "data = pd.read_csv('../data/nytimes.csv')"
   ]
  },
  {
   "cell_type": "code",
   "execution_count": 64,
   "metadata": {
    "collapsed": false
   },
   "outputs": [
    {
     "data": {
      "text/html": [
       "<div>\n",
       "<table border=\"1\" class=\"dataframe\">\n",
       "  <thead>\n",
       "    <tr style=\"text-align: right;\">\n",
       "      <th></th>\n",
       "      <th>Age</th>\n",
       "      <th>Gender</th>\n",
       "      <th>Impressions</th>\n",
       "      <th>Clicks</th>\n",
       "      <th>Signed_In</th>\n",
       "    </tr>\n",
       "  </thead>\n",
       "  <tbody>\n",
       "    <tr>\n",
       "      <th>0</th>\n",
       "      <td>36</td>\n",
       "      <td>0</td>\n",
       "      <td>3</td>\n",
       "      <td>0</td>\n",
       "      <td>1</td>\n",
       "    </tr>\n",
       "    <tr>\n",
       "      <th>1</th>\n",
       "      <td>73</td>\n",
       "      <td>1</td>\n",
       "      <td>3</td>\n",
       "      <td>0</td>\n",
       "      <td>1</td>\n",
       "    </tr>\n",
       "    <tr>\n",
       "      <th>2</th>\n",
       "      <td>30</td>\n",
       "      <td>0</td>\n",
       "      <td>3</td>\n",
       "      <td>0</td>\n",
       "      <td>1</td>\n",
       "    </tr>\n",
       "    <tr>\n",
       "      <th>3</th>\n",
       "      <td>49</td>\n",
       "      <td>1</td>\n",
       "      <td>3</td>\n",
       "      <td>0</td>\n",
       "      <td>1</td>\n",
       "    </tr>\n",
       "  </tbody>\n",
       "</table>\n",
       "</div>"
      ],
      "text/plain": [
       "   Age  Gender  Impressions  Clicks  Signed_In\n",
       "0   36       0            3       0          1\n",
       "1   73       1            3       0          1\n",
       "2   30       0            3       0          1\n",
       "3   49       1            3       0          1"
      ]
     },
     "execution_count": 64,
     "metadata": {},
     "output_type": "execute_result"
    }
   ],
   "source": [
    "# Note here we're calling the head method on the dataframe to return the 'head' of the \n",
    "# dataframe, in this case the first 4 lines\n",
    "# head() actually creates a new copy of the data, this is important later in the course!\n",
    "data.head(4)"
   ]
  },
  {
   "cell_type": "code",
   "execution_count": 65,
   "metadata": {
    "collapsed": false
   },
   "outputs": [
    {
     "data": {
      "text/html": [
       "<div>\n",
       "<table border=\"1\" class=\"dataframe\">\n",
       "  <thead>\n",
       "    <tr style=\"text-align: right;\">\n",
       "      <th></th>\n",
       "      <th>Age</th>\n",
       "      <th>Gender</th>\n",
       "      <th>Impressions</th>\n",
       "      <th>Clicks</th>\n",
       "      <th>Signed_In</th>\n",
       "    </tr>\n",
       "  </thead>\n",
       "  <tbody>\n",
       "    <tr>\n",
       "      <th>0</th>\n",
       "      <td>36</td>\n",
       "      <td>0</td>\n",
       "      <td>3</td>\n",
       "      <td>0</td>\n",
       "      <td>1</td>\n",
       "    </tr>\n",
       "    <tr>\n",
       "      <th>1</th>\n",
       "      <td>73</td>\n",
       "      <td>1</td>\n",
       "      <td>3</td>\n",
       "      <td>0</td>\n",
       "      <td>1</td>\n",
       "    </tr>\n",
       "    <tr>\n",
       "      <th>2</th>\n",
       "      <td>30</td>\n",
       "      <td>0</td>\n",
       "      <td>3</td>\n",
       "      <td>0</td>\n",
       "      <td>1</td>\n",
       "    </tr>\n",
       "    <tr>\n",
       "      <th>3</th>\n",
       "      <td>49</td>\n",
       "      <td>1</td>\n",
       "      <td>3</td>\n",
       "      <td>0</td>\n",
       "      <td>1</td>\n",
       "    </tr>\n",
       "  </tbody>\n",
       "</table>\n",
       "</div>"
      ],
      "text/plain": [
       "   Age  Gender  Impressions  Clicks  Signed_In\n",
       "0   36       0            3       0          1\n",
       "1   73       1            3       0          1\n",
       "2   30       0            3       0          1\n",
       "3   49       1            3       0          1"
      ]
     },
     "execution_count": 65,
     "metadata": {},
     "output_type": "execute_result"
    }
   ],
   "source": [
    "data[0:4]"
   ]
  },
  {
   "cell_type": "code",
   "execution_count": 66,
   "metadata": {
    "collapsed": false
   },
   "outputs": [
    {
     "data": {
      "text/plain": [
       "Int64Index([     0,      1,      2,      3,      4,      5,      6,      7,\n",
       "                 8,      9, \n",
       "            ...\n",
       "            458431, 458432, 458433, 458434, 458435, 458436, 458437, 458438,\n",
       "            458439, 458440],\n",
       "           dtype='int64', length=458441)"
      ]
     },
     "execution_count": 66,
     "metadata": {},
     "output_type": "execute_result"
    }
   ],
   "source": [
    "# Each DataFrame has an index\n",
    "# Sometimes you will need to reindex\n",
    "data.index"
   ]
  },
  {
   "cell_type": "code",
   "execution_count": 67,
   "metadata": {
    "collapsed": false
   },
   "outputs": [
    {
     "data": {
      "text/plain": [
       "0         36\n",
       "1         73\n",
       "2         30\n",
       "3         49\n",
       "4         47\n",
       "5         47\n",
       "6          0\n",
       "7         46\n",
       "8         16\n",
       "9         52\n",
       "10         0\n",
       "11        21\n",
       "12         0\n",
       "13        57\n",
       "14        31\n",
       "15         0\n",
       "16        40\n",
       "17        31\n",
       "18        38\n",
       "19         0\n",
       "20        59\n",
       "21        61\n",
       "22        48\n",
       "23        29\n",
       "24         0\n",
       "25        19\n",
       "26        19\n",
       "27        48\n",
       "28        48\n",
       "29        21\n",
       "          ..\n",
       "458411    55\n",
       "458412    68\n",
       "458413     0\n",
       "458414    21\n",
       "458415    35\n",
       "458416    26\n",
       "458417    41\n",
       "458418    58\n",
       "458419    46\n",
       "458420    45\n",
       "458421    46\n",
       "458422    47\n",
       "458423    22\n",
       "458424    21\n",
       "458425    40\n",
       "458426    49\n",
       "458427    43\n",
       "458428    40\n",
       "458429    49\n",
       "458430     0\n",
       "458431    21\n",
       "458432    30\n",
       "458433    21\n",
       "458434    61\n",
       "458435    51\n",
       "458436     0\n",
       "458437     0\n",
       "458438    72\n",
       "458439     0\n",
       "458440     0\n",
       "Name: Age, dtype: int64"
      ]
     },
     "execution_count": 67,
     "metadata": {},
     "output_type": "execute_result"
    }
   ],
   "source": [
    "# This is a Series\n",
    "# A DataFrame is made of of several Series with the same index\n",
    "data.Age"
   ]
  },
  {
   "cell_type": "code",
   "execution_count": 68,
   "metadata": {
    "collapsed": false
   },
   "outputs": [
    {
     "name": "stdout",
     "output_type": "stream",
     "text": [
      "<class 'pandas.core.frame.DataFrame'>\n",
      "Int64Index: 458441 entries, 0 to 458440\n",
      "Data columns (total 5 columns):\n",
      "Age            458441 non-null int64\n",
      "Gender         458441 non-null int64\n",
      "Impressions    458441 non-null int64\n",
      "Clicks         458441 non-null int64\n",
      "Signed_In      458441 non-null int64\n",
      "dtypes: int64(5)\n",
      "memory usage: 21.0 MB\n"
     ]
    }
   ],
   "source": [
    "data.info()"
   ]
  },
  {
   "cell_type": "code",
   "execution_count": 70,
   "metadata": {
    "collapsed": false
   },
   "outputs": [
    {
     "data": {
      "text/html": [
       "<div>\n",
       "<table border=\"1\" class=\"dataframe\">\n",
       "  <thead>\n",
       "    <tr style=\"text-align: right;\">\n",
       "      <th></th>\n",
       "      <th>Age</th>\n",
       "      <th>Gender</th>\n",
       "      <th>Impressions</th>\n",
       "      <th>Clicks</th>\n",
       "      <th>Signed_In</th>\n",
       "    </tr>\n",
       "  </thead>\n",
       "  <tbody>\n",
       "    <tr>\n",
       "      <th>count</th>\n",
       "      <td>458441.000000</td>\n",
       "      <td>458441.000000</td>\n",
       "      <td>458441.000000</td>\n",
       "      <td>458441.000000</td>\n",
       "      <td>458441.000000</td>\n",
       "    </tr>\n",
       "    <tr>\n",
       "      <th>mean</th>\n",
       "      <td>29.482551</td>\n",
       "      <td>0.367037</td>\n",
       "      <td>5.007316</td>\n",
       "      <td>0.092594</td>\n",
       "      <td>0.700930</td>\n",
       "    </tr>\n",
       "    <tr>\n",
       "      <th>std</th>\n",
       "      <td>23.607034</td>\n",
       "      <td>0.481997</td>\n",
       "      <td>2.239349</td>\n",
       "      <td>0.309973</td>\n",
       "      <td>0.457851</td>\n",
       "    </tr>\n",
       "    <tr>\n",
       "      <th>min</th>\n",
       "      <td>0.000000</td>\n",
       "      <td>0.000000</td>\n",
       "      <td>0.000000</td>\n",
       "      <td>0.000000</td>\n",
       "      <td>0.000000</td>\n",
       "    </tr>\n",
       "    <tr>\n",
       "      <th>25%</th>\n",
       "      <td>0.000000</td>\n",
       "      <td>0.000000</td>\n",
       "      <td>3.000000</td>\n",
       "      <td>0.000000</td>\n",
       "      <td>0.000000</td>\n",
       "    </tr>\n",
       "    <tr>\n",
       "      <th>50%</th>\n",
       "      <td>31.000000</td>\n",
       "      <td>0.000000</td>\n",
       "      <td>5.000000</td>\n",
       "      <td>0.000000</td>\n",
       "      <td>1.000000</td>\n",
       "    </tr>\n",
       "    <tr>\n",
       "      <th>75%</th>\n",
       "      <td>48.000000</td>\n",
       "      <td>1.000000</td>\n",
       "      <td>6.000000</td>\n",
       "      <td>0.000000</td>\n",
       "      <td>1.000000</td>\n",
       "    </tr>\n",
       "    <tr>\n",
       "      <th>max</th>\n",
       "      <td>108.000000</td>\n",
       "      <td>1.000000</td>\n",
       "      <td>20.000000</td>\n",
       "      <td>4.000000</td>\n",
       "      <td>1.000000</td>\n",
       "    </tr>\n",
       "  </tbody>\n",
       "</table>\n",
       "</div>"
      ],
      "text/plain": [
       "                 Age         Gender    Impressions         Clicks  \\\n",
       "count  458441.000000  458441.000000  458441.000000  458441.000000   \n",
       "mean       29.482551       0.367037       5.007316       0.092594   \n",
       "std        23.607034       0.481997       2.239349       0.309973   \n",
       "min         0.000000       0.000000       0.000000       0.000000   \n",
       "25%         0.000000       0.000000       3.000000       0.000000   \n",
       "50%        31.000000       0.000000       5.000000       0.000000   \n",
       "75%        48.000000       1.000000       6.000000       0.000000   \n",
       "max       108.000000       1.000000      20.000000       4.000000   \n",
       "\n",
       "           Signed_In  \n",
       "count  458441.000000  \n",
       "mean        0.700930  \n",
       "std         0.457851  \n",
       "min         0.000000  \n",
       "25%         0.000000  \n",
       "50%         1.000000  \n",
       "75%         1.000000  \n",
       "max         1.000000  "
      ]
     },
     "execution_count": 70,
     "metadata": {},
     "output_type": "execute_result"
    }
   ],
   "source": [
    "data.describe()"
   ]
  },
  {
   "cell_type": "code",
   "execution_count": 71,
   "metadata": {
    "collapsed": false
   },
   "outputs": [
    {
     "data": {
      "text/plain": [
       "numpy.ndarray"
      ]
     },
     "execution_count": 71,
     "metadata": {},
     "output_type": "execute_result"
    }
   ],
   "source": [
    "# We can change this data into numpy\n",
    "type(data.Age.values)"
   ]
  },
  {
   "cell_type": "markdown",
   "metadata": {},
   "source": [
    "#### Just like in numpy, we can use mean, var, and other functions on the data"
   ]
  },
  {
   "cell_type": "code",
   "execution_count": 72,
   "metadata": {
    "collapsed": false
   },
   "outputs": [
    {
     "name": "stdout",
     "output_type": "stream",
     "text": [
      "29.4825506445\n",
      "557.292044027\n",
      "108\n",
      "0\n"
     ]
    }
   ],
   "source": [
    "print data.Age.mean()\n",
    "print data.Age.var()\n",
    "print data.Age.max()\n",
    "print data.Age.min()"
   ]
  },
  {
   "cell_type": "code",
   "execution_count": 73,
   "metadata": {
    "collapsed": true
   },
   "outputs": [],
   "source": [
    "# Function that groups users by age.\n",
    "def map_age_category(x):\n",
    "    if x < 18:\n",
    "        return '1'\n",
    "    elif x < 25:\n",
    "        return '2'\n",
    "    elif x < 32:\n",
    "        return '3'\n",
    "    elif x < 45:\n",
    "        return '4'\n",
    "    else:\n",
    "        return '5'\n",
    "\n",
    "data['age_categories'] = data['Age'].apply(map_age_category)"
   ]
  },
  {
   "cell_type": "code",
   "execution_count": 74,
   "metadata": {
    "collapsed": false
   },
   "outputs": [
    {
     "data": {
      "text/html": [
       "<div>\n",
       "<table border=\"1\" class=\"dataframe\">\n",
       "  <thead>\n",
       "    <tr style=\"text-align: right;\">\n",
       "      <th></th>\n",
       "      <th>Age</th>\n",
       "      <th>Gender</th>\n",
       "      <th>Impressions</th>\n",
       "      <th>Clicks</th>\n",
       "      <th>Signed_In</th>\n",
       "      <th>age_categories</th>\n",
       "    </tr>\n",
       "  </thead>\n",
       "  <tbody>\n",
       "    <tr>\n",
       "      <th>0</th>\n",
       "      <td>36</td>\n",
       "      <td>0</td>\n",
       "      <td>3</td>\n",
       "      <td>0</td>\n",
       "      <td>1</td>\n",
       "      <td>4</td>\n",
       "    </tr>\n",
       "    <tr>\n",
       "      <th>1</th>\n",
       "      <td>73</td>\n",
       "      <td>1</td>\n",
       "      <td>3</td>\n",
       "      <td>0</td>\n",
       "      <td>1</td>\n",
       "      <td>5</td>\n",
       "    </tr>\n",
       "    <tr>\n",
       "      <th>2</th>\n",
       "      <td>30</td>\n",
       "      <td>0</td>\n",
       "      <td>3</td>\n",
       "      <td>0</td>\n",
       "      <td>1</td>\n",
       "      <td>3</td>\n",
       "    </tr>\n",
       "    <tr>\n",
       "      <th>3</th>\n",
       "      <td>49</td>\n",
       "      <td>1</td>\n",
       "      <td>3</td>\n",
       "      <td>0</td>\n",
       "      <td>1</td>\n",
       "      <td>5</td>\n",
       "    </tr>\n",
       "    <tr>\n",
       "      <th>4</th>\n",
       "      <td>47</td>\n",
       "      <td>1</td>\n",
       "      <td>11</td>\n",
       "      <td>0</td>\n",
       "      <td>1</td>\n",
       "      <td>5</td>\n",
       "    </tr>\n",
       "  </tbody>\n",
       "</table>\n",
       "</div>"
      ],
      "text/plain": [
       "   Age  Gender  Impressions  Clicks  Signed_In age_categories\n",
       "0   36       0            3       0          1              4\n",
       "1   73       1            3       0          1              5\n",
       "2   30       0            3       0          1              3\n",
       "3   49       1            3       0          1              5\n",
       "4   47       1           11       0          1              5"
      ]
     },
     "execution_count": 74,
     "metadata": {},
     "output_type": "execute_result"
    }
   ],
   "source": [
    "data.head()"
   ]
  },
  {
   "cell_type": "markdown",
   "metadata": {},
   "source": [
    "#### Sorting data"
   ]
  },
  {
   "cell_type": "code",
   "execution_count": 78,
   "metadata": {
    "collapsed": false
   },
   "outputs": [
    {
     "data": {
      "text/html": [
       "<div>\n",
       "<table border=\"1\" class=\"dataframe\">\n",
       "  <thead>\n",
       "    <tr style=\"text-align: right;\">\n",
       "      <th></th>\n",
       "      <th>age_categories</th>\n",
       "      <th>Signed_In</th>\n",
       "      <th>Impressions</th>\n",
       "      <th>Gender</th>\n",
       "      <th>Clicks</th>\n",
       "      <th>Age</th>\n",
       "    </tr>\n",
       "  </thead>\n",
       "  <tbody>\n",
       "    <tr>\n",
       "      <th>0</th>\n",
       "      <td>4</td>\n",
       "      <td>1</td>\n",
       "      <td>3</td>\n",
       "      <td>0</td>\n",
       "      <td>0</td>\n",
       "      <td>36</td>\n",
       "    </tr>\n",
       "    <tr>\n",
       "      <th>1</th>\n",
       "      <td>5</td>\n",
       "      <td>1</td>\n",
       "      <td>3</td>\n",
       "      <td>1</td>\n",
       "      <td>0</td>\n",
       "      <td>73</td>\n",
       "    </tr>\n",
       "    <tr>\n",
       "      <th>2</th>\n",
       "      <td>3</td>\n",
       "      <td>1</td>\n",
       "      <td>3</td>\n",
       "      <td>0</td>\n",
       "      <td>0</td>\n",
       "      <td>30</td>\n",
       "    </tr>\n",
       "    <tr>\n",
       "      <th>3</th>\n",
       "      <td>5</td>\n",
       "      <td>1</td>\n",
       "      <td>3</td>\n",
       "      <td>1</td>\n",
       "      <td>0</td>\n",
       "      <td>49</td>\n",
       "    </tr>\n",
       "    <tr>\n",
       "      <th>4</th>\n",
       "      <td>5</td>\n",
       "      <td>1</td>\n",
       "      <td>11</td>\n",
       "      <td>1</td>\n",
       "      <td>0</td>\n",
       "      <td>47</td>\n",
       "    </tr>\n",
       "  </tbody>\n",
       "</table>\n",
       "</div>"
      ],
      "text/plain": [
       "  age_categories  Signed_In  Impressions  Gender  Clicks  Age\n",
       "0              4          1            3       0       0   36\n",
       "1              5          1            3       1       0   73\n",
       "2              3          1            3       0       0   30\n",
       "3              5          1            3       1       0   49\n",
       "4              5          1           11       1       0   47"
      ]
     },
     "execution_count": 78,
     "metadata": {},
     "output_type": "execute_result"
    }
   ],
   "source": [
    "data.sort_index(axis=1, ascending=False).head()"
   ]
  },
  {
   "cell_type": "code",
   "execution_count": 79,
   "metadata": {
    "collapsed": false
   },
   "outputs": [
    {
     "data": {
      "text/html": [
       "<div>\n",
       "<table border=\"1\" class=\"dataframe\">\n",
       "  <thead>\n",
       "    <tr style=\"text-align: right;\">\n",
       "      <th></th>\n",
       "      <th>Age</th>\n",
       "      <th>Gender</th>\n",
       "      <th>Impressions</th>\n",
       "      <th>Clicks</th>\n",
       "      <th>Signed_In</th>\n",
       "      <th>age_categories</th>\n",
       "    </tr>\n",
       "  </thead>\n",
       "  <tbody>\n",
       "    <tr>\n",
       "      <th>458440</th>\n",
       "      <td>0</td>\n",
       "      <td>0</td>\n",
       "      <td>3</td>\n",
       "      <td>0</td>\n",
       "      <td>0</td>\n",
       "      <td>1</td>\n",
       "    </tr>\n",
       "    <tr>\n",
       "      <th>149914</th>\n",
       "      <td>0</td>\n",
       "      <td>0</td>\n",
       "      <td>5</td>\n",
       "      <td>0</td>\n",
       "      <td>0</td>\n",
       "      <td>1</td>\n",
       "    </tr>\n",
       "    <tr>\n",
       "      <th>149915</th>\n",
       "      <td>0</td>\n",
       "      <td>0</td>\n",
       "      <td>10</td>\n",
       "      <td>1</td>\n",
       "      <td>0</td>\n",
       "      <td>1</td>\n",
       "    </tr>\n",
       "    <tr>\n",
       "      <th>149916</th>\n",
       "      <td>0</td>\n",
       "      <td>0</td>\n",
       "      <td>6</td>\n",
       "      <td>1</td>\n",
       "      <td>0</td>\n",
       "      <td>1</td>\n",
       "    </tr>\n",
       "    <tr>\n",
       "      <th>353762</th>\n",
       "      <td>0</td>\n",
       "      <td>0</td>\n",
       "      <td>3</td>\n",
       "      <td>0</td>\n",
       "      <td>0</td>\n",
       "      <td>1</td>\n",
       "    </tr>\n",
       "  </tbody>\n",
       "</table>\n",
       "</div>"
      ],
      "text/plain": [
       "        Age  Gender  Impressions  Clicks  Signed_In age_categories\n",
       "458440    0       0            3       0          0              1\n",
       "149914    0       0            5       0          0              1\n",
       "149915    0       0           10       1          0              1\n",
       "149916    0       0            6       1          0              1\n",
       "353762    0       0            3       0          0              1"
      ]
     },
     "execution_count": 79,
     "metadata": {},
     "output_type": "execute_result"
    }
   ],
   "source": [
    "data.sort('Signed_In').head()"
   ]
  },
  {
   "cell_type": "code",
   "execution_count": 80,
   "metadata": {
    "collapsed": false
   },
   "outputs": [
    {
     "data": {
      "text/html": [
       "<div>\n",
       "<table border=\"1\" class=\"dataframe\">\n",
       "  <thead>\n",
       "    <tr style=\"text-align: right;\">\n",
       "      <th></th>\n",
       "      <th>col_a</th>\n",
       "      <th>numeric</th>\n",
       "    </tr>\n",
       "  </thead>\n",
       "  <tbody>\n",
       "    <tr>\n",
       "      <th>0</th>\n",
       "      <td>a</td>\n",
       "      <td>1</td>\n",
       "    </tr>\n",
       "    <tr>\n",
       "      <th>1</th>\n",
       "      <td>b</td>\n",
       "      <td>2</td>\n",
       "    </tr>\n",
       "    <tr>\n",
       "      <th>2</th>\n",
       "      <td>c</td>\n",
       "      <td>3</td>\n",
       "    </tr>\n",
       "  </tbody>\n",
       "</table>\n",
       "</div>"
      ],
      "text/plain": [
       "  col_a  numeric\n",
       "0     a        1\n",
       "1     b        2\n",
       "2     c        3"
      ]
     },
     "execution_count": 80,
     "metadata": {},
     "output_type": "execute_result"
    }
   ],
   "source": [
    "ran_data = [\n",
    "    ['a', 1]\n",
    "    , ['b', 2]\n",
    "    , ['c', 3]\n",
    "]\n",
    "df = pd.DataFrame(ran_data, columns=['col_a', 'numeric'])\n",
    "df"
   ]
  },
  {
   "cell_type": "markdown",
   "metadata": {},
   "source": [
    "#### Indexing functions\n",
    "\n",
    "Pandas Dataframes support various methods for indexing:\n",
    "\n",
    "- .iloc\n",
    "- .loc\n",
    "- .ix"
   ]
  },
  {
   "cell_type": "code",
   "execution_count": 81,
   "metadata": {
    "collapsed": false
   },
   "outputs": [
    {
     "data": {
      "text/html": [
       "<div>\n",
       "<table border=\"1\" class=\"dataframe\">\n",
       "  <thead>\n",
       "    <tr style=\"text-align: right;\">\n",
       "      <th></th>\n",
       "      <th>col_a</th>\n",
       "      <th>numeric</th>\n",
       "    </tr>\n",
       "  </thead>\n",
       "  <tbody>\n",
       "    <tr>\n",
       "      <th>0</th>\n",
       "      <td>a</td>\n",
       "      <td>1</td>\n",
       "    </tr>\n",
       "    <tr>\n",
       "      <th>1</th>\n",
       "      <td>b</td>\n",
       "      <td>2</td>\n",
       "    </tr>\n",
       "    <tr>\n",
       "      <th>2</th>\n",
       "      <td>c</td>\n",
       "      <td>3</td>\n",
       "    </tr>\n",
       "  </tbody>\n",
       "</table>\n",
       "</div>"
      ],
      "text/plain": [
       "  col_a  numeric\n",
       "0     a        1\n",
       "1     b        2\n",
       "2     c        3"
      ]
     },
     "execution_count": 81,
     "metadata": {},
     "output_type": "execute_result"
    }
   ],
   "source": [
    "df"
   ]
  },
  {
   "cell_type": "code",
   "execution_count": 82,
   "metadata": {
    "collapsed": false
   },
   "outputs": [
    {
     "data": {
      "text/plain": [
       "col_a      a\n",
       "numeric    1\n",
       "Name: 0, dtype: object"
      ]
     },
     "execution_count": 82,
     "metadata": {},
     "output_type": "execute_result"
    }
   ],
   "source": [
    "# iloc accesses a row by its row number\n",
    "df.iloc[0]"
   ]
  },
  {
   "cell_type": "code",
   "execution_count": 83,
   "metadata": {
    "collapsed": false
   },
   "outputs": [
    {
     "data": {
      "text/html": [
       "<div>\n",
       "<table border=\"1\" class=\"dataframe\">\n",
       "  <thead>\n",
       "    <tr style=\"text-align: right;\">\n",
       "      <th></th>\n",
       "      <th>numeric</th>\n",
       "    </tr>\n",
       "    <tr>\n",
       "      <th>col_a</th>\n",
       "      <th></th>\n",
       "    </tr>\n",
       "  </thead>\n",
       "  <tbody>\n",
       "    <tr>\n",
       "      <th>a</th>\n",
       "      <td>1</td>\n",
       "    </tr>\n",
       "    <tr>\n",
       "      <th>b</th>\n",
       "      <td>2</td>\n",
       "    </tr>\n",
       "    <tr>\n",
       "      <th>c</th>\n",
       "      <td>3</td>\n",
       "    </tr>\n",
       "  </tbody>\n",
       "</table>\n",
       "</div>"
      ],
      "text/plain": [
       "       numeric\n",
       "col_a         \n",
       "a            1\n",
       "b            2\n",
       "c            3"
      ]
     },
     "execution_count": 83,
     "metadata": {},
     "output_type": "execute_result"
    }
   ],
   "source": [
    "df.set_index('col_a', inplace = True)\n",
    "df"
   ]
  },
  {
   "cell_type": "code",
   "execution_count": 84,
   "metadata": {
    "collapsed": false
   },
   "outputs": [],
   "source": [
    "# loc accesses a dataframe row by its index label (or column label)\n",
    "df.loc['a'] = 5\n",
    "df.loc['b'] = 3"
   ]
  },
  {
   "cell_type": "code",
   "execution_count": 85,
   "metadata": {
    "collapsed": false
   },
   "outputs": [
    {
     "data": {
      "text/html": [
       "<div>\n",
       "<table border=\"1\" class=\"dataframe\">\n",
       "  <thead>\n",
       "    <tr style=\"text-align: right;\">\n",
       "      <th></th>\n",
       "      <th>numeric</th>\n",
       "    </tr>\n",
       "    <tr>\n",
       "      <th>col_a</th>\n",
       "      <th></th>\n",
       "    </tr>\n",
       "  </thead>\n",
       "  <tbody>\n",
       "    <tr>\n",
       "      <th>a</th>\n",
       "      <td>5</td>\n",
       "    </tr>\n",
       "    <tr>\n",
       "      <th>b</th>\n",
       "      <td>3</td>\n",
       "    </tr>\n",
       "    <tr>\n",
       "      <th>c</th>\n",
       "      <td>3</td>\n",
       "    </tr>\n",
       "  </tbody>\n",
       "</table>\n",
       "</div>"
      ],
      "text/plain": [
       "       numeric\n",
       "col_a         \n",
       "a            5\n",
       "b            3\n",
       "c            3"
      ]
     },
     "execution_count": 85,
     "metadata": {},
     "output_type": "execute_result"
    }
   ],
   "source": [
    "df"
   ]
  },
  {
   "cell_type": "code",
   "execution_count": 86,
   "metadata": {
    "collapsed": false
   },
   "outputs": [
    {
     "data": {
      "text/html": [
       "<div>\n",
       "<table border=\"1\" class=\"dataframe\">\n",
       "  <thead>\n",
       "    <tr style=\"text-align: right;\">\n",
       "      <th></th>\n",
       "      <th>numeric</th>\n",
       "      <th>C</th>\n",
       "    </tr>\n",
       "    <tr>\n",
       "      <th>col_a</th>\n",
       "      <th></th>\n",
       "      <th></th>\n",
       "    </tr>\n",
       "  </thead>\n",
       "  <tbody>\n",
       "    <tr>\n",
       "      <th>a</th>\n",
       "      <td>5</td>\n",
       "      <td>5</td>\n",
       "    </tr>\n",
       "    <tr>\n",
       "      <th>b</th>\n",
       "      <td>3</td>\n",
       "      <td>3</td>\n",
       "    </tr>\n",
       "    <tr>\n",
       "      <th>c</th>\n",
       "      <td>3</td>\n",
       "      <td>3</td>\n",
       "    </tr>\n",
       "  </tbody>\n",
       "</table>\n",
       "</div>"
      ],
      "text/plain": [
       "       numeric  C\n",
       "col_a            \n",
       "a            5  5\n",
       "b            3  3\n",
       "c            3  3"
      ]
     },
     "execution_count": 86,
     "metadata": {},
     "output_type": "execute_result"
    }
   ],
   "source": [
    "# This can be used to add new columns\n",
    "df.loc[:,'C'] = df.loc[:,'numeric']\n",
    "\n",
    "df"
   ]
  },
  {
   "cell_type": "code",
   "execution_count": 87,
   "metadata": {
    "collapsed": false
   },
   "outputs": [
    {
     "data": {
      "text/html": [
       "<div>\n",
       "<table border=\"1\" class=\"dataframe\">\n",
       "  <thead>\n",
       "    <tr style=\"text-align: right;\">\n",
       "      <th></th>\n",
       "      <th>numeric</th>\n",
       "      <th>C</th>\n",
       "      <th>D</th>\n",
       "    </tr>\n",
       "    <tr>\n",
       "      <th>col_a</th>\n",
       "      <th></th>\n",
       "      <th></th>\n",
       "      <th></th>\n",
       "    </tr>\n",
       "  </thead>\n",
       "  <tbody>\n",
       "    <tr>\n",
       "      <th>a</th>\n",
       "      <td>5</td>\n",
       "      <td>5</td>\n",
       "      <td>5</td>\n",
       "    </tr>\n",
       "    <tr>\n",
       "      <th>b</th>\n",
       "      <td>3</td>\n",
       "      <td>3</td>\n",
       "      <td>3</td>\n",
       "    </tr>\n",
       "    <tr>\n",
       "      <th>c</th>\n",
       "      <td>3</td>\n",
       "      <td>3</td>\n",
       "      <td>3</td>\n",
       "    </tr>\n",
       "  </tbody>\n",
       "</table>\n",
       "</div>"
      ],
      "text/plain": [
       "       numeric  C  D\n",
       "col_a               \n",
       "a            5  5  5\n",
       "b            3  3  3\n",
       "c            3  3  3"
      ]
     },
     "execution_count": 87,
     "metadata": {},
     "output_type": "execute_result"
    }
   ],
   "source": [
    "# is equivalent to:\n",
    "df['D'] = df.loc[:,'numeric']\n",
    "\n",
    "df"
   ]
  },
  {
   "cell_type": "markdown",
   "metadata": {},
   "source": [
    ".ix is the generic form of indexers\n",
    "\n",
    "Values can be set by index and index + column"
   ]
  },
  {
   "cell_type": "code",
   "execution_count": 88,
   "metadata": {
    "collapsed": false
   },
   "outputs": [
    {
     "data": {
      "text/html": [
       "<div>\n",
       "<table border=\"1\" class=\"dataframe\">\n",
       "  <thead>\n",
       "    <tr style=\"text-align: right;\">\n",
       "      <th></th>\n",
       "      <th>numeric</th>\n",
       "      <th>C</th>\n",
       "      <th>D</th>\n",
       "    </tr>\n",
       "    <tr>\n",
       "      <th>col_a</th>\n",
       "      <th></th>\n",
       "      <th></th>\n",
       "      <th></th>\n",
       "    </tr>\n",
       "  </thead>\n",
       "  <tbody>\n",
       "    <tr>\n",
       "      <th>a</th>\n",
       "      <td>5</td>\n",
       "      <td>5</td>\n",
       "      <td>5</td>\n",
       "    </tr>\n",
       "    <tr>\n",
       "      <th>b</th>\n",
       "      <td>3</td>\n",
       "      <td>3</td>\n",
       "      <td>3</td>\n",
       "    </tr>\n",
       "    <tr>\n",
       "      <th>c</th>\n",
       "      <td>2</td>\n",
       "      <td>3</td>\n",
       "      <td>2</td>\n",
       "    </tr>\n",
       "  </tbody>\n",
       "</table>\n",
       "</div>"
      ],
      "text/plain": [
       "       numeric  C  D\n",
       "col_a               \n",
       "a            5  5  5\n",
       "b            3  3  3\n",
       "c            2  3  2"
      ]
     },
     "execution_count": 88,
     "metadata": {},
     "output_type": "execute_result"
    }
   ],
   "source": [
    "df.ix[2] = 2\n",
    "df.ix[2, 'C'] = 3\n",
    "\n",
    "df"
   ]
  },
  {
   "cell_type": "markdown",
   "metadata": {},
   "source": [
    "### Combining DataFrames\n",
    "#### Appending\n",
    "We can append dataframes together"
   ]
  },
  {
   "cell_type": "code",
   "execution_count": 89,
   "metadata": {
    "collapsed": false
   },
   "outputs": [
    {
     "data": {
      "text/html": [
       "<div>\n",
       "<table border=\"1\" class=\"dataframe\">\n",
       "  <thead>\n",
       "    <tr style=\"text-align: right;\">\n",
       "      <th></th>\n",
       "      <th>numeric</th>\n",
       "      <th>C</th>\n",
       "      <th>D</th>\n",
       "    </tr>\n",
       "    <tr>\n",
       "      <th>col_a</th>\n",
       "      <th></th>\n",
       "      <th></th>\n",
       "      <th></th>\n",
       "    </tr>\n",
       "  </thead>\n",
       "  <tbody>\n",
       "    <tr>\n",
       "      <th>a</th>\n",
       "      <td>5</td>\n",
       "      <td>5</td>\n",
       "      <td>5</td>\n",
       "    </tr>\n",
       "    <tr>\n",
       "      <th>b</th>\n",
       "      <td>3</td>\n",
       "      <td>3</td>\n",
       "      <td>3</td>\n",
       "    </tr>\n",
       "    <tr>\n",
       "      <th>c</th>\n",
       "      <td>2</td>\n",
       "      <td>3</td>\n",
       "      <td>2</td>\n",
       "    </tr>\n",
       "    <tr>\n",
       "      <th>a</th>\n",
       "      <td>5</td>\n",
       "      <td>5</td>\n",
       "      <td>5</td>\n",
       "    </tr>\n",
       "    <tr>\n",
       "      <th>b</th>\n",
       "      <td>3</td>\n",
       "      <td>3</td>\n",
       "      <td>3</td>\n",
       "    </tr>\n",
       "    <tr>\n",
       "      <th>c</th>\n",
       "      <td>2</td>\n",
       "      <td>3</td>\n",
       "      <td>2</td>\n",
       "    </tr>\n",
       "  </tbody>\n",
       "</table>\n",
       "</div>"
      ],
      "text/plain": [
       "       numeric  C  D\n",
       "col_a               \n",
       "a            5  5  5\n",
       "b            3  3  3\n",
       "c            2  3  2\n",
       "a            5  5  5\n",
       "b            3  3  3\n",
       "c            2  3  2"
      ]
     },
     "execution_count": 89,
     "metadata": {},
     "output_type": "execute_result"
    }
   ],
   "source": [
    "df_combine = df.append(df)\n",
    "df_combine"
   ]
  },
  {
   "cell_type": "code",
   "execution_count": 90,
   "metadata": {
    "collapsed": false
   },
   "outputs": [
    {
     "data": {
      "text/html": [
       "<div>\n",
       "<table border=\"1\" class=\"dataframe\">\n",
       "  <thead>\n",
       "    <tr style=\"text-align: right;\">\n",
       "      <th></th>\n",
       "      <th>col_a</th>\n",
       "      <th>numeric</th>\n",
       "      <th>C</th>\n",
       "      <th>D</th>\n",
       "    </tr>\n",
       "  </thead>\n",
       "  <tbody>\n",
       "    <tr>\n",
       "      <th>0</th>\n",
       "      <td>a</td>\n",
       "      <td>5</td>\n",
       "      <td>5</td>\n",
       "      <td>5</td>\n",
       "    </tr>\n",
       "    <tr>\n",
       "      <th>1</th>\n",
       "      <td>b</td>\n",
       "      <td>3</td>\n",
       "      <td>3</td>\n",
       "      <td>3</td>\n",
       "    </tr>\n",
       "    <tr>\n",
       "      <th>2</th>\n",
       "      <td>c</td>\n",
       "      <td>2</td>\n",
       "      <td>3</td>\n",
       "      <td>2</td>\n",
       "    </tr>\n",
       "    <tr>\n",
       "      <th>3</th>\n",
       "      <td>a</td>\n",
       "      <td>5</td>\n",
       "      <td>5</td>\n",
       "      <td>5</td>\n",
       "    </tr>\n",
       "    <tr>\n",
       "      <th>4</th>\n",
       "      <td>b</td>\n",
       "      <td>3</td>\n",
       "      <td>3</td>\n",
       "      <td>3</td>\n",
       "    </tr>\n",
       "    <tr>\n",
       "      <th>5</th>\n",
       "      <td>c</td>\n",
       "      <td>2</td>\n",
       "      <td>3</td>\n",
       "      <td>2</td>\n",
       "    </tr>\n",
       "  </tbody>\n",
       "</table>\n",
       "</div>"
      ],
      "text/plain": [
       "  col_a  numeric  C  D\n",
       "0     a        5  5  5\n",
       "1     b        3  3  3\n",
       "2     c        2  3  2\n",
       "3     a        5  5  5\n",
       "4     b        3  3  3\n",
       "5     c        2  3  2"
      ]
     },
     "execution_count": 90,
     "metadata": {},
     "output_type": "execute_result"
    }
   ],
   "source": [
    "# When DataFrames are appended together, we often need to create a new index\n",
    "df_combine.reset_index()"
   ]
  },
  {
   "cell_type": "markdown",
   "metadata": {},
   "source": [
    "#### Join lets us join together dataframes using their index"
   ]
  },
  {
   "cell_type": "code",
   "execution_count": 91,
   "metadata": {
    "collapsed": false
   },
   "outputs": [
    {
     "data": {
      "text/html": [
       "<div>\n",
       "<table border=\"1\" class=\"dataframe\">\n",
       "  <thead>\n",
       "    <tr style=\"text-align: right;\">\n",
       "      <th></th>\n",
       "      <th>col</th>\n",
       "    </tr>\n",
       "  </thead>\n",
       "  <tbody>\n",
       "    <tr>\n",
       "      <th>0</th>\n",
       "      <td>1</td>\n",
       "    </tr>\n",
       "    <tr>\n",
       "      <th>1</th>\n",
       "      <td>2</td>\n",
       "    </tr>\n",
       "    <tr>\n",
       "      <th>2</th>\n",
       "      <td>3</td>\n",
       "    </tr>\n",
       "  </tbody>\n",
       "</table>\n",
       "</div>"
      ],
      "text/plain": [
       "   col\n",
       "0    1\n",
       "1    2\n",
       "2    3"
      ]
     },
     "execution_count": 91,
     "metadata": {},
     "output_type": "execute_result"
    }
   ],
   "source": [
    "df_2 = pd.DataFrame([1, 2, 3], columns=['col'])\n",
    "df_2"
   ]
  },
  {
   "cell_type": "code",
   "execution_count": 92,
   "metadata": {
    "collapsed": false
   },
   "outputs": [
    {
     "data": {
      "text/html": [
       "<div>\n",
       "<table border=\"1\" class=\"dataframe\">\n",
       "  <thead>\n",
       "    <tr style=\"text-align: right;\">\n",
       "      <th></th>\n",
       "      <th>numeric</th>\n",
       "      <th>C</th>\n",
       "      <th>D</th>\n",
       "      <th>col</th>\n",
       "    </tr>\n",
       "    <tr>\n",
       "      <th>col_a</th>\n",
       "      <th></th>\n",
       "      <th></th>\n",
       "      <th></th>\n",
       "      <th></th>\n",
       "    </tr>\n",
       "  </thead>\n",
       "  <tbody>\n",
       "    <tr>\n",
       "      <th>a</th>\n",
       "      <td>5</td>\n",
       "      <td>5</td>\n",
       "      <td>5</td>\n",
       "      <td>NaN</td>\n",
       "    </tr>\n",
       "    <tr>\n",
       "      <th>b</th>\n",
       "      <td>3</td>\n",
       "      <td>3</td>\n",
       "      <td>3</td>\n",
       "      <td>NaN</td>\n",
       "    </tr>\n",
       "    <tr>\n",
       "      <th>c</th>\n",
       "      <td>2</td>\n",
       "      <td>3</td>\n",
       "      <td>2</td>\n",
       "      <td>NaN</td>\n",
       "    </tr>\n",
       "  </tbody>\n",
       "</table>\n",
       "</div>"
      ],
      "text/plain": [
       "       numeric  C  D  col\n",
       "col_a                    \n",
       "a            5  5  5  NaN\n",
       "b            3  3  3  NaN\n",
       "c            2  3  2  NaN"
      ]
     },
     "execution_count": 92,
     "metadata": {},
     "output_type": "execute_result"
    }
   ],
   "source": [
    "# The default is left join, so Null values are placed\n",
    "# where values are misssing\n",
    "df.join(df_2)\n"
   ]
  },
  {
   "cell_type": "code",
   "execution_count": 93,
   "metadata": {
    "collapsed": false
   },
   "outputs": [
    {
     "data": {
      "text/html": [
       "<div>\n",
       "<table border=\"1\" class=\"dataframe\">\n",
       "  <thead>\n",
       "    <tr style=\"text-align: right;\">\n",
       "      <th></th>\n",
       "      <th>col_a</th>\n",
       "      <th>numeric</th>\n",
       "      <th>C</th>\n",
       "      <th>D</th>\n",
       "    </tr>\n",
       "  </thead>\n",
       "  <tbody>\n",
       "    <tr>\n",
       "      <th>0</th>\n",
       "      <td>a</td>\n",
       "      <td>5</td>\n",
       "      <td>5</td>\n",
       "      <td>5</td>\n",
       "    </tr>\n",
       "    <tr>\n",
       "      <th>1</th>\n",
       "      <td>b</td>\n",
       "      <td>3</td>\n",
       "      <td>3</td>\n",
       "      <td>3</td>\n",
       "    </tr>\n",
       "    <tr>\n",
       "      <th>2</th>\n",
       "      <td>c</td>\n",
       "      <td>2</td>\n",
       "      <td>3</td>\n",
       "      <td>2</td>\n",
       "    </tr>\n",
       "  </tbody>\n",
       "</table>\n",
       "</div>"
      ],
      "text/plain": [
       "  col_a  numeric  C  D\n",
       "0     a        5  5  5\n",
       "1     b        3  3  3\n",
       "2     c        2  3  2"
      ]
     },
     "execution_count": 93,
     "metadata": {},
     "output_type": "execute_result"
    }
   ],
   "source": [
    "# reset the index\n",
    "df_1 = df.reset_index()\n",
    "df_1"
   ]
  },
  {
   "cell_type": "code",
   "execution_count": 94,
   "metadata": {
    "collapsed": false
   },
   "outputs": [
    {
     "data": {
      "text/html": [
       "<div>\n",
       "<table border=\"1\" class=\"dataframe\">\n",
       "  <thead>\n",
       "    <tr style=\"text-align: right;\">\n",
       "      <th></th>\n",
       "      <th>col_a</th>\n",
       "      <th>numeric</th>\n",
       "      <th>C</th>\n",
       "      <th>D</th>\n",
       "      <th>col</th>\n",
       "    </tr>\n",
       "  </thead>\n",
       "  <tbody>\n",
       "    <tr>\n",
       "      <th>0</th>\n",
       "      <td>a</td>\n",
       "      <td>5</td>\n",
       "      <td>5</td>\n",
       "      <td>5</td>\n",
       "      <td>1</td>\n",
       "    </tr>\n",
       "    <tr>\n",
       "      <th>1</th>\n",
       "      <td>b</td>\n",
       "      <td>3</td>\n",
       "      <td>3</td>\n",
       "      <td>3</td>\n",
       "      <td>2</td>\n",
       "    </tr>\n",
       "    <tr>\n",
       "      <th>2</th>\n",
       "      <td>c</td>\n",
       "      <td>2</td>\n",
       "      <td>3</td>\n",
       "      <td>2</td>\n",
       "      <td>3</td>\n",
       "    </tr>\n",
       "  </tbody>\n",
       "</table>\n",
       "</div>"
      ],
      "text/plain": [
       "  col_a  numeric  C  D  col\n",
       "0     a        5  5  5    1\n",
       "1     b        3  3  3    2\n",
       "2     c        2  3  2    3"
      ]
     },
     "execution_count": 94,
     "metadata": {},
     "output_type": "execute_result"
    }
   ],
   "source": [
    "# try joining again:\n",
    "df_1.join(df_2)\n"
   ]
  },
  {
   "cell_type": "markdown",
   "metadata": {},
   "source": [
    "#### Merge allows us to join on any fields"
   ]
  },
  {
   "cell_type": "code",
   "execution_count": 95,
   "metadata": {
    "collapsed": false
   },
   "outputs": [
    {
     "data": {
      "text/html": [
       "<div>\n",
       "<table border=\"1\" class=\"dataframe\">\n",
       "  <thead>\n",
       "    <tr style=\"text-align: right;\">\n",
       "      <th></th>\n",
       "      <th>numeric</th>\n",
       "      <th>C</th>\n",
       "      <th>D</th>\n",
       "      <th>col</th>\n",
       "    </tr>\n",
       "  </thead>\n",
       "  <tbody>\n",
       "    <tr>\n",
       "      <th>0</th>\n",
       "      <td>3</td>\n",
       "      <td>3</td>\n",
       "      <td>3</td>\n",
       "      <td>3</td>\n",
       "    </tr>\n",
       "    <tr>\n",
       "      <th>1</th>\n",
       "      <td>2</td>\n",
       "      <td>3</td>\n",
       "      <td>2</td>\n",
       "      <td>2</td>\n",
       "    </tr>\n",
       "  </tbody>\n",
       "</table>\n",
       "</div>"
      ],
      "text/plain": [
       "   numeric  C  D  col\n",
       "0        3  3  3    3\n",
       "1        2  3  2    2"
      ]
     },
     "execution_count": 95,
     "metadata": {},
     "output_type": "execute_result"
    }
   ],
   "source": [
    "# Merge has a default of inner join\n",
    "# So where the join misses rows are omitted\n",
    "df.merge(df_2, left_on='numeric', right_on='col')"
   ]
  },
  {
   "cell_type": "markdown",
   "metadata": {},
   "source": [
    "### Concat combines a list of DataFrames together"
   ]
  },
  {
   "cell_type": "code",
   "execution_count": 96,
   "metadata": {
    "collapsed": false
   },
   "outputs": [
    {
     "data": {
      "text/html": [
       "<div>\n",
       "<table border=\"1\" class=\"dataframe\">\n",
       "  <thead>\n",
       "    <tr style=\"text-align: right;\">\n",
       "      <th></th>\n",
       "      <th>numeric</th>\n",
       "      <th>C</th>\n",
       "      <th>D</th>\n",
       "    </tr>\n",
       "    <tr>\n",
       "      <th>col_a</th>\n",
       "      <th></th>\n",
       "      <th></th>\n",
       "      <th></th>\n",
       "    </tr>\n",
       "  </thead>\n",
       "  <tbody>\n",
       "    <tr>\n",
       "      <th>a</th>\n",
       "      <td>5</td>\n",
       "      <td>5</td>\n",
       "      <td>5</td>\n",
       "    </tr>\n",
       "    <tr>\n",
       "      <th>b</th>\n",
       "      <td>3</td>\n",
       "      <td>3</td>\n",
       "      <td>3</td>\n",
       "    </tr>\n",
       "    <tr>\n",
       "      <th>c</th>\n",
       "      <td>2</td>\n",
       "      <td>3</td>\n",
       "      <td>2</td>\n",
       "    </tr>\n",
       "    <tr>\n",
       "      <th>a</th>\n",
       "      <td>5</td>\n",
       "      <td>5</td>\n",
       "      <td>5</td>\n",
       "    </tr>\n",
       "    <tr>\n",
       "      <th>b</th>\n",
       "      <td>3</td>\n",
       "      <td>3</td>\n",
       "      <td>3</td>\n",
       "    </tr>\n",
       "    <tr>\n",
       "      <th>c</th>\n",
       "      <td>2</td>\n",
       "      <td>3</td>\n",
       "      <td>2</td>\n",
       "    </tr>\n",
       "  </tbody>\n",
       "</table>\n",
       "</div>"
      ],
      "text/plain": [
       "       numeric  C  D\n",
       "col_a               \n",
       "a            5  5  5\n",
       "b            3  3  3\n",
       "c            2  3  2\n",
       "a            5  5  5\n",
       "b            3  3  3\n",
       "c            2  3  2"
      ]
     },
     "execution_count": 96,
     "metadata": {},
     "output_type": "execute_result"
    }
   ],
   "source": [
    "# It can be used like append\n",
    "pd.concat([df, df])"
   ]
  },
  {
   "cell_type": "code",
   "execution_count": 97,
   "metadata": {
    "collapsed": false
   },
   "outputs": [
    {
     "data": {
      "text/html": [
       "<div>\n",
       "<table border=\"1\" class=\"dataframe\">\n",
       "  <thead>\n",
       "    <tr style=\"text-align: right;\">\n",
       "      <th></th>\n",
       "      <th>C</th>\n",
       "      <th>D</th>\n",
       "      <th>col</th>\n",
       "      <th>numeric</th>\n",
       "    </tr>\n",
       "    <tr>\n",
       "      <th>col_a</th>\n",
       "      <th></th>\n",
       "      <th></th>\n",
       "      <th></th>\n",
       "      <th></th>\n",
       "    </tr>\n",
       "  </thead>\n",
       "  <tbody>\n",
       "    <tr>\n",
       "      <th>a</th>\n",
       "      <td>5</td>\n",
       "      <td>5</td>\n",
       "      <td>NaN</td>\n",
       "      <td>5</td>\n",
       "    </tr>\n",
       "    <tr>\n",
       "      <th>b</th>\n",
       "      <td>3</td>\n",
       "      <td>3</td>\n",
       "      <td>NaN</td>\n",
       "      <td>3</td>\n",
       "    </tr>\n",
       "    <tr>\n",
       "      <th>c</th>\n",
       "      <td>3</td>\n",
       "      <td>2</td>\n",
       "      <td>NaN</td>\n",
       "      <td>2</td>\n",
       "    </tr>\n",
       "    <tr>\n",
       "      <th>0</th>\n",
       "      <td>NaN</td>\n",
       "      <td>NaN</td>\n",
       "      <td>1</td>\n",
       "      <td>NaN</td>\n",
       "    </tr>\n",
       "    <tr>\n",
       "      <th>1</th>\n",
       "      <td>NaN</td>\n",
       "      <td>NaN</td>\n",
       "      <td>2</td>\n",
       "      <td>NaN</td>\n",
       "    </tr>\n",
       "    <tr>\n",
       "      <th>2</th>\n",
       "      <td>NaN</td>\n",
       "      <td>NaN</td>\n",
       "      <td>3</td>\n",
       "      <td>NaN</td>\n",
       "    </tr>\n",
       "  </tbody>\n",
       "</table>\n",
       "</div>"
      ],
      "text/plain": [
       "        C   D  col  numeric\n",
       "col_a                      \n",
       "a       5   5  NaN        5\n",
       "b       3   3  NaN        3\n",
       "c       3   2  NaN        2\n",
       "0     NaN NaN    1      NaN\n",
       "1     NaN NaN    2      NaN\n",
       "2     NaN NaN    3      NaN"
      ]
     },
     "execution_count": 97,
     "metadata": {},
     "output_type": "execute_result"
    }
   ],
   "source": [
    "# But concat will create a spare DataFrame when columns don't match\n",
    "# This can create huge dataframes when mismatches occur\n",
    "pd.concat([df, df_2])"
   ]
  },
  {
   "cell_type": "markdown",
   "metadata": {},
   "source": [
    "## Exercise 2\n",
    "### Combining numpy and pandas"
   ]
  },
  {
   "cell_type": "markdown",
   "metadata": {},
   "source": [
    "1) Create 2 arrays of integers\n",
    "\n",
    "One should be created using np.random"
   ]
  },
  {
   "cell_type": "code",
   "execution_count": 104,
   "metadata": {
    "collapsed": false
   },
   "outputs": [
    {
     "data": {
      "text/plain": [
       "array([[ 0.48687774,  0.17774888,  0.15969847,  0.5298271 ,  0.50237382,\n",
       "         0.93333832,  0.18976512,  0.7716595 ],\n",
       "       [ 0.95429715,  0.74243415,  0.36633304,  0.60871156,  0.69853364,\n",
       "         0.77317055,  0.29758211,  0.47080096]])"
      ]
     },
     "execution_count": 104,
     "metadata": {},
     "output_type": "execute_result"
    }
   ],
   "source": [
    "arr1 = np.arange(10)\n",
    "arr2 = np.random.rand(2,8)\n",
    "\n",
    "arr1\n",
    "arr2"
   ]
  },
  {
   "cell_type": "markdown",
   "metadata": {},
   "source": [
    "2) Turn those arrays into pandas DataFrames\n",
    "\n",
    "The columns can be named numerically"
   ]
  },
  {
   "cell_type": "code",
   "execution_count": null,
   "metadata": {
    "collapsed": false
   },
   "outputs": [],
   "source": []
  },
  {
   "cell_type": "markdown",
   "metadata": {},
   "source": [
    "3) Use some of the summary functions on the dataframes and arrays\n",
    "\n",
    "Show how mean and var give the same response in python and numpy"
   ]
  },
  {
   "cell_type": "code",
   "execution_count": null,
   "metadata": {
    "collapsed": true
   },
   "outputs": [],
   "source": []
  },
  {
   "cell_type": "markdown",
   "metadata": {},
   "source": [
    "\n",
    "4) Add an extra index using .loc"
   ]
  },
  {
   "cell_type": "code",
   "execution_count": null,
   "metadata": {
    "collapsed": true
   },
   "outputs": [],
   "source": []
  },
  {
   "cell_type": "markdown",
   "metadata": {},
   "source": [
    "5) Using merge or join, create a single DataFrame from the two"
   ]
  },
  {
   "cell_type": "code",
   "execution_count": null,
   "metadata": {
    "collapsed": true
   },
   "outputs": [],
   "source": []
  },
  {
   "cell_type": "markdown",
   "metadata": {},
   "source": [
    "6) Try testing out the groupby functions\n",
    "\n",
    "df.groupby(column).agg (agg can be an aggregate function, try sum, max, min...)\n",
    "\n",
    "Resources can be found here: http://pandas.pydata.org/pandas-docs/stable/10min.html#grouping\n"
   ]
  },
  {
   "cell_type": "code",
   "execution_count": null,
   "metadata": {
    "collapsed": true
   },
   "outputs": [],
   "source": []
  },
  {
   "cell_type": "markdown",
   "metadata": {},
   "source": [
    "## Plotting!"
   ]
  },
  {
   "cell_type": "code",
   "execution_count": null,
   "metadata": {
    "collapsed": false
   },
   "outputs": [],
   "source": [
    "import pandas.io.data\n",
    "import datetime\n",
    "import matplotlib.pyplot as plt\n",
    "\n",
    "%matplotlib inline\n",
    "\n",
    "mu, sigma = 0, 0.1\n",
    "normal_dist = np.random.normal(mu, sigma, 1000)\n",
    "aapl = pd.io.data.get_data_yahoo('FB', \n",
    "                                 start=datetime.datetime(2015, 4, 1), \n",
    "                                 end=datetime.datetime(2015, 4, 28))\n",
    "aapl.head()"
   ]
  },
  {
   "cell_type": "markdown",
   "metadata": {},
   "source": [
    "## MatPlotLib\n",
    "\n",
    "MatPlotLib is a standard, granular method for building visualizations. Although tried and true, it can be cumbersome compared to other higher level packages such as Seaborn or Bokeh. Note most visualization packages use matplotlib as their base."
   ]
  },
  {
   "cell_type": "code",
   "execution_count": null,
   "metadata": {
    "collapsed": false
   },
   "outputs": [],
   "source": [
    "fig = plt.figure(figsize=(20,16))\n",
    "\n",
    "ax = fig.add_subplot(2,2,1)\n",
    "ax.plot(aapl.index, aapl['Close'])\n",
    "ax.set_title('Line plots', size=24)\n",
    "\n",
    "ax = fig.add_subplot(2,2,2)\n",
    "ax.plot(aapl['Close'], 'o')\n",
    "ax.set_title('Scatter plots', size=24)\n",
    "\n",
    "ax = fig.add_subplot(2,2,3)\n",
    "ax.hist(normal_dist, bins=50)\n",
    "ax.set_title('Histograms', size=24)\n",
    "ax.set_xlabel('count', size=16)\n",
    "\n",
    "ax = fig.add_subplot(2,2,4)\n",
    "ax.boxplot(normal_dist)\n",
    "ax.set_title('Boxplots', size=24)"
   ]
  },
  {
   "cell_type": "markdown",
   "metadata": {},
   "source": [
    "### Bokeh\n",
    "To install Bokeh, go to a terminal and type:\n",
    "\n",
    "`conda install bokeh` \n",
    "\n",
    "Bokeh is built by the same people that created Anaconda (Continuum Analytics) and is designed out of the box for web display, making it nice for creating presentation ready, interactive visuals quickly. Labs in this course will be shown in Bokeh. Checkout http://bokeh.pydata.org/en/latest/docs/quickstart.html#concepts to see some of the range of capabilities."
   ]
  },
  {
   "cell_type": "code",
   "execution_count": null,
   "metadata": {
    "collapsed": false
   },
   "outputs": [],
   "source": [
    "from bokeh.plotting import figure, output_notebook,show\n",
    "output_notebook()"
   ]
  },
  {
   "cell_type": "code",
   "execution_count": null,
   "metadata": {
    "collapsed": false
   },
   "outputs": [],
   "source": [
    "# prepare some data\n",
    "x = aapl.Low\n",
    "y = aapl['High']\n",
    "\n",
    "# create a new plot with a title and axis labels\n",
    "p = figure(title=\"Stock High vs. Low\", x_axis_label='Low', y_axis_label='High')\n",
    "\n",
    "# add a line renderer with legend and line thickness\n",
    "p.circle(x, y, legend=\"High vs. Low\", line_width=2)\n",
    "\n",
    "# show the results\n",
    "show(p)"
   ]
  },
  {
   "cell_type": "code",
   "execution_count": null,
   "metadata": {
    "collapsed": false
   },
   "outputs": [],
   "source": [
    "x = aapl.index\n",
    "y = aapl.Close\n",
    "p = figure(title=\"Stock Open & Close over time\", x_axis_label='Date', y_axis_label='High',x_axis_type=\"datetime\")\n",
    "# Note that I've declared the x_axis_type\n",
    "p.square(x, y, legend=\"Close\")\n",
    "p.circle(x,aapl.Open,legend='Open',color='red')\n",
    "# show the results\n",
    "show(p)"
   ]
  },
  {
   "cell_type": "markdown",
   "metadata": {},
   "source": [
    "## Pandas Plotting!\n",
    "\n",
    "The plot method is a great, quick way to visualize your dataframes. By selecting the columns you care to view, calling .plot() on the dataframe defaults to a line chart vs. the index.\n",
    "\n",
    "We will be revisiting this so just take a second to appreciate what can be done with one line of code."
   ]
  },
  {
   "cell_type": "code",
   "execution_count": null,
   "metadata": {
    "collapsed": false
   },
   "outputs": [],
   "source": [
    "aapl[['Open','Close']].plot()"
   ]
  },
  {
   "cell_type": "code",
   "execution_count": null,
   "metadata": {
    "collapsed": false
   },
   "outputs": [],
   "source": [
    "aapl[['High','Low','Open','Close']].plot(kind='box')"
   ]
  },
  {
   "cell_type": "code",
   "execution_count": null,
   "metadata": {
    "collapsed": true
   },
   "outputs": [],
   "source": []
  }
 ],
 "metadata": {
  "kernelspec": {
   "display_name": "Python 2",
   "language": "python",
   "name": "python2"
  },
  "language_info": {
   "codemirror_mode": {
    "name": "ipython",
    "version": 2
   },
   "file_extension": ".py",
   "mimetype": "text/x-python",
   "name": "python",
   "nbconvert_exporter": "python",
   "pygments_lexer": "ipython2",
   "version": "2.7.10"
  }
 },
 "nbformat": 4,
 "nbformat_minor": 0
}
